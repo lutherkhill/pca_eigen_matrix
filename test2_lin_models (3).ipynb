{
 "cells": [
  {
   "cell_type": "code",
   "execution_count": 2,
   "metadata": {
    "colab": {},
    "colab_type": "code",
    "id": "uC30G54IMuKb"
   },
   "outputs": [],
   "source": [
    "import numpy as np\n",
    "import pandas as pd\n",
    "import matplotlib.pyplot as plt\n",
    "import sklearn as skl\n",
    "from sklearn.preprocessing import minmax_scale"
   ]
  },
  {
   "cell_type": "code",
   "execution_count": 3,
   "metadata": {
    "colab": {
     "base_uri": "https://localhost:8080/",
     "height": 74,
     "resources": {
      "http://localhost:8080/nbextensions/google.colab/files.js": {
       "data": "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",
       "headers": [
        [
         "content-type",
         "application/javascript"
        ]
       ],
       "ok": true,
       "status": 200,
       "status_text": ""
      }
     }
    },
    "colab_type": "code",
    "executionInfo": {
     "elapsed": 21223,
     "status": "ok",
     "timestamp": 1557018805824,
     "user": {
      "displayName": "luther hill",
      "photoUrl": "",
      "userId": "02669718942280585588"
     },
     "user_tz": 240
    },
    "id": "TxN67SZJKaAS",
    "outputId": "dbce0d6a-96e5-4361-fb67-2987862ad197"
   },
   "outputs": [],
   "source": [
    "#from google.colab import files\n",
    "#uploaded = files.upload()"
   ]
  },
  {
   "cell_type": "code",
   "execution_count": 4,
   "metadata": {
    "colab": {},
    "colab_type": "code",
    "id": "WmuKwoXJOlZQ"
   },
   "outputs": [],
   "source": [
    "df = pd.read_csv(\"binary (1).txt\",sep='\\t',header=(0))"
   ]
  },
  {
   "cell_type": "code",
   "execution_count": 5,
   "metadata": {
    "colab": {
     "base_uri": "https://localhost:8080/",
     "height": 204
    },
    "colab_type": "code",
    "executionInfo": {
     "elapsed": 21390,
     "status": "ok",
     "timestamp": 1557018806021,
     "user": {
      "displayName": "luther hill",
      "photoUrl": "",
      "userId": "02669718942280585588"
     },
     "user_tz": 240
    },
    "id": "ANADAKbdPYse",
    "outputId": "b71d00ce-969a-4d05-dd2b-7ef8b22c3eff"
   },
   "outputs": [
    {
     "data": {
      "text/html": [
       "<div>\n",
       "<table border=\"1\" class=\"dataframe\">\n",
       "  <thead>\n",
       "    <tr style=\"text-align: right;\">\n",
       "      <th></th>\n",
       "      <th>Unnamed: 0</th>\n",
       "      <th>admit</th>\n",
       "      <th>gre</th>\n",
       "      <th>gpa</th>\n",
       "      <th>rank</th>\n",
       "    </tr>\n",
       "  </thead>\n",
       "  <tbody>\n",
       "    <tr>\n",
       "      <th>0</th>\n",
       "      <td>1</td>\n",
       "      <td>0</td>\n",
       "      <td>380</td>\n",
       "      <td>3.61</td>\n",
       "      <td>3</td>\n",
       "    </tr>\n",
       "    <tr>\n",
       "      <th>1</th>\n",
       "      <td>2</td>\n",
       "      <td>1</td>\n",
       "      <td>660</td>\n",
       "      <td>3.67</td>\n",
       "      <td>3</td>\n",
       "    </tr>\n",
       "    <tr>\n",
       "      <th>2</th>\n",
       "      <td>3</td>\n",
       "      <td>1</td>\n",
       "      <td>800</td>\n",
       "      <td>4.00</td>\n",
       "      <td>1</td>\n",
       "    </tr>\n",
       "    <tr>\n",
       "      <th>3</th>\n",
       "      <td>4</td>\n",
       "      <td>1</td>\n",
       "      <td>640</td>\n",
       "      <td>3.19</td>\n",
       "      <td>4</td>\n",
       "    </tr>\n",
       "    <tr>\n",
       "      <th>4</th>\n",
       "      <td>5</td>\n",
       "      <td>0</td>\n",
       "      <td>520</td>\n",
       "      <td>2.93</td>\n",
       "      <td>4</td>\n",
       "    </tr>\n",
       "  </tbody>\n",
       "</table>\n",
       "</div>"
      ],
      "text/plain": [
       "   Unnamed: 0  admit  gre   gpa  rank\n",
       "0           1      0  380  3.61     3\n",
       "1           2      1  660  3.67     3\n",
       "2           3      1  800  4.00     1\n",
       "3           4      1  640  3.19     4\n",
       "4           5      0  520  2.93     4"
      ]
     },
     "execution_count": 5,
     "metadata": {},
     "output_type": "execute_result"
    }
   ],
   "source": [
    "#displays first 5 collums of dataset for review\n",
    "df.head()"
   ]
  },
  {
   "cell_type": "code",
   "execution_count": 6,
   "metadata": {},
   "outputs": [
    {
     "data": {
      "text/html": [
       "<div>\n",
       "<table border=\"1\" class=\"dataframe\">\n",
       "  <thead>\n",
       "    <tr style=\"text-align: right;\">\n",
       "      <th></th>\n",
       "      <th>Unnamed: 0</th>\n",
       "      <th>admit</th>\n",
       "      <th>gre</th>\n",
       "      <th>gpa</th>\n",
       "      <th>rank</th>\n",
       "    </tr>\n",
       "  </thead>\n",
       "  <tbody>\n",
       "    <tr>\n",
       "      <th>count</th>\n",
       "      <td>400.000000</td>\n",
       "      <td>400.000000</td>\n",
       "      <td>400.000000</td>\n",
       "      <td>400.000000</td>\n",
       "      <td>400.00000</td>\n",
       "    </tr>\n",
       "    <tr>\n",
       "      <th>mean</th>\n",
       "      <td>200.500000</td>\n",
       "      <td>0.317500</td>\n",
       "      <td>587.700000</td>\n",
       "      <td>3.389900</td>\n",
       "      <td>2.48500</td>\n",
       "    </tr>\n",
       "    <tr>\n",
       "      <th>std</th>\n",
       "      <td>115.614301</td>\n",
       "      <td>0.466087</td>\n",
       "      <td>115.516536</td>\n",
       "      <td>0.380567</td>\n",
       "      <td>0.94446</td>\n",
       "    </tr>\n",
       "    <tr>\n",
       "      <th>min</th>\n",
       "      <td>1.000000</td>\n",
       "      <td>0.000000</td>\n",
       "      <td>220.000000</td>\n",
       "      <td>2.260000</td>\n",
       "      <td>1.00000</td>\n",
       "    </tr>\n",
       "    <tr>\n",
       "      <th>25%</th>\n",
       "      <td>100.750000</td>\n",
       "      <td>0.000000</td>\n",
       "      <td>520.000000</td>\n",
       "      <td>3.130000</td>\n",
       "      <td>2.00000</td>\n",
       "    </tr>\n",
       "    <tr>\n",
       "      <th>50%</th>\n",
       "      <td>200.500000</td>\n",
       "      <td>0.000000</td>\n",
       "      <td>580.000000</td>\n",
       "      <td>3.395000</td>\n",
       "      <td>2.00000</td>\n",
       "    </tr>\n",
       "    <tr>\n",
       "      <th>75%</th>\n",
       "      <td>300.250000</td>\n",
       "      <td>1.000000</td>\n",
       "      <td>660.000000</td>\n",
       "      <td>3.670000</td>\n",
       "      <td>3.00000</td>\n",
       "    </tr>\n",
       "    <tr>\n",
       "      <th>max</th>\n",
       "      <td>400.000000</td>\n",
       "      <td>1.000000</td>\n",
       "      <td>800.000000</td>\n",
       "      <td>4.000000</td>\n",
       "      <td>4.00000</td>\n",
       "    </tr>\n",
       "  </tbody>\n",
       "</table>\n",
       "</div>"
      ],
      "text/plain": [
       "       Unnamed: 0       admit         gre         gpa       rank\n",
       "count  400.000000  400.000000  400.000000  400.000000  400.00000\n",
       "mean   200.500000    0.317500  587.700000    3.389900    2.48500\n",
       "std    115.614301    0.466087  115.516536    0.380567    0.94446\n",
       "min      1.000000    0.000000  220.000000    2.260000    1.00000\n",
       "25%    100.750000    0.000000  520.000000    3.130000    2.00000\n",
       "50%    200.500000    0.000000  580.000000    3.395000    2.00000\n",
       "75%    300.250000    1.000000  660.000000    3.670000    3.00000\n",
       "max    400.000000    1.000000  800.000000    4.000000    4.00000"
      ]
     },
     "execution_count": 6,
     "metadata": {},
     "output_type": "execute_result"
    }
   ],
   "source": [
    "## Taking a look at the data\n",
    "df.describe()"
   ]
  },
  {
   "cell_type": "markdown",
   "metadata": {},
   "source": [
    "# Problem Statement 1"
   ]
  },
  {
   "cell_type": "code",
   "execution_count": 7,
   "metadata": {
    "colab": {},
    "colab_type": "code",
    "id": "6tjlMpJxPm7N"
   },
   "outputs": [],
   "source": [
    "dependent_variable = df['admit']\n",
    "independent_variable = df[['gre', 'gpa']]"
   ]
  },
  {
   "cell_type": "code",
   "execution_count": 8,
   "metadata": {
    "colab": {
     "base_uri": "https://localhost:8080/",
     "height": 221
    },
    "colab_type": "code",
    "executionInfo": {
     "elapsed": 21372,
     "status": "ok",
     "timestamp": 1557018806024,
     "user": {
      "displayName": "luther hill",
      "photoUrl": "",
      "userId": "02669718942280585588"
     },
     "user_tz": 240
    },
    "id": "7ktJJyqGRsUK",
    "outputId": "c5b19bbf-000f-4b06-e9b6-a69a07347fa1"
   },
   "outputs": [
    {
     "name": "stdout",
     "output_type": "stream",
     "text": [
      "0    0\n",
      "1    1\n",
      "2    1\n",
      "3    1\n",
      "4    0\n",
      "Name: admit, dtype: int64\n",
      "   gre   gpa\n",
      "0  380  3.61\n",
      "1  660  3.67\n",
      "2  800  4.00\n",
      "3  640  3.19\n",
      "4  520  2.93\n"
     ]
    }
   ],
   "source": [
    "print(dependent_variable.head())\n",
    "\n",
    "print(independent_variable.head())"
   ]
  },
  {
   "cell_type": "code",
   "execution_count": 9,
   "metadata": {
    "colab": {
     "base_uri": "https://localhost:8080/",
     "height": 68
    },
    "colab_type": "code",
    "executionInfo": {
     "elapsed": 21361,
     "status": "ok",
     "timestamp": 1557018806025,
     "user": {
      "displayName": "luther hill",
      "photoUrl": "",
      "userId": "02669718942280585588"
     },
     "user_tz": 240
    },
    "id": "8tfJHPwZSXMf",
    "outputId": "42a2887b-7d23-46e2-87b3-35fd0f371461"
   },
   "outputs": [
    {
     "data": {
      "text/plain": [
       "gre    587.7000\n",
       "gpa      3.3899\n",
       "dtype: float64"
      ]
     },
     "execution_count": 9,
     "metadata": {},
     "output_type": "execute_result"
    }
   ],
   "source": [
    "#calculate and display mean of gre and gpa\n",
    "np.mean(independent_variable)"
   ]
  },
  {
   "cell_type": "code",
   "execution_count": 10,
   "metadata": {
    "colab": {
     "base_uri": "https://localhost:8080/",
     "height": 68
    },
    "colab_type": "code",
    "executionInfo": {
     "elapsed": 21353,
     "status": "ok",
     "timestamp": 1557018806026,
     "user": {
      "displayName": "luther hill",
      "photoUrl": "",
      "userId": "02669718942280585588"
     },
     "user_tz": 240
    },
    "id": "omgFOEBTSXJk",
    "outputId": "6812cb24-15c2-4a00-b0ec-b4d1cefb9e61"
   },
   "outputs": [
    {
     "data": {
      "text/plain": [
       "gre    115.372050\n",
       "gpa      0.380091\n",
       "dtype: float64"
      ]
     },
     "execution_count": 10,
     "metadata": {},
     "output_type": "execute_result"
    }
   ],
   "source": [
    "#calculate and display standard deviation of gre and gpa\n",
    "np.std(independent_variable)"
   ]
  },
  {
   "cell_type": "code",
   "execution_count": 11,
   "metadata": {
    "colab": {
     "base_uri": "https://localhost:8080/",
     "height": 71
    },
    "colab_type": "code",
    "executionInfo": {
     "elapsed": 21342,
     "status": "ok",
     "timestamp": 1557018806027,
     "user": {
      "displayName": "luther hill",
      "photoUrl": "",
      "userId": "02669718942280585588"
     },
     "user_tz": 240
    },
    "id": "AjdPu7SrTAlw",
    "outputId": "30f35e7c-6183-43f2-94df-0cc9bfc8cc71"
   },
   "outputs": [],
   "source": [
    "#normalize varibale using the minmax_scale function\n",
    "norm_inde_var = minmax_scale(independent_variable)"
   ]
  },
  {
   "cell_type": "code",
   "execution_count": 12,
   "metadata": {
    "colab": {
     "base_uri": "https://localhost:8080/",
     "height": 163
    },
    "colab_type": "code",
    "executionInfo": {
     "elapsed": 332,
     "status": "error",
     "timestamp": 1557018818149,
     "user": {
      "displayName": "luther hill",
      "photoUrl": "",
      "userId": "02669718942280585588"
     },
     "user_tz": 240
    },
    "id": "uXxFeP4uU5iF",
    "outputId": "242036af-0ac7-4774-a3ff-8c5db4c41700"
   },
   "outputs": [],
   "source": [
    "df_inde_var = pd.DataFrame(norm_inde_var)"
   ]
  },
  {
   "cell_type": "code",
   "execution_count": 13,
   "metadata": {
    "colab": {},
    "colab_type": "code",
    "id": "dgBhC3peWJEW"
   },
   "outputs": [
    {
     "data": {
      "text/html": [
       "<div>\n",
       "<table border=\"1\" class=\"dataframe\">\n",
       "  <thead>\n",
       "    <tr style=\"text-align: right;\">\n",
       "      <th></th>\n",
       "      <th>0</th>\n",
       "      <th>1</th>\n",
       "    </tr>\n",
       "  </thead>\n",
       "  <tbody>\n",
       "    <tr>\n",
       "      <th>0</th>\n",
       "      <td>0.275862</td>\n",
       "      <td>0.775862</td>\n",
       "    </tr>\n",
       "    <tr>\n",
       "      <th>1</th>\n",
       "      <td>0.758621</td>\n",
       "      <td>0.810345</td>\n",
       "    </tr>\n",
       "    <tr>\n",
       "      <th>2</th>\n",
       "      <td>1.000000</td>\n",
       "      <td>1.000000</td>\n",
       "    </tr>\n",
       "    <tr>\n",
       "      <th>3</th>\n",
       "      <td>0.724138</td>\n",
       "      <td>0.534483</td>\n",
       "    </tr>\n",
       "    <tr>\n",
       "      <th>4</th>\n",
       "      <td>0.517241</td>\n",
       "      <td>0.385057</td>\n",
       "    </tr>\n",
       "  </tbody>\n",
       "</table>\n",
       "</div>"
      ],
      "text/plain": [
       "          0         1\n",
       "0  0.275862  0.775862\n",
       "1  0.758621  0.810345\n",
       "2  1.000000  1.000000\n",
       "3  0.724138  0.534483\n",
       "4  0.517241  0.385057"
      ]
     },
     "execution_count": 13,
     "metadata": {},
     "output_type": "execute_result"
    }
   ],
   "source": [
    "#display normalized variables of gre and gpa\n",
    "df_inde_var.head()"
   ]
  },
  {
   "cell_type": "code",
   "execution_count": 14,
   "metadata": {
    "colab": {},
    "colab_type": "code",
    "id": "dWnq-0uIcrQd"
   },
   "outputs": [
    {
     "data": {
      "text/plain": [
       "0    0.633966\n",
       "1    0.649368\n",
       "dtype: float64"
      ]
     },
     "execution_count": 14,
     "metadata": {},
     "output_type": "execute_result"
    }
   ],
   "source": [
    "#display mean of gpa and gre\n",
    "np.mean(df_inde_var)"
   ]
  },
  {
   "cell_type": "code",
   "execution_count": 15,
   "metadata": {
    "colab": {},
    "colab_type": "code",
    "id": "exYhMWgycwkw",
    "scrolled": true
   },
   "outputs": [
    {
     "data": {
      "image/png": "[encoded data removed]",
      "text/plain": [
       "<matplotlib.figure.Figure at 0x7fcbed0c6e80>"
      ]
     },
     "metadata": {},
     "output_type": "display_data"
    },
    {
     "name": "stdout",
     "output_type": "stream",
     "text": [
      "          0         1\n",
      "0  1.000000  0.384266\n",
      "1  0.384266  1.000000\n"
     ]
    }
   ],
   "source": [
    "name = ['gre', 'gpa']\n",
    "names = ['gpa','gre']\n",
    "core_inde_var = df_inde_var.corr()\n",
    "fig = plt.figure()\n",
    "ax =fig.add_subplot(111)\n",
    "cax = ax.matshow(core_inde_var, vmin= -1, vmax = 1)\n",
    "fig.colorbar(cax)\n",
    "ticks =np.arange(0,9,1)\n",
    "ax.set_xticklabels(ticks)\n",
    "ax.set_yticklabels(ticks)\n",
    "ax.set_xticklabels(name)\n",
    "ax.set_yticklabels(names)\n",
    "plt.show()\n",
    "print(core_inde_var)"
   ]
  },
  {
   "cell_type": "code",
   "execution_count": 16,
   "metadata": {
    "colab": {},
    "colab_type": "code",
    "id": "YG-ViZ6g2Cxd"
   },
   "outputs": [
    {
     "name": "stdout",
     "output_type": "stream",
     "text": [
      "Populating the interactive namespace from numpy and matplotlib\n"
     ]
    }
   ],
   "source": [
    " from sklearn.decomposition import PCA\n",
    " %pylab inline"
   ]
  },
  {
   "cell_type": "code",
   "execution_count": 17,
   "metadata": {
    "colab": {
     "base_uri": "https://localhost:8080/",
     "height": 187
    },
    "colab_type": "code",
    "executionInfo": {
     "elapsed": 425,
     "status": "ok",
     "timestamp": 1557019603963,
     "user": {
      "displayName": "luther hill",
      "photoUrl": "",
      "userId": "02669718942280585588"
     },
     "user_tz": 240
    },
    "id": "SjEg-n3J5Uww",
    "outputId": "5265451d-322d-4e3a-9398-187d8d26a4e8"
   },
   "outputs": [
    {
     "data": {
      "text/plain": [
       "array([[ 0.125     ,  0.01293103,  0.        , ..., -0.05028736,\n",
       "        -0.00718391,  0.0704023 ],\n",
       "       [ 0.01293103,  0.00133769,  0.        , ..., -0.00520214,\n",
       "        -0.00074316,  0.007283  ],\n",
       "       [ 0.        ,  0.        ,  0.        , ...,  0.        ,\n",
       "         0.        ,  0.        ],\n",
       "       [-0.04741379, -0.00490488,  0.        , ...,  0.01907451,\n",
       "         0.00272493, -0.02670432],\n",
       "       [-0.03304598, -0.00341855,  0.        , ...,  0.01329436,\n",
       "         0.00189919, -0.0186121 ]])"
      ]
     },
     "execution_count": 17,
     "metadata": {},
     "output_type": "execute_result"
    }
   ],
   "source": [
    "#display the first 5 records for the covariant matrix\n",
    "covariant_matrix = np.cov(norm_inde_var)\n",
    "covariant_matrix[0:5]"
   ]
  },
  {
   "cell_type": "code",
   "execution_count": 18,
   "metadata": {
    "colab": {
     "base_uri": "https://localhost:8080/",
     "height": 323
    },
    "colab_type": "code",
    "executionInfo": {
     "elapsed": 329,
     "status": "ok",
     "timestamp": 1557019622859,
     "user": {
      "displayName": "luther hill",
      "photoUrl": "",
      "userId": "02669718942280585588"
     },
     "user_tz": 240
    },
    "id": "w8MDmNAFjq7B",
    "outputId": "67df06eb-ca67-4cdb-a2ed-917aa883c310",
    "scrolled": false
   },
   "outputs": [
    {
     "name": "stdout",
     "output_type": "stream",
     "text": [
      "eigen values:  [ 1.08256705e+01+0.00000000e+00j  5.07191485e-16+8.13224041e-16j\n",
      "  5.07191485e-16-8.13224041e-16j -5.15868591e-16+0.00000000e+00j\n",
      " -8.48732925e-17+4.52632352e-16j]\n",
      "eigen vectors:  [[ 0.10745524+0.j          0.11734163+0.02876832j  0.11734163-0.02876832j\n",
      "  ...  0.        +0.j          0.        +0.j\n",
      "   0.        +0.j        ]\n",
      " [ 0.01111606+0.j         -0.03883705+0.03768768j -0.03883705-0.03768768j\n",
      "  ...  0.        +0.j          0.        +0.j\n",
      "   0.        +0.j        ]\n",
      " [ 0.        +0.j         -0.        +0.j         -0.        -0.j\n",
      "  ...  0.        +0.j          0.        +0.j\n",
      "   0.        +0.j        ]\n",
      " [-0.04075888+0.j          0.03691164-0.01479768j  0.03691164+0.01479768j\n",
      "  ...  0.        +0.j          0.        +0.j\n",
      "   0.        +0.j        ]\n",
      " [-0.02840771+0.j         -0.03920651-0.00258145j -0.03920651+0.00258145j\n",
      "  ...  0.        +0.j          0.        +0.j\n",
      "   0.        +0.j        ]]\n"
     ]
    }
   ],
   "source": [
    "#calculate and display eigen values and eigen vectors\n",
    "eigen_values, eigen_vectors = np.linalg.eig(covariant_matrix)\n",
    "print(\"eigen values: \", eigen_values[0:5])\n",
    "print(\"eigen vectors: \", eigen_vectors[0:5])"
   ]
  },
  {
   "cell_type": "markdown",
   "metadata": {},
   "source": [
    "##  The statistical interpretation of computed Eigen Vectors and Values\n",
    "\n",
    "dvnnvjdnvjdn"
   ]
  },
  {
   "cell_type": "code",
   "execution_count": 19,
   "metadata": {
    "colab": {
     "base_uri": "https://localhost:8080/",
     "height": 371
    },
    "colab_type": "code",
    "executionInfo": {
     "elapsed": 475,
     "status": "ok",
     "timestamp": 1557021610419,
     "user": {
      "displayName": "luther hill",
      "photoUrl": "",
      "userId": "02669718942280585588"
     },
     "user_tz": 240
    },
    "id": "Y6ZZxRKRkh9o",
    "outputId": "128f9db3-d04f-49a4-b95c-81c783031676"
   },
   "outputs": [
    {
     "name": "stderr",
     "output_type": "stream",
     "text": [
      "/home/nbuser/anaconda3_420/lib/python3.5/site-packages/matplotlib/transforms.py:814: ComplexWarning: Casting complex values to real discards the imaginary part\n",
      "  points = np.array(args, dtype=float).reshape(2, 2)\n",
      "/home/nbuser/anaconda3_420/lib/python3.5/site-packages/numpy/core/numeric.py:538: ComplexWarning: Casting complex values to real discards the imaginary part\n",
      "  return array(a, dtype, copy=False, order=order)\n"
     ]
    },
    {
     "data": {
      "image/png": "[encoded data removed]",
      "text/plain": [
       "<matplotlib.figure.Figure at 0x7fcbeccb9eb8>"
      ]
     },
     "metadata": {},
     "output_type": "display_data"
    }
   ],
   "source": [
    "tot = sum(eigen_values[:1])\n",
    "var_exp = [(i / tot) for i in sorted(eigen_values[:13], reverse=True)]\n",
    "cum_var_exp = np.cumsum(var_exp)\n",
    "\n",
    "bar(range(1,14), var_exp, alpha=0.5, align='center', label= 'individual variance')\n",
    "step(range(1,14), cum_var_exp, where='mid', label='cmulative variance')\n",
    "ylabel('Explained variance ratio')\n",
    "xlabel('Principal comonents')\n",
    "legend(loc='best')\n",
    "show()"
   ]
  },
  {
   "cell_type": "code",
   "execution_count": 20,
   "metadata": {
    "colab": {},
    "colab_type": "code",
    "id": "lVOMglOu1bEh"
   },
   "outputs": [
    {
     "data": {
      "text/plain": [
       "PCA(copy=True, iterated_power='auto', n_components=2, random_state=None,\n",
       "  svd_solver='auto', tol=0.0, whiten=False)"
      ]
     },
     "execution_count": 20,
     "metadata": {},
     "output_type": "execute_result"
    }
   ],
   "source": [
    "x = df_inde_var\n",
    "pca =PCA(n_components=2)\n",
    "pca.fit(x)"
   ]
  },
  {
   "cell_type": "code",
   "execution_count": 21,
   "metadata": {
    "colab": {},
    "colab_type": "code",
    "id": "0iVwDYEF2XLY",
    "scrolled": true
   },
   "outputs": [
    {
     "data": {
      "text/plain": [
       "array([4.93274158, 3.2530346 ])"
      ]
     },
     "execution_count": 21,
     "metadata": {},
     "output_type": "execute_result"
    }
   ],
   "source": [
    "#calculates and computes pca for singular values and explained variance ratio for pca\n",
    "pca.explained_variance_ratio_\n",
    "pca.singular_values_"
   ]
  },
  {
   "cell_type": "code",
   "execution_count": 22,
   "metadata": {},
   "outputs": [
    {
     "name": "stdout",
     "output_type": "stream",
     "text": [
      "0.19690721593046817\n",
      "0.49999999999999994\n"
     ]
    }
   ],
   "source": [
    "#prints standard deviation and mean of explained variance ratio for pca\n",
    "print(np.std(pca.explained_variance_ratio_))\n",
    "print(np.mean(pca.explained_variance_ratio_))"
   ]
  },
  {
   "cell_type": "code",
   "execution_count": 23,
   "metadata": {},
   "outputs": [
    {
     "name": "stdout",
     "output_type": "stream",
     "text": [
      "0.8398534935227375\n",
      "4.092888089215796\n"
     ]
    }
   ],
   "source": [
    "#prints standard deviation and mean for pca singular values\n",
    "print(np.std(pca.singular_values_))\n",
    "print(np.mean(pca.singular_values_))"
   ]
  },
  {
   "cell_type": "markdown",
   "metadata": {},
   "source": [
    "# Problem state 2"
   ]
  },
  {
   "cell_type": "code",
   "execution_count": 24,
   "metadata": {},
   "outputs": [],
   "source": [
    "from sklearn import preprocessing\n",
    "import matplotlib.pyplot as plt \n",
    "plt.rc(\"font\", size=14)\n",
    "from sklearn.linear_model import LogisticRegression\n",
    "from sklearn.model_selection import train_test_split\n",
    "import seaborn as sns\n",
    "sns.set(style=\"white\")\n",
    "sns.set(style=\"whitegrid\", color_codes=True)\n",
    "import statsmodels.api as sm\n",
    "from sklearn.metrics import confusion_matrix\n",
    "from sklearn.linear_model import LogisticRegression\n",
    "from sklearn import metrics"
   ]
  },
  {
   "cell_type": "markdown",
   "metadata": {},
   "source": [
    "# Discription of Logistical Model\n",
    "x variable = gpa\n",
    "y variable = gre\n",
    "\n",
    "We are modeling the effect of the normalized GPA as a dependent variable of the normalized GRE. \n",
    "We used the logit model."
   ]
  },
  {
   "cell_type": "code",
   "execution_count": 25,
   "metadata": {
    "scrolled": true
   },
   "outputs": [
    {
     "name": "stdout",
     "output_type": "stream",
     "text": [
      "Optimization terminated successfully.\n",
      "         Current function value: 0.610819\n",
      "         Iterations 4\n",
      "                        Results: Logit\n",
      "===============================================================\n",
      "Model:              Logit            No. Iterations:   4.0000  \n",
      "Dependent Variable: y                Pseudo R-squared: 0.028   \n",
      "Date:               2019-05-13 22:51 AIC:              490.6552\n",
      "No. Observations:   400              BIC:              494.6467\n",
      "Df Model:           0                Log-Likelihood:   -244.33 \n",
      "Df Residuals:       399              LL-Null:          -251.27 \n",
      "Converged:          1.0000           Scale:            1.0000  \n",
      "------------------------------------------------------------------\n",
      "        Coef.     Std.Err.      z       P>|z|     [0.025    0.975]\n",
      "------------------------------------------------------------------\n",
      "1       0.9228      0.1558    5.9229    0.0000    0.6174    1.2281\n",
      "===============================================================\n",
      "\n",
      "1 is labeled as GPA\n"
     ]
    }
   ],
   "source": [
    "x = df_inde_var[0]\n",
    "y = df_inde_var[1]\n",
    "logit_model=sm.Logit(x,y)\n",
    "result=logit_model.fit()\n",
    "print(result.summary2())\n",
    "print('1 is labeled as GPA')"
   ]
  },
  {
   "cell_type": "code",
   "execution_count": 26,
   "metadata": {},
   "outputs": [
    {
     "name": "stderr",
     "output_type": "stream",
     "text": [
      "/home/nbuser/anaconda3_420/lib/python3.5/site-packages/numpy/core/fromnumeric.py:56: FutureWarning: reshape is deprecated and will raise in a subsequent release. Please use .values.reshape(...) instead\n",
      "  return getattr(obj, method)(*args, **kwds)\n"
     ]
    }
   ],
   "source": [
    "x = np.reshape(x,(-1,1))\n",
    "y = np.reshape(y, (-1,1))"
   ]
  },
  {
   "cell_type": "code",
   "execution_count": 27,
   "metadata": {},
   "outputs": [
    {
     "name": "stdout",
     "output_type": "stream",
     "text": [
      "(400, 1)\n",
      "(400, 1)\n"
     ]
    }
   ],
   "source": [
    "print(y.shape)\n",
    "print(x.shape)"
   ]
  },
  {
   "cell_type": "code",
   "execution_count": 28,
   "metadata": {},
   "outputs": [],
   "source": [
    "from sklearn import preprocessing\n",
    "from sklearn import utils"
   ]
  },
  {
   "cell_type": "code",
   "execution_count": 29,
   "metadata": {
    "scrolled": true
   },
   "outputs": [
    {
     "name": "stderr",
     "output_type": "stream",
     "text": [
      "/home/nbuser/anaconda3_420/lib/python3.5/site-packages/sklearn/preprocessing/label.py:111: DataConversionWarning: A column-vector y was passed when a 1d array was expected. Please change the shape of y to (n_samples, ), for example using ravel().\n",
      "  y = column_or_1d(y, warn=True)\n"
     ]
    }
   ],
   "source": [
    "lab_enc = preprocessing.LabelEncoder()\n",
    "y2 = lab_enc.fit_transform(y)"
   ]
  },
  {
   "cell_type": "code",
   "execution_count": 30,
   "metadata": {},
   "outputs": [
    {
     "data": {
      "text/plain": [
       "LogisticRegression(C=1.0, class_weight=None, dual=False, fit_intercept=True,\n",
       "          intercept_scaling=1, max_iter=100, multi_class='ovr', n_jobs=1,\n",
       "          penalty='l2', random_state=None, solver='liblinear', tol=0.0001,\n",
       "          verbose=0, warm_start=False)"
      ]
     },
     "execution_count": 30,
     "metadata": {},
     "output_type": "execute_result"
    }
   ],
   "source": [
    "#losgistical regression model fitting\n",
    "X_train, X_test, y_train, y_test = train_test_split(x, y2, test_size=0.25, random_state=None)\n",
    "logreg = LogisticRegression()\n",
    "logreg.fit(X_train, y_train)"
   ]
  },
  {
   "cell_type": "code",
   "execution_count": 31,
   "metadata": {},
   "outputs": [
    {
     "name": "stdout",
     "output_type": "stream",
     "text": [
      "Accuracy of logistic regression classifier on test set: 0.07\n"
     ]
    }
   ],
   "source": [
    "y_pred = logreg.predict(X_test)\n",
    "print('Accuracy of logistic regression classifier on test set: {:.2f}'.format(logreg.score(X_test, y_test)))"
   ]
  },
  {
   "cell_type": "code",
   "execution_count": 32,
   "metadata": {},
   "outputs": [
    {
     "name": "stdout",
     "output_type": "stream",
     "text": [
      "[[0 0 0 ... 0 0 2]\n",
      " [0 0 0 ... 0 0 1]\n",
      " [0 0 0 ... 0 0 1]\n",
      " ...\n",
      " [0 0 0 ... 0 0 1]\n",
      " [0 0 0 ... 0 0 1]\n",
      " [0 0 0 ... 0 0 7]]\n"
     ]
    }
   ],
   "source": [
    "#evaluate models confusion matrix table of the two variablkes admit and admit_h\n",
    "from sklearn.metrics import confusion_matrix\n",
    "confusion_matrix = confusion_matrix(y_test, y_pred)\n",
    "print(confusion_matrix)"
   ]
  },
  {
   "cell_type": "code",
   "execution_count": 33,
   "metadata": {
    "scrolled": true
   },
   "outputs": [
    {
     "name": "stdout",
     "output_type": "stream",
     "text": [
      "             precision    recall  f1-score   support\n",
      "\n",
      "          1       0.00      0.00      0.00         2\n",
      "          3       0.00      0.00      0.00         1\n",
      "          7       0.00      0.00      0.00         1\n",
      "         11       0.00      0.00      0.00         1\n",
      "         13       0.00      0.00      0.00         1\n",
      "         21       0.00      0.00      0.00         1\n",
      "         22       0.00      0.00      0.00         1\n",
      "         25       0.00      0.00      0.00         1\n",
      "         26       0.00      0.00      0.00         3\n",
      "         30       0.00      0.00      0.00         1\n",
      "         32       0.00      0.00      0.00         1\n",
      "         34       0.00      0.00      0.00         1\n",
      "         35       0.00      0.00      0.00         1\n",
      "         37       0.00      0.00      0.00         3\n",
      "         38       0.00      0.00      0.00         1\n",
      "         41       0.00      0.00      0.00         1\n",
      "         43       0.00      0.00      0.00         2\n",
      "         45       0.00      0.00      0.00         1\n",
      "         47       0.00      0.00      0.00         1\n",
      "         48       0.00      0.00      0.00         1\n",
      "         49       0.00      0.00      0.00         2\n",
      "         50       0.00      0.00      0.00         2\n",
      "         51       0.00      0.00      0.00         1\n",
      "         54       0.00      0.00      0.00         3\n",
      "         55       0.00      0.00      0.00         1\n",
      "         56       0.00      0.00      0.00         1\n",
      "         57       0.00      0.00      0.00         2\n",
      "         58       0.00      0.00      0.00         2\n",
      "         61       0.00      0.00      0.00         1\n",
      "         62       0.00      0.00      0.00         1\n",
      "         63       0.00      0.00      0.00         1\n",
      "         65       0.00      0.00      0.00         1\n",
      "         66       0.00      0.00      0.00         1\n",
      "         69       0.00      0.00      0.00         1\n",
      "         70       0.00      0.00      0.00         1\n",
      "         72       0.00      0.00      0.00         1\n",
      "         73       0.00      0.00      0.00         1\n",
      "         74       0.00      0.00      0.00         4\n",
      "         77       0.00      0.00      0.00         1\n",
      "         78       0.00      0.00      0.00         2\n",
      "         79       0.00      0.00      0.00         1\n",
      "         80       0.00      0.00      0.00         1\n",
      "         81       0.00      0.00      0.00         3\n",
      "         82       0.00      0.00      0.00         1\n",
      "         83       0.00      0.00      0.00         1\n",
      "         84       0.00      0.00      0.00         2\n",
      "         85       0.00      0.00      0.00         2\n",
      "         86       0.00      0.00      0.00         1\n",
      "         88       0.00      0.00      0.00         2\n",
      "         90       0.00      0.00      0.00         1\n",
      "         91       0.00      0.00      0.00         1\n",
      "         92       0.00      0.00      0.00         2\n",
      "         93       0.00      0.00      0.00         2\n",
      "         95       0.00      0.00      0.00         1\n",
      "         98       0.00      0.00      0.00         1\n",
      "         99       0.00      0.00      0.00         1\n",
      "        101       0.00      0.00      0.00         1\n",
      "        102       0.00      0.00      0.00         1\n",
      "        107       0.00      0.00      0.00         2\n",
      "        110       0.00      0.00      0.00         1\n",
      "        111       0.00      0.00      0.00         1\n",
      "        113       0.00      0.00      0.00         2\n",
      "        114       0.00      0.00      0.00         1\n",
      "        119       0.00      0.00      0.00         1\n",
      "        121       0.00      0.00      0.00         1\n",
      "        122       0.00      0.00      0.00         1\n",
      "        127       0.00      0.00      0.00         1\n",
      "        130       0.00      0.00      0.00         1\n",
      "        131       0.07      1.00      0.13         7\n",
      "\n",
      "avg / total       0.00      0.07      0.01       100\n",
      "\n"
     ]
    },
    {
     "name": "stderr",
     "output_type": "stream",
     "text": [
      "/home/nbuser/anaconda3_420/lib/python3.5/site-packages/sklearn/metrics/classification.py:1135: UndefinedMetricWarning: Precision and F-score are ill-defined and being set to 0.0 in labels with no predicted samples.\n",
      "  'precision', 'predicted', average, warn_for)\n"
     ]
    }
   ],
   "source": [
    "from sklearn.metrics import classification_report\n",
    "print(classification_report(y_test, y_pred))"
   ]
  },
  {
   "cell_type": "code",
   "execution_count": 34,
   "metadata": {},
   "outputs": [],
   "source": [
    "# Needed to run the logistic regression\n",
    "import statsmodels.formula.api as smf\n",
    "\n",
    "# For plotting/checking assumptions\n",
    "import seaborn as sns\n",
    "\n",
    "import statsmodels.api as sm\n",
    "\n",
    "import statsmodels"
   ]
  },
  {
   "cell_type": "code",
   "execution_count": 37,
   "metadata": {},
   "outputs": [
    {
     "name": "stdout",
     "output_type": "stream",
     "text": [
      "Optimization terminated successfully.\n",
      "         Current function value: 0.600430\n",
      "         Iterations 5\n",
      "                        Results: Logit\n",
      "===============================================================\n",
      "Model:              Logit            No. Iterations:   5.0000  \n",
      "Dependent Variable: admit            Pseudo R-squared: 0.039   \n",
      "Date:               2019-05-13 22:51 AIC:              486.3440\n",
      "No. Observations:   400              BIC:              498.3184\n",
      "Df Model:           2                Log-Likelihood:   -240.17 \n",
      "Df Residuals:       397              LL-Null:          -249.99 \n",
      "Converged:          1.0000           Scale:            1.0000  \n",
      "----------------------------------------------------------------\n",
      "             Coef.   Std.Err.     z     P>|z|    [0.025   0.975]\n",
      "----------------------------------------------------------------\n",
      "Intercept   -4.9494    1.0751  -4.6037  0.0000  -7.0565  -2.8422\n",
      "gre          0.0027    0.0011   2.5444  0.0109   0.0006   0.0048\n",
      "gpa          0.7547    0.3196   2.3615  0.0182   0.1283   1.3811\n",
      "===============================================================\n",
      "\n"
     ]
    }
   ],
   "source": [
    "# this calculates admmitance as a function of gre+gpa\n",
    "admit_h = smf.logit(formula=\"admit~ gre + gpa\", data= df).fit()\n",
    "print(admit_h.summary2())"
   ]
  },
  {
   "cell_type": "code",
   "execution_count": 38,
   "metadata": {},
   "outputs": [
    {
     "data": {
      "text/html": [
       "<div>\n",
       "<table border=\"1\" class=\"dataframe\">\n",
       "  <thead>\n",
       "    <tr style=\"text-align: right;\">\n",
       "      <th></th>\n",
       "      <th>OR</th>\n",
       "      <th>z-value</th>\n",
       "      <th>2.5%</th>\n",
       "      <th>97.5%</th>\n",
       "    </tr>\n",
       "  </thead>\n",
       "  <tbody>\n",
       "    <tr>\n",
       "      <th>Intercept</th>\n",
       "      <td>0.007088</td>\n",
       "      <td>0.000004</td>\n",
       "      <td>0.000862</td>\n",
       "      <td>0.058295</td>\n",
       "    </tr>\n",
       "    <tr>\n",
       "      <th>gre</th>\n",
       "      <td>1.002694</td>\n",
       "      <td>0.010946</td>\n",
       "      <td>1.000618</td>\n",
       "      <td>1.004775</td>\n",
       "    </tr>\n",
       "    <tr>\n",
       "      <th>gpa</th>\n",
       "      <td>2.126945</td>\n",
       "      <td>0.018203</td>\n",
       "      <td>1.136906</td>\n",
       "      <td>3.979130</td>\n",
       "    </tr>\n",
       "  </tbody>\n",
       "</table>\n",
       "</div>"
      ],
      "text/plain": [
       "                 OR   z-value      2.5%     97.5%\n",
       "Intercept  0.007088  0.000004  0.000862  0.058295\n",
       "gre        1.002694  0.010946  1.000618  1.004775\n",
       "gpa        2.126945  0.018203  1.136906  3.979130"
      ]
     },
     "execution_count": 38,
     "metadata": {},
     "output_type": "execute_result"
    }
   ],
   "source": [
    "# GETTING THE ODDS RATIOS, Z-VALUE, AND 95% CI\n",
    "model_odds = pd.DataFrame(np.exp(admit_h.params), columns= ['OR'])\n",
    "model_odds['z-value']= admit_h.pvalues\n",
    "model_odds[['2.5%', '97.5%']] = np.exp(admit_h.conf_int())\n",
    "model_odds"
   ]
  },
  {
   "cell_type": "markdown",
   "metadata": {},
   "source": [
    "# Problem statement 3"
   ]
  },
  {
   "cell_type": "code",
   "execution_count": 37,
   "metadata": {},
   "outputs": [
    {
     "name": "stdout",
     "output_type": "stream",
     "text": [
      "Optimization terminated successfully.\n",
      "         Current function value: 0.600430\n",
      "         Iterations 5\n",
      "                        Results: Logit\n",
      "===============================================================\n",
      "Model:              Logit            No. Iterations:   5.0000  \n",
      "Dependent Variable: admit            Pseudo R-squared: 0.039   \n",
      "Date:               2019-05-13 22:51 AIC:              486.3440\n",
      "No. Observations:   400              BIC:              498.3184\n",
      "Df Model:           2                Log-Likelihood:   -240.17 \n",
      "Df Residuals:       397              LL-Null:          -249.99 \n",
      "Converged:          1.0000           Scale:            1.0000  \n",
      "----------------------------------------------------------------\n",
      "             Coef.   Std.Err.     z     P>|z|    [0.025   0.975]\n",
      "----------------------------------------------------------------\n",
      "Intercept   -4.9494    1.0751  -4.6037  0.0000  -7.0565  -2.8422\n",
      "gre          0.0027    0.0011   2.5444  0.0109   0.0006   0.0048\n",
      "gpa          0.7547    0.3196   2.3615  0.0182   0.1283   1.3811\n",
      "===============================================================\n",
      "\n"
     ]
    }
   ],
   "source": [
    "# this calculates admmitance as a function of the PCA with the largest Eigen value.\n",
    "admit_h = smf.logit(formula=\"admit~ gre + gpa\", data= df).fit()\n",
    "print(admit_h.summary2())"
   ]
  },
  {
   "cell_type": "code",
   "execution_count": 40,
   "metadata": {},
   "outputs": [],
   "source": [
    "## Converting variable to categorical data type (since that what it is)\n",
    "## and then creating dummy variables\n",
    "df['rank'] = df['rank'].astype('category')\n",
    "\n",
    "df = pd.get_dummies(df)"
   ]
  },
  {
   "cell_type": "code",
   "execution_count": 41,
   "metadata": {},
   "outputs": [
    {
     "name": "stderr",
     "output_type": "stream",
     "text": [
      "/home/nbuser/anaconda3_420/lib/python3.5/site-packages/scipy/stats/stats.py:1713: FutureWarning: Using a non-tuple sequence for multidimensional indexing is deprecated; use `arr[tuple(seq)]` instead of `arr[seq]`. In the future this will be interpreted as an array index, `arr[np.array(seq)]`, which will result either in an error or a different result.\n",
      "  return np.add.reduce(sorted[indexer] * weights, axis=axis) / sumval\n"
     ]
    },
    {
     "data": {
      "image/png": "[encoded data removed]",
      "text/plain": [
       "<matplotlib.figure.Figure at 0x7fcbeade5b70>"
      ]
     },
     "metadata": {},
     "output_type": "display_data"
    }
   ],
   "source": [
    "gre = sns.regplot(x= 'gre', y= 'admit', data= df, logistic= True).set_title(\"GRE Log Odds Linear Plot\")\n",
    "gre.figure.savefig(\"gre log lin.png\")"
   ]
  },
  {
   "cell_type": "code",
   "execution_count": 42,
   "metadata": {},
   "outputs": [
    {
     "name": "stderr",
     "output_type": "stream",
     "text": [
      "/home/nbuser/anaconda3_420/lib/python3.5/site-packages/scipy/stats/stats.py:1713: FutureWarning: Using a non-tuple sequence for multidimensional indexing is deprecated; use `arr[tuple(seq)]` instead of `arr[seq]`. In the future this will be interpreted as an array index, `arr[np.array(seq)]`, which will result either in an error or a different result.\n",
      "  return np.add.reduce(sorted[indexer] * weights, axis=axis) / sumval\n"
     ]
    },
    {
     "data": {
      "image/png": "[encoded data removed]",
      "text/plain": [
       "<matplotlib.figure.Figure at 0x7fcbeb1c03c8>"
      ]
     },
     "metadata": {},
     "output_type": "display_data"
    }
   ],
   "source": [
    "gpa = sns.regplot(x= 'gpa', y= 'admit', data= df, logistic= True).set_title(\"GPA Log Odds Linear Plot\")\n",
    "gpa.figure.savefig(\"gpa log lin.png\")"
   ]
  },
  {
   "cell_type": "code",
   "execution_count": 44,
   "metadata": {},
   "outputs": [
    {
     "data": {
      "text/plain": [
       "<bound method DataFrame.corr of      Unnamed: 0  admit  gre   gpa  rank_1  rank_2  rank_3  rank_4\n",
       "0             1      0  380  3.61       0       0       1       0\n",
       "1             2      1  660  3.67       0       0       1       0\n",
       "2             3      1  800  4.00       1       0       0       0\n",
       "3             4      1  640  3.19       0       0       0       1\n",
       "4             5      0  520  2.93       0       0       0       1\n",
       "5             6      1  760  3.00       0       1       0       0\n",
       "6             7      1  560  2.98       1       0       0       0\n",
       "7             8      0  400  3.08       0       1       0       0\n",
       "8             9      1  540  3.39       0       0       1       0\n",
       "9            10      0  700  3.92       0       1       0       0\n",
       "10           11      0  800  4.00       0       0       0       1\n",
       "11           12      0  440  3.22       1       0       0       0\n",
       "12           13      1  760  4.00       1       0       0       0\n",
       "13           14      0  700  3.08       0       1       0       0\n",
       "14           15      1  700  4.00       1       0       0       0\n",
       "15           16      0  480  3.44       0       0       1       0\n",
       "16           17      0  780  3.87       0       0       0       1\n",
       "17           18      0  360  2.56       0       0       1       0\n",
       "18           19      0  800  3.75       0       1       0       0\n",
       "19           20      1  540  3.81       1       0       0       0\n",
       "20           21      0  500  3.17       0       0       1       0\n",
       "21           22      1  660  3.63       0       1       0       0\n",
       "22           23      0  600  2.82       0       0       0       1\n",
       "23           24      0  680  3.19       0       0       0       1\n",
       "24           25      1  760  3.35       0       1       0       0\n",
       "25           26      1  800  3.66       1       0       0       0\n",
       "26           27      1  620  3.61       1       0       0       0\n",
       "27           28      1  520  3.74       0       0       0       1\n",
       "28           29      1  780  3.22       0       1       0       0\n",
       "29           30      0  520  3.29       1       0       0       0\n",
       "..          ...    ...  ...   ...     ...     ...     ...     ...\n",
       "370         371      1  540  3.77       0       1       0       0\n",
       "371         372      1  680  3.76       0       0       1       0\n",
       "372         373      1  680  2.42       1       0       0       0\n",
       "373         374      1  620  3.37       1       0       0       0\n",
       "374         375      0  560  3.78       0       1       0       0\n",
       "375         376      0  560  3.49       0       0       0       1\n",
       "376         377      0  620  3.63       0       1       0       0\n",
       "377         378      1  800  4.00       0       1       0       0\n",
       "378         379      0  640  3.12       0       0       1       0\n",
       "379         380      0  540  2.70       0       1       0       0\n",
       "380         381      0  700  3.65       0       1       0       0\n",
       "381         382      1  540  3.49       0       1       0       0\n",
       "382         383      0  540  3.51       0       1       0       0\n",
       "383         384      0  660  4.00       1       0       0       0\n",
       "384         385      1  480  2.62       0       1       0       0\n",
       "385         386      0  420  3.02       1       0       0       0\n",
       "386         387      1  740  3.86       0       1       0       0\n",
       "387         388      0  580  3.36       0       1       0       0\n",
       "388         389      0  640  3.17       0       1       0       0\n",
       "389         390      0  640  3.51       0       1       0       0\n",
       "390         391      1  800  3.05       0       1       0       0\n",
       "391         392      1  660  3.88       0       1       0       0\n",
       "392         393      1  600  3.38       0       0       1       0\n",
       "393         394      1  620  3.75       0       1       0       0\n",
       "394         395      1  460  3.99       0       0       1       0\n",
       "395         396      0  620  4.00       0       1       0       0\n",
       "396         397      0  560  3.04       0       0       1       0\n",
       "397         398      0  460  2.63       0       1       0       0\n",
       "398         399      0  700  3.65       0       1       0       0\n",
       "399         400      0  600  3.89       0       0       1       0\n",
       "\n",
       "[400 rows x 8 columns]>"
      ]
     },
     "execution_count": 44,
     "metadata": {},
     "output_type": "execute_result"
    }
   ],
   "source": [
    "#print correlation matrix\n",
    "df.corr"
   ]
  },
  {
   "cell_type": "code",
   "execution_count": 46,
   "metadata": {},
   "outputs": [
    {
     "data": {
      "text/plain": [
       "pandas.indexes.range.RangeIndex"
      ]
     },
     "execution_count": 46,
     "metadata": {},
     "output_type": "execute_result"
    }
   ],
   "source": [
    "type(df.index)"
   ]
  },
  {
   "cell_type": "code",
   "execution_count": 50,
   "metadata": {
    "colab": {
     "base_uri": "https://localhost:8080/",
     "height": 71
    },
    "colab_type": "code",
    "executionInfo": {
     "elapsed": 21342,
     "status": "ok",
     "timestamp": 1557018806027,
     "user": {
      "displayName": "luther hill",
      "photoUrl": "",
      "userId": "02669718942280585588"
     },
     "user_tz": 240
    },
    "id": "AjdPu7SrTAlw",
    "outputId": "30f35e7c-6183-43f2-94df-0cc9bfc8cc71"
   },
   "outputs": [
    {
     "data": {
      "text/html": [
       "<div>\n",
       "<table border=\"1\" class=\"dataframe\">\n",
       "  <thead>\n",
       "    <tr style=\"text-align: right;\">\n",
       "      <th></th>\n",
       "      <th>0</th>\n",
       "      <th>1</th>\n",
       "      <th>2</th>\n",
       "      <th>3</th>\n",
       "      <th>4</th>\n",
       "      <th>5</th>\n",
       "      <th>6</th>\n",
       "      <th>7</th>\n",
       "    </tr>\n",
       "  </thead>\n",
       "  <tbody>\n",
       "    <tr>\n",
       "      <th>0</th>\n",
       "      <td>0.000000</td>\n",
       "      <td>0.0</td>\n",
       "      <td>0.275862</td>\n",
       "      <td>0.775862</td>\n",
       "      <td>0.0</td>\n",
       "      <td>0.0</td>\n",
       "      <td>1.0</td>\n",
       "      <td>0.0</td>\n",
       "    </tr>\n",
       "    <tr>\n",
       "      <th>1</th>\n",
       "      <td>0.002506</td>\n",
       "      <td>1.0</td>\n",
       "      <td>0.758621</td>\n",
       "      <td>0.810345</td>\n",
       "      <td>0.0</td>\n",
       "      <td>0.0</td>\n",
       "      <td>1.0</td>\n",
       "      <td>0.0</td>\n",
       "    </tr>\n",
       "    <tr>\n",
       "      <th>2</th>\n",
       "      <td>0.005013</td>\n",
       "      <td>1.0</td>\n",
       "      <td>1.000000</td>\n",
       "      <td>1.000000</td>\n",
       "      <td>1.0</td>\n",
       "      <td>0.0</td>\n",
       "      <td>0.0</td>\n",
       "      <td>0.0</td>\n",
       "    </tr>\n",
       "    <tr>\n",
       "      <th>3</th>\n",
       "      <td>0.007519</td>\n",
       "      <td>1.0</td>\n",
       "      <td>0.724138</td>\n",
       "      <td>0.534483</td>\n",
       "      <td>0.0</td>\n",
       "      <td>0.0</td>\n",
       "      <td>0.0</td>\n",
       "      <td>1.0</td>\n",
       "    </tr>\n",
       "    <tr>\n",
       "      <th>4</th>\n",
       "      <td>0.010025</td>\n",
       "      <td>0.0</td>\n",
       "      <td>0.517241</td>\n",
       "      <td>0.385057</td>\n",
       "      <td>0.0</td>\n",
       "      <td>0.0</td>\n",
       "      <td>0.0</td>\n",
       "      <td>1.0</td>\n",
       "    </tr>\n",
       "  </tbody>\n",
       "</table>\n",
       "</div>"
      ],
      "text/plain": [
       "          0    1         2         3    4    5    6    7\n",
       "0  0.000000  0.0  0.275862  0.775862  0.0  0.0  1.0  0.0\n",
       "1  0.002506  1.0  0.758621  0.810345  0.0  0.0  1.0  0.0\n",
       "2  0.005013  1.0  1.000000  1.000000  1.0  0.0  0.0  0.0\n",
       "3  0.007519  1.0  0.724138  0.534483  0.0  0.0  0.0  1.0\n",
       "4  0.010025  0.0  0.517241  0.385057  0.0  0.0  0.0  1.0"
      ]
     },
     "execution_count": 50,
     "metadata": {},
     "output_type": "execute_result"
    }
   ],
   "source": [
    "#normalize varibale using the minmax_scale function\n",
    "df_prob = minmax_scale(df)\n",
    "\n",
    "df_prob2 = pd.DataFrame(df_prob)\n",
    "df_prob2.head()"
   ]
  },
  {
   "cell_type": "code",
   "execution_count": 63,
   "metadata": {},
   "outputs": [
    {
     "name": "stdout",
     "output_type": "stream",
     "text": [
      "[[373 375 374 ... 372 380 381]\n",
      " [234 293 294 ... 274 275 276]\n",
      " [159 158 138 ... 174 164 189]\n",
      " ...\n",
      " [  0 271 270 ... 136 399 395]\n",
      " [  9  10   2 ...  12  13   6]\n",
      " [ 10   9  38 ...   0   2   1]]\n"
     ]
    }
   ],
   "source": [
    "high_eigen_vec = eigen_vectors.argsort()[::-1]   \n",
    "\n",
    "print(high_eigen_vec)\n"
   ]
  },
  {
   "cell_type": "code",
   "execution_count": 69,
   "metadata": {
    "scrolled": true
   },
   "outputs": [
    {
     "name": "stdout",
     "output_type": "stream",
     "text": [
      "[373 375 374   4   5  27  28  25  26 392 344 343  48  47 389 390 357 356\n",
      "  52  51  34  33  74  75 335  20  21  36  35  11   9  10  38 315 107 106\n",
      " 332 331 336 337 326 325 151  84  83 147 148 196 108 109 310 349 348 371\n",
      " 103 104  67  66  43  44 378 379 161 160 145 146 330 329 182 181 309 308\n",
      " 360 359 322 321   3 183 184 278 277  73  72 189 121 120 251 306 307 319\n",
      " 320 206 316  64  63 170 171 173 172  61  62  15  14 273 272 202 203 163\n",
      " 162 237 238 164 227 111 110 214 215 258 259 167 168   6 156 157 262 263\n",
      " 200 199  96  95 260 261 225 256 257 155 154 295 296 226 101 102 317 318\n",
      " 140 139 230 231 292 291 198 197 209 393 125 124 201 246 245 253 252 358\n",
      " 233 232 239 169 250 249 398 395 396 397 399 267 266 244 283 152 153  40\n",
      "  39 364 365 224 223 234 285 286 195 194 305 304 314 313  85  86 362 363\n",
      " 180 179 135 136 241 240  55  56 205 204 300 301  79  80 235 236  76 255\n",
      " 254 281 282 247 248 126 127 159 158 340 391 270 271 207 208 166 165 385\n",
      " 384 276 275 346 284 143 144 265 264 228 229 345 216 217 105 185 186 141\n",
      " 142 113 112 289 290 221 220 293 294 297 298 268 269 211 210 119 118 243\n",
      " 242 302 303 288 287 279 280 130 174 299 219 218 134 133 213 212 368 116\n",
      " 117  94  93 123 122 222 132 131  58  57 366 367  92  91 323 324 370 369\n",
      "  81  82 394 190 191  77  78 192 193 187 188 178 177 150 149 114 115 274\n",
      " 176 175 339 338  89  90 387 386 311 312 129 128  16  17   7   8 328 327\n",
      "  30  29 388 100  99 352 353 351 350 361   2   1 138 137  60  59  65  97\n",
      "  98 354 355  13  12  46  45  53  54  88  87  37  19  18 341 342  32  31\n",
      "  50  49 383 382  68  69  23  22  42  41 347 333 334  70  71   0  24 377\n",
      " 376 372 380 381]\n"
     ]
    }
   ],
   "source": [
    "gre_high_eigen_vec = high_eigen_vec[0]\n",
    "print(gre_high_eigen_vec)"
   ]
  },
  {
   "cell_type": "code",
   "execution_count": 71,
   "metadata": {
    "scrolled": false
   },
   "outputs": [
    {
     "name": "stdout",
     "output_type": "stream",
     "text": [
      "[234 293 294 315 296 295 196 208 207 345 255 254 282 281 292 291 332 331\n",
      " 201 152 153 231 230 299 333 334 183 184 174 287 288 251 263 262 309 308\n",
      " 357 356 164 222 318 317 189 284 112 113 157 156 238 237 162 163 348 349\n",
      " 199 200 358 178 177 360 359 136 135 272 273 227 279 280 115 114 310 313\n",
      " 314 371 235 236 209 373 290 289 372 117 116 350 351 110 111  83  84   4\n",
      "   5  89  90  43  44  79  80  94  93 144 143 131 132  41  42 149 150 362\n",
      " 363  99 100  76 182 181 129 128 380 381 376 377  34  33  50  49   0  92\n",
      "  91 192 193 225 340  24 364 365 214 215  53  54  55  56 148 147   3 352\n",
      " 353 106 107  16  17 374 375 265 264   6 221 220  88  87  27  28  48  47\n",
      "  30  29 130  65 391 382 383   8   7 390 389 127 126 394 185 186  67  66\n",
      "   9  10  19  18 172 173 399 398 397 396 395 388 385 384  11 393 392 301\n",
      " 300 240 241 101 102 387 386  32  31 305 304  62  61  21  20  14  15 154\n",
      " 155  35  36  12  13 320 319 347  75  74  77  78 125 124  72  73  70  71\n",
      " 104 103  51  52  40  39  69  68  59  60 329 330  82  81 379 378  37 247\n",
      " 248  25  26  57  58  23  22 216 217 325 326  46  45 368  64  63 121 120\n",
      "   2   1  38 228 229  95  96 146 145 366 367 206 176 175 303 302 324 323\n",
      " 361 105 119 118 191 190 108 109 239  86  85 268 269  97  98 297 298 338\n",
      " 339 224 223 169 370 369 249 250 139 140 167 168 261 260 233 232 195 194\n",
      " 198 197 142 141 202 203 328 327 151 354 355 336 337 344 343 286 285 134\n",
      " 133 123 122 170 171 256 257 321 322 138 137 258 259 180 179 341 342 271\n",
      " 270 316 306 307 244 160 161 242 243 312 311 159 158 267 266 213 212 283\n",
      " 346 205 204 218 219 188 187 245 246 335 210 211 166 165 252 253 278 277\n",
      " 226 274 275 276]\n"
     ]
    }
   ],
   "source": [
    "gpa_high_eigen_vec = high_eigen_vec[1]\n",
    "print(gpa_high_eigen_vec)"
   ]
  },
  {
   "cell_type": "code",
   "execution_count": 73,
   "metadata": {
    "collapsed": true
   },
   "outputs": [
    {
     "name": "stdout",
     "output_type": "stream",
     "text": [
      "[ 87282 109875 109956   1260   1480   7965   5488   5200   5382 135240\n",
      "  87720  87122  13536  13207 113588 113490 118524 117836  10452   7752\n",
      "   5202   7623  17020  22425 111555   6680   3843   6624   6090   3157\n",
      "   2592   2510   9994  82530  33063  32648 118524 117836  55104  74814\n",
      " 103668 103025  28539  23856   9296  16611  23236  30576  25704  25833\n",
      "  50220  56887 121104 129479  20497  20800  23986  11748   7611  15840\n",
      " 135702  51544  21735  43520  39585  33142  92070  92120  20930  20634\n",
      "  95790  96404 113040 133189  75670  75756    627  68259  53360  80342\n",
      " 103044   8541   8352  66150  42471  13200  27861  25398  25788   1276\n",
      "   1600  18334  28440   2752   2772  13430  13680  16262  15996   8784\n",
      "   8866   1965   1848  11193  11424  30098  30450  59006  58806  23463\n",
      "  23800  12464  41314  20091  14190  27392  81700  98298  97384  62959\n",
      "   5712    198   7800   7693      0  24196  18200  38208  18528  21375\n",
      "  88400   6264  81900  93440  54998  33325   8162  15930  16280  12656\n",
      "  14948  14994    951 111936  49420  14734  24610   3696   4964 108834\n",
      "  74250  52205  55176   2358  27625  27280  17688  21402   6615   7084\n",
      "  12096  16826   6990   6728  31070  10985  97750  95118 152434   3160\n",
      "   2772 154830 155211  33909  33516  96136  52355  28272  10251   2640\n",
      "    351   3640   6935   4032  38356  40482 113715 113828  77415  76824\n",
      " 120475 117952 120890 120192    935  33798 141904 109263  54000  42960\n",
      "  32535  13736  24582  92880  21230   1792   6355  62220  91200  18662\n",
      "   4819   1680   4700   3304   1140  39270  39370   9835  10152   2964\n",
      "   3224  40320  40513  55173  11850  25160  30107  21060  33875  25668\n",
      "  14976  12118  11550  27335  39936  28428  14025  17992  11360   5577\n",
      "   9936  18020  15576  13680  75341 113850  17712  17577  39795  69930\n",
      "   6882  34827  35216   2825   2912  16473  16820   5083   4840  63288\n",
      "  63798  96525  97148  12328  12105  77648  13440   7497  14278  29160\n",
      "    484    302  11514  65664  65723  26505  26880  18980  25230 109434\n",
      "  80373  44908  23584  23275  64539  64024 119232  37468  42237   9870\n",
      "  11067  14514  23302  42180  14256  14279  13862   4902  31110  98356\n",
      "  24748   8827  31654  96228 110260 124722  27459  18368  87862  32110\n",
      "  70670  28413  19422  48000  26827  26180  31396  29904  46197  39000\n",
      "  34717  26448  22425  53156  34848  34475  48138  47658  17978  18270\n",
      " 126936 126222  46961 110448  45795  43008   5392   5848   2401   2288\n",
      "  93480  43818   3990   3567  47336  17000  16929  90112  90721 112671\n",
      " 112700  49818    274    258  35742  24660  10740  20119  22230  26287\n",
      "  26460 111864 108630   3991   2928   7360   7245  12826  13122  27456\n",
      "  27057   5883   3002   4806  90706  72846   6784   8773  17300  10045\n",
      "  78132  83276  14892  12972   4301   5390  10332  13735  72870  70263\n",
      "  55444  11550  17892      0   6672 104429  84976 101928 104500 105156]\n"
     ]
    }
   ],
   "source": [
    "gg_eigen_vec = gre_high_eigen_vec * gpa_high_eigen_vec\n",
    "print(gg_eigen_vec)"
   ]
  },
  {
   "cell_type": "code",
   "execution_count": 75,
   "metadata": {},
   "outputs": [
    {
     "data": {
      "text/plain": [
       "79800"
      ]
     },
     "execution_count": 75,
     "metadata": {},
     "output_type": "execute_result"
    }
   ],
   "source": [
    "np.sum(gre_high_eigen_vec)"
   ]
  },
  {
   "cell_type": "code",
   "execution_count": 76,
   "metadata": {},
   "outputs": [
    {
     "data": {
      "text/plain": [
       "79800"
      ]
     },
     "execution_count": 76,
     "metadata": {},
     "output_type": "execute_result"
    }
   ],
   "source": [
    "np.sum(gpa_high_eigen_vec)"
   ]
  }
 ],
 "metadata": {
  "colab": {
   "collapsed_sections": [],
   "name": "test2_lin_models.ipynb",
   "provenance": [],
   "version": "0.3.2"
  },
  "kernelspec": {
   "display_name": "Python 3",
   "language": "python",
   "name": "python3"
  },
  "language_info": {
   "codemirror_mode": {
    "name": "ipython",
    "version": 3
   },
   "file_extension": ".py",
   "mimetype": "text/x-python",
   "name": "python",
   "nbconvert_exporter": "python",
   "pygments_lexer": "ipython3",
   "version": "3.5.4"
  }
 },
 "nbformat": 4,
 "nbformat_minor": 1
}
