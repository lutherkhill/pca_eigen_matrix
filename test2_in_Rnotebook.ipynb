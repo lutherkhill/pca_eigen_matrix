{
 "cells": [
  {
   "cell_type": "code",
   "execution_count": 1,
   "metadata": {},
   "outputs": [],
   "source": [
    "data=read.table(\"binary (1).txt\", header = T)"
   ]
  },
  {
   "cell_type": "code",
   "execution_count": 2,
   "metadata": {},
   "outputs": [
    {
     "data": {
      "text/html": [
       "<table>\n",
       "<caption>A data.frame: 6 x 4</caption>\n",
       "<thead>\n",
       "\t<tr><th scope=col>admit</th><th scope=col>gre</th><th scope=col>gpa</th><th scope=col>rank</th></tr>\n",
       "\t<tr><th scope=col>&lt;int&gt;</th><th scope=col>&lt;int&gt;</th><th scope=col>&lt;dbl&gt;</th><th scope=col>&lt;int&gt;</th></tr>\n",
       "</thead>\n",
       "<tbody>\n",
       "\t<tr><td>0</td><td>380</td><td>3.61</td><td>3</td></tr>\n",
       "\t<tr><td>1</td><td>660</td><td>3.67</td><td>3</td></tr>\n",
       "\t<tr><td>1</td><td>800</td><td>4.00</td><td>1</td></tr>\n",
       "\t<tr><td>1</td><td>640</td><td>3.19</td><td>4</td></tr>\n",
       "\t<tr><td>0</td><td>520</td><td>2.93</td><td>4</td></tr>\n",
       "\t<tr><td>1</td><td>760</td><td>3.00</td><td>2</td></tr>\n",
       "</tbody>\n",
       "</table>\n"
      ],
      "text/latex": [
       "A data.frame: 6 x 4\n",
       "\\begin{tabular}{r|llll}\n",
       " admit & gre & gpa & rank\\\\\n",
       " <int> & <int> & <dbl> & <int>\\\\\n",
       "\\hline\n",
       "\t 0 & 380 & 3.61 & 3\\\\\n",
       "\t 1 & 660 & 3.67 & 3\\\\\n",
       "\t 1 & 800 & 4.00 & 1\\\\\n",
       "\t 1 & 640 & 3.19 & 4\\\\\n",
       "\t 0 & 520 & 2.93 & 4\\\\\n",
       "\t 1 & 760 & 3.00 & 2\\\\\n",
       "\\end{tabular}\n"
      ],
      "text/markdown": [
       "\n",
       "A data.frame: 6 x 4\n",
       "\n",
       "| admit &lt;int&gt; | gre &lt;int&gt; | gpa &lt;dbl&gt; | rank &lt;int&gt; |\n",
       "|---|---|---|---|\n",
       "| 0 | 380 | 3.61 | 3 |\n",
       "| 1 | 660 | 3.67 | 3 |\n",
       "| 1 | 800 | 4.00 | 1 |\n",
       "| 1 | 640 | 3.19 | 4 |\n",
       "| 0 | 520 | 2.93 | 4 |\n",
       "| 1 | 760 | 3.00 | 2 |\n",
       "\n"
      ],
      "text/plain": [
       "  admit gre gpa  rank\n",
       "1 0     380 3.61 3   \n",
       "2 1     660 3.67 3   \n",
       "3 1     800 4.00 1   \n",
       "4 1     640 3.19 4   \n",
       "5 0     520 2.93 4   \n",
       "6 1     760 3.00 2   "
      ]
     },
     "metadata": {},
     "output_type": "display_data"
    }
   ],
   "source": [
    "head(data)"
   ]
  },
  {
   "cell_type": "code",
   "execution_count": 3,
   "metadata": {},
   "outputs": [],
   "source": [
    "y=data$admit"
   ]
  },
  {
   "cell_type": "code",
   "execution_count": 4,
   "metadata": {},
   "outputs": [],
   "source": [
    "x=cbind(matrix(data$gre), matrix(data$gpa))"
   ]
  },
  {
   "cell_type": "markdown",
   "metadata": {},
   "source": [
    "Project number 1\n",
    "question A"
   ]
  },
  {
   "cell_type": "code",
   "execution_count": 5,
   "metadata": {},
   "outputs": [
    {
     "data": {
      "text/html": [
       "<ol class=list-inline>\n",
       "\t<li>587.7</li>\n",
       "\t<li>3.3899</li>\n",
       "</ol>\n"
      ],
      "text/latex": [
       "\\begin{enumerate*}\n",
       "\\item 587.7\n",
       "\\item 3.3899\n",
       "\\end{enumerate*}\n"
      ],
      "text/markdown": [
       "1. 587.7\n",
       "2. 3.3899\n",
       "\n",
       "\n"
      ],
      "text/plain": [
       "[1] 587.7000   3.3899"
      ]
     },
     "metadata": {},
     "output_type": "display_data"
    }
   ],
   "source": [
    "m=c(mean(x[,1]),mean(x[,2]))\n",
    "m"
   ]
  },
  {
   "cell_type": "code",
   "execution_count": 6,
   "metadata": {},
   "outputs": [
    {
     "data": {
      "text/html": [
       "<ol class=list-inline>\n",
       "\t<li>13344.0701754386</li>\n",
       "\t<li>0.144831067669173</li>\n",
       "</ol>\n"
      ],
      "text/latex": [
       "\\begin{enumerate*}\n",
       "\\item 13344.0701754386\n",
       "\\item 0.144831067669173\n",
       "\\end{enumerate*}\n"
      ],
      "text/markdown": [
       "1. 13344.0701754386\n",
       "2. 0.144831067669173\n",
       "\n",
       "\n"
      ],
      "text/plain": [
       "[1] 1.334407e+04 1.448311e-01"
      ]
     },
     "metadata": {},
     "output_type": "display_data"
    }
   ],
   "source": [
    "v=c(var(x[,1]),var(x[,2]))\n",
    "v"
   ]
  },
  {
   "cell_type": "markdown",
   "metadata": {},
   "source": [
    "question b"
   ]
  },
  {
   "cell_type": "code",
   "execution_count": 7,
   "metadata": {},
   "outputs": [
    {
     "data": {
      "text/html": [
       "<ol class=list-inline>\n",
       "\t<li>-4.01098425306667e-16</li>\n",
       "\t<li>2.27270459396411e-16</li>\n",
       "</ol>\n"
      ],
      "text/latex": [
       "\\begin{enumerate*}\n",
       "\\item -4.01098425306667e-16\n",
       "\\item 2.27270459396411e-16\n",
       "\\end{enumerate*}\n"
      ],
      "text/markdown": [
       "1. -4.01098425306667e-16\n",
       "2. 2.27270459396411e-16\n",
       "\n",
       "\n"
      ],
      "text/plain": [
       "[1] -4.010984e-16  2.272705e-16"
      ]
     },
     "metadata": {},
     "output_type": "display_data"
    }
   ],
   "source": [
    "xn=scale(x)\n",
    "mn=c(mean(xn[,1]),mean(xn[,2]))\n",
    "mn"
   ]
  },
  {
   "cell_type": "code",
   "execution_count": 8,
   "metadata": {},
   "outputs": [
    {
     "data": {
      "text/html": [
       "<ol class=list-inline>\n",
       "\t<li>1</li>\n",
       "\t<li>1</li>\n",
       "</ol>\n"
      ],
      "text/latex": [
       "\\begin{enumerate*}\n",
       "\\item 1\n",
       "\\item 1\n",
       "\\end{enumerate*}\n"
      ],
      "text/markdown": [
       "1. 1\n",
       "2. 1\n",
       "\n",
       "\n"
      ],
      "text/plain": [
       "[1] 1 1"
      ]
     },
     "metadata": {},
     "output_type": "display_data"
    }
   ],
   "source": [
    "vn=c(var(xn[,1]),var(xn[,2]))\n",
    "vn"
   ]
  },
  {
   "cell_type": "markdown",
   "metadata": {},
   "source": [
    "question c"
   ]
  },
  {
   "cell_type": "code",
   "execution_count": 9,
   "metadata": {},
   "outputs": [
    {
     "data": {
      "text/html": [
       "<table>\n",
       "<caption>A matrix: 2 x 2 of type dbl</caption>\n",
       "<tbody>\n",
       "\t<tr><td>1.0000000</td><td>0.3842659</td></tr>\n",
       "\t<tr><td>0.3842659</td><td>1.0000000</td></tr>\n",
       "</tbody>\n",
       "</table>\n"
      ],
      "text/latex": [
       "A matrix: 2 x 2 of type dbl\n",
       "\\begin{tabular}{ll}\n",
       "\t 1.0000000 & 0.3842659\\\\\n",
       "\t 0.3842659 & 1.0000000\\\\\n",
       "\\end{tabular}\n"
      ],
      "text/markdown": [
       "\n",
       "A matrix: 2 x 2 of type dbl\n",
       "\n",
       "| 1.0000000 | 0.3842659 |\n",
       "| 0.3842659 | 1.0000000 |\n",
       "\n"
      ],
      "text/plain": [
       "     [,1]      [,2]     \n",
       "[1,] 1.0000000 0.3842659\n",
       "[2,] 0.3842659 1.0000000"
      ]
     },
     "metadata": {},
     "output_type": "display_data"
    }
   ],
   "source": [
    "c=cor(xn)\n",
    "c"
   ]
  },
  {
   "cell_type": "code",
   "execution_count": 10,
   "metadata": {},
   "outputs": [
    {
     "data": {
      "image/jpeg": "[encoded data removed]",
      "image/png": "",
      "image/svg+xml": [
       "<?xml version=\"1.0\" encoding=\"UTF-8\"?>\n",
       "<svg xmlns=\"http://www.w3.org/2000/svg\" xmlns:xlink=\"http://www.w3.org/1999/xlink\" width=\"288pt\" height=\"216pt\" viewBox=\"0 0 288 216\" version=\"1.1\">\n",
       "<defs>\n",
       "<g>\n",
       "<symbol overflow=\"visible\" id=\"glyph0-0\">\n",
       "<path style=\"stroke:none;\" d=\"\"/>\n",
       "</symbol>\n",
       "<symbol overflow=\"visible\" id=\"glyph0-1\">\n",
       "<path style=\"stroke:none;\" d=\"M 3.671875 -3.125 L 3.671875 -4.15625 L 0.4375 -4.15625 L 0.4375 -3 L 3.671875 -3 Z M 3.671875 -3.125 \"/>\n",
       "</symbol>\n",
       "<symbol overflow=\"visible\" id=\"glyph0-2\">\n",
       "<path style=\"stroke:none;\" d=\"M 6.453125 -2.703125 C 6.453125 -3.78125 5.890625 -4.53125 4.828125 -4.90625 L 4.828125 -4.640625 C 5.65625 -4.96875 6.1875 -5.65625 6.1875 -6.546875 C 6.1875 -8.078125 5.046875 -9.125 3.359375 -9.125 C 1.578125 -9.125 0.484375 -8.015625 0.453125 -6 L 1.8125 -6 C 1.84375 -7.4375 2.25 -7.90625 3.375 -7.90625 C 4.34375 -7.90625 4.796875 -7.453125 4.796875 -6.515625 C 4.796875 -5.5625 4.53125 -5.3125 2.625 -5.3125 L 2.625 -4.125 L 3.359375 -4.125 C 4.578125 -4.125 5.0625 -3.671875 5.0625 -2.6875 C 5.0625 -1.578125 4.515625 -1.046875 3.359375 -1.046875 C 2.15625 -1.046875 1.703125 -1.515625 1.609375 -2.9375 L 0.25 -2.9375 C 0.40625 -0.828125 1.515625 0.1875 3.328125 0.1875 C 5.15625 0.1875 6.453125 -1.03125 6.453125 -2.703125 Z M 6.453125 -2.703125 \"/>\n",
       "</symbol>\n",
       "<symbol overflow=\"visible\" id=\"glyph0-3\">\n",
       "<path style=\"stroke:none;\" d=\"M 6.515625 -6.390625 C 6.515625 -7.890625 5.21875 -9.125 3.546875 -9.125 C 1.734375 -9.125 0.546875 -8.0625 0.484375 -5.78125 L 1.84375 -5.78125 C 1.9375 -7.40625 2.421875 -7.90625 3.515625 -7.90625 C 4.515625 -7.90625 5.125 -7.3125 5.125 -6.359375 C 5.125 -5.65625 4.75 -5.15625 3.96875 -4.703125 L 2.8125 -4.046875 C 0.96875 -3 0.390625 -2.078125 0.28125 0 L 6.453125 0 L 6.453125 -1.34375 L 1.8125 -1.34375 C 1.90625 -1.9375 2.265625 -2.3125 3.34375 -2.953125 L 4.59375 -3.625 C 5.84375 -4.28125 6.515625 -5.296875 6.515625 -6.390625 Z M 6.515625 -6.390625 \"/>\n",
       "</symbol>\n",
       "<symbol overflow=\"visible\" id=\"glyph0-4\">\n",
       "<path style=\"stroke:none;\" d=\"M 4.46875 -0.125 L 4.46875 -9.125 L 3.515625 -9.125 C 3.09375 -7.625 2.96875 -7.578125 1.140625 -7.34375 L 1.140625 -6.3125 L 3.09375 -6.3125 L 3.09375 0 L 4.46875 0 Z M 4.46875 -0.125 \"/>\n",
       "</symbol>\n",
       "<symbol overflow=\"visible\" id=\"glyph0-5\">\n",
       "<path style=\"stroke:none;\" d=\"M 6.46875 -4.390625 C 6.46875 -7.46875 5.359375 -9.125 3.4375 -9.125 C 1.53125 -9.125 0.40625 -7.4375 0.40625 -4.46875 C 0.40625 -1.46875 1.53125 0.1875 3.4375 0.1875 C 5.3125 0.1875 6.46875 -1.46875 6.46875 -4.390625 Z M 5.078125 -4.484375 C 5.078125 -1.96875 4.640625 -0.984375 3.40625 -0.984375 C 2.25 -0.984375 1.78125 -2.03125 1.78125 -4.453125 C 1.78125 -6.875 2.25 -7.890625 3.4375 -7.890625 C 4.625 -7.890625 5.078125 -6.859375 5.078125 -4.484375 Z M 5.078125 -4.484375 \"/>\n",
       "</symbol>\n",
       "<symbol overflow=\"visible\" id=\"glyph0-6\">\n",
       "<path style=\"stroke:none;\" d=\"M 6 -0.21875 L 3.796875 -3.515625 L 6.09375 -6.8125 L 4.59375 -6.8125 L 3.09375 -4.53125 L 1.59375 -6.8125 L 0.09375 -6.8125 L 2.359375 -3.46875 L -0.03125 0 L 1.46875 0 L 3.046875 -2.40625 L 4.625 0 L 6.15625 0 Z M 6 -0.21875 \"/>\n",
       "</symbol>\n",
       "<symbol overflow=\"visible\" id=\"glyph0-7\">\n",
       "<path style=\"stroke:none;\" d=\"M 6.21875 -0.125 L 6.21875 -5.078125 C 6.21875 -6.15625 5.28125 -7 4.015625 -7 C 3.03125 -7 2.3125 -6.578125 1.734375 -5.65625 L 1.96875 -5.578125 L 1.96875 -6.8125 L 0.734375 -6.8125 L 0.734375 0 L 2.03125 0 L 2.03125 -3.734375 C 2.03125 -5.078125 2.640625 -5.828125 3.703125 -5.828125 C 4.53125 -5.828125 4.90625 -5.453125 4.90625 -4.65625 L 4.90625 0 L 6.21875 0 Z M 6.21875 -0.125 \"/>\n",
       "</symbol>\n",
       "<symbol overflow=\"visible\" id=\"glyph0-8\">\n",
       "<path style=\"stroke:none;\" d=\"M 3.25 2.53125 L 3.25 1.484375 L 1.96875 1.484375 L 1.96875 -8.21875 L 3.25 -8.21875 L 3.25 -9.375 L 0.65625 -9.375 L 0.65625 2.65625 L 3.25 2.65625 Z M 3.25 2.53125 \"/>\n",
       "</symbol>\n",
       "<symbol overflow=\"visible\" id=\"glyph0-9\">\n",
       "<path style=\"stroke:none;\" d=\"M 2.53125 0.078125 L 2.53125 -1.5625 L 0.953125 -1.5625 L 0.953125 0 L 1.703125 0 L 1.703125 0.09375 C 1.703125 0.96875 1.671875 1.078125 0.953125 1.109375 L 0.953125 1.84375 C 1.96875 1.84375 2.53125 1.15625 2.53125 0.078125 Z M 2.53125 0.078125 \"/>\n",
       "</symbol>\n",
       "<symbol overflow=\"visible\" id=\"glyph0-10\">\n",
       "<path style=\"stroke:none;\" d=\"\"/>\n",
       "</symbol>\n",
       "<symbol overflow=\"visible\" id=\"glyph0-11\">\n",
       "<path style=\"stroke:none;\" d=\"M 2.734375 2.53125 L 2.734375 -9.375 L 0.15625 -9.375 L 0.15625 -8.21875 L 1.4375 -8.21875 L 1.4375 1.484375 L 0.15625 1.484375 L 0.15625 2.65625 L 2.734375 2.65625 Z M 2.734375 2.53125 \"/>\n",
       "</symbol>\n",
       "<symbol overflow=\"visible\" id=\"glyph1-0\">\n",
       "<path style=\"stroke:none;\" d=\"\"/>\n",
       "</symbol>\n",
       "<symbol overflow=\"visible\" id=\"glyph1-1\">\n",
       "<path style=\"stroke:none;\" d=\"M -3.125 -3.671875 L -4.15625 -3.671875 L -4.15625 -0.4375 L -3 -0.4375 L -3 -3.671875 Z M -3.125 -3.671875 \"/>\n",
       "</symbol>\n",
       "<symbol overflow=\"visible\" id=\"glyph1-2\">\n",
       "<path style=\"stroke:none;\" d=\"M -2.703125 -6.453125 C -3.78125 -6.453125 -4.53125 -5.890625 -4.90625 -4.828125 L -4.640625 -4.828125 C -4.96875 -5.65625 -5.65625 -6.1875 -6.546875 -6.1875 C -8.078125 -6.1875 -9.125 -5.046875 -9.125 -3.359375 C -9.125 -1.578125 -8.015625 -0.484375 -6 -0.453125 L -6 -1.8125 C -7.4375 -1.84375 -7.90625 -2.25 -7.90625 -3.375 C -7.90625 -4.34375 -7.453125 -4.796875 -6.515625 -4.796875 C -5.5625 -4.796875 -5.3125 -4.53125 -5.3125 -2.625 L -4.125 -2.625 L -4.125 -3.359375 C -4.125 -4.578125 -3.671875 -5.0625 -2.6875 -5.0625 C -1.578125 -5.0625 -1.046875 -4.515625 -1.046875 -3.359375 C -1.046875 -2.15625 -1.515625 -1.703125 -2.9375 -1.609375 L -2.9375 -0.25 C -0.828125 -0.40625 0.1875 -1.515625 0.1875 -3.328125 C 0.1875 -5.15625 -1.03125 -6.453125 -2.703125 -6.453125 Z M -2.703125 -6.453125 \"/>\n",
       "</symbol>\n",
       "<symbol overflow=\"visible\" id=\"glyph1-3\">\n",
       "<path style=\"stroke:none;\" d=\"M -0.125 -4.46875 L -9.125 -4.46875 L -9.125 -3.515625 C -7.625 -3.09375 -7.578125 -2.96875 -7.34375 -1.140625 L -6.3125 -1.140625 L -6.3125 -3.09375 L 0 -3.09375 L 0 -4.46875 Z M -0.125 -4.46875 \"/>\n",
       "</symbol>\n",
       "<symbol overflow=\"visible\" id=\"glyph1-4\">\n",
       "<path style=\"stroke:none;\" d=\"M -0.21875 -6 L -3.515625 -3.796875 L -6.8125 -6.09375 L -6.8125 -4.59375 L -4.53125 -3.09375 L -6.8125 -1.59375 L -6.8125 -0.09375 L -3.46875 -2.359375 L 0 0.03125 L 0 -1.46875 L -2.40625 -3.046875 L 0 -4.625 L 0 -6.15625 Z M -0.21875 -6 \"/>\n",
       "</symbol>\n",
       "<symbol overflow=\"visible\" id=\"glyph1-5\">\n",
       "<path style=\"stroke:none;\" d=\"M -0.125 -6.21875 L -5.078125 -6.21875 C -6.15625 -6.21875 -7 -5.28125 -7 -4.015625 C -7 -3.03125 -6.578125 -2.3125 -5.65625 -1.734375 L -5.578125 -1.96875 L -6.8125 -1.96875 L -6.8125 -0.734375 L 0 -0.734375 L 0 -2.03125 L -3.734375 -2.03125 C -5.078125 -2.03125 -5.828125 -2.640625 -5.828125 -3.703125 C -5.828125 -4.53125 -5.453125 -4.90625 -4.65625 -4.90625 L 0 -4.90625 L 0 -6.21875 Z M -0.125 -6.21875 \"/>\n",
       "</symbol>\n",
       "<symbol overflow=\"visible\" id=\"glyph1-6\">\n",
       "<path style=\"stroke:none;\" d=\"M 2.53125 -3.25 L 1.484375 -3.25 L 1.484375 -1.96875 L -8.21875 -1.96875 L -8.21875 -3.25 L -9.375 -3.25 L -9.375 -0.65625 L 2.65625 -0.65625 L 2.65625 -3.25 Z M 2.53125 -3.25 \"/>\n",
       "</symbol>\n",
       "<symbol overflow=\"visible\" id=\"glyph1-7\">\n",
       "<path style=\"stroke:none;\" d=\"M 0.078125 -2.53125 L -1.5625 -2.53125 L -1.5625 -0.953125 L 0 -0.953125 L 0 -1.703125 L 0.09375 -1.703125 C 0.96875 -1.703125 1.078125 -1.671875 1.109375 -0.953125 L 1.84375 -0.953125 C 1.84375 -1.96875 1.15625 -2.53125 0.078125 -2.53125 Z M 0.078125 -2.53125 \"/>\n",
       "</symbol>\n",
       "<symbol overflow=\"visible\" id=\"glyph1-8\">\n",
       "<path style=\"stroke:none;\" d=\"\"/>\n",
       "</symbol>\n",
       "<symbol overflow=\"visible\" id=\"glyph1-9\">\n",
       "<path style=\"stroke:none;\" d=\"M -6.390625 -6.515625 C -7.890625 -6.515625 -9.125 -5.21875 -9.125 -3.546875 C -9.125 -1.734375 -8.0625 -0.546875 -5.78125 -0.484375 L -5.78125 -1.84375 C -7.40625 -1.9375 -7.90625 -2.421875 -7.90625 -3.515625 C -7.90625 -4.515625 -7.3125 -5.125 -6.359375 -5.125 C -5.65625 -5.125 -5.15625 -4.75 -4.703125 -3.96875 L -4.046875 -2.8125 C -3 -0.96875 -2.078125 -0.390625 0 -0.28125 L 0 -6.453125 L -1.34375 -6.453125 L -1.34375 -1.8125 C -1.9375 -1.90625 -2.3125 -2.265625 -2.953125 -3.34375 L -3.625 -4.59375 C -4.28125 -5.84375 -5.296875 -6.515625 -6.390625 -6.515625 Z M -6.390625 -6.515625 \"/>\n",
       "</symbol>\n",
       "<symbol overflow=\"visible\" id=\"glyph1-10\">\n",
       "<path style=\"stroke:none;\" d=\"M 2.53125 -2.734375 L -9.375 -2.734375 L -9.375 -0.15625 L -8.21875 -0.15625 L -8.21875 -1.4375 L 1.484375 -1.4375 L 1.484375 -0.15625 L 2.65625 -0.15625 L 2.65625 -2.734375 Z M 2.53125 -2.734375 \"/>\n",
       "</symbol>\n",
       "</g>\n",
       "<clipPath id=\"clip1\">\n",
       "  <path d=\"M 246 59.039062 L 255 59.039062 L 255 66 L 246 66 Z M 246 59.039062 \"/>\n",
       "</clipPath>\n",
       "<clipPath id=\"clip2\">\n",
       "  <path d=\"M 246 59.039062 L 255 59.039062 L 255 66 L 246 66 Z M 246 59.039062 \"/>\n",
       "</clipPath>\n",
       "<clipPath id=\"clip3\">\n",
       "  <path d=\"M 234 59.039062 L 242 59.039062 L 242 66 L 234 66 Z M 234 59.039062 \"/>\n",
       "</clipPath>\n",
       "<clipPath id=\"clip4\">\n",
       "  <path d=\"M 214 59.039062 L 223 59.039062 L 223 66 L 214 66 Z M 214 59.039062 \"/>\n",
       "</clipPath>\n",
       "<clipPath id=\"clip5\">\n",
       "  <path d=\"M 246 59.039062 L 255 59.039062 L 255 66 L 246 66 Z M 246 59.039062 \"/>\n",
       "</clipPath>\n",
       "<clipPath id=\"clip6\">\n",
       "  <path d=\"M 227 59.039062 L 236 59.039062 L 236 66 L 227 66 Z M 227 59.039062 \"/>\n",
       "</clipPath>\n",
       "<clipPath id=\"clip7\">\n",
       "  <path d=\"M 176 59.039062 L 185 59.039062 L 185 66 L 176 66 Z M 176 59.039062 \"/>\n",
       "</clipPath>\n",
       "<clipPath id=\"clip8\">\n",
       "  <path d=\"M 195 59.039062 L 204 59.039062 L 204 66 L 195 66 Z M 195 59.039062 \"/>\n",
       "</clipPath>\n",
       "<clipPath id=\"clip9\">\n",
       "  <path d=\"M 176 59.039062 L 185 59.039062 L 185 66 L 176 66 Z M 176 59.039062 \"/>\n",
       "</clipPath>\n",
       "<clipPath id=\"clip10\">\n",
       "  <path d=\"M 221 59.039062 L 229 59.039062 L 229 66 L 221 66 Z M 221 59.039062 \"/>\n",
       "</clipPath>\n",
       "<clipPath id=\"clip11\">\n",
       "  <path d=\"M 246 59.039062 L 255 59.039062 L 255 66 L 246 66 Z M 246 59.039062 \"/>\n",
       "</clipPath>\n",
       "<clipPath id=\"clip12\">\n",
       "  <path d=\"M 189 59.039062 L 197 59.039062 L 197 66 L 189 66 Z M 189 59.039062 \"/>\n",
       "</clipPath>\n",
       "<clipPath id=\"clip13\">\n",
       "  <path d=\"M 202 59.039062 L 210 59.039062 L 210 66 L 202 66 Z M 202 59.039062 \"/>\n",
       "</clipPath>\n",
       "<clipPath id=\"clip14\">\n",
       "  <path d=\"M 189 59.039062 L 197 59.039062 L 197 67 L 189 67 Z M 189 59.039062 \"/>\n",
       "</clipPath>\n",
       "<clipPath id=\"clip15\">\n",
       "  <path d=\"M 214 59.039062 L 223 59.039062 L 223 66 L 214 66 Z M 214 59.039062 \"/>\n",
       "</clipPath>\n",
       "<clipPath id=\"clip16\">\n",
       "  <path d=\"M 214 59.039062 L 223 59.039062 L 223 66 L 214 66 Z M 214 59.039062 \"/>\n",
       "</clipPath>\n",
       "<clipPath id=\"clip17\">\n",
       "  <path d=\"M 151 59.039062 L 159 59.039062 L 159 66 L 151 66 Z M 151 59.039062 \"/>\n",
       "</clipPath>\n",
       "<clipPath id=\"clip18\">\n",
       "  <path d=\"M 214 59.039062 L 223 59.039062 L 223 66 L 214 66 Z M 214 59.039062 \"/>\n",
       "</clipPath>\n",
       "<clipPath id=\"clip19\">\n",
       "  <path d=\"M 214 59.039062 L 223 59.039062 L 223 66 L 214 66 Z M 214 59.039062 \"/>\n",
       "</clipPath>\n",
       "<clipPath id=\"clip20\">\n",
       "  <path d=\"M 208 59.039062 L 217 59.039062 L 217 67 L 208 67 Z M 208 59.039062 \"/>\n",
       "</clipPath>\n",
       "<clipPath id=\"clip21\">\n",
       "  <path d=\"M 145 59.039062 L 153 59.039062 L 153 66 L 145 66 Z M 145 59.039062 \"/>\n",
       "</clipPath>\n",
       "<clipPath id=\"clip22\">\n",
       "  <path d=\"M 157 59.039062 L 166 59.039062 L 166 66 L 157 66 Z M 157 59.039062 \"/>\n",
       "</clipPath>\n",
       "<clipPath id=\"clip23\">\n",
       "  <path d=\"M 126 135 L 134 135 L 134 143.558594 L 126 143.558594 Z M 126 135 \"/>\n",
       "</clipPath>\n",
       "<clipPath id=\"clip24\">\n",
       "  <path d=\"M 246 59.039062 L 255 59.039062 L 255 68 L 246 68 Z M 246 59.039062 \"/>\n",
       "</clipPath>\n",
       "<clipPath id=\"clip25\">\n",
       "  <path d=\"M 208 59.039062 L 217 59.039062 L 217 67 L 208 67 Z M 208 59.039062 \"/>\n",
       "</clipPath>\n",
       "<clipPath id=\"clip26\">\n",
       "  <path d=\"M 170 59.039062 L 178 59.039062 L 178 66 L 170 66 Z M 170 59.039062 \"/>\n",
       "</clipPath>\n",
       "<clipPath id=\"clip27\">\n",
       "  <path d=\"M 227 59.039062 L 236 59.039062 L 236 66 L 227 66 Z M 227 59.039062 \"/>\n",
       "</clipPath>\n",
       "<clipPath id=\"clip28\">\n",
       "  <path d=\"M 240 59.039062 L 248 59.039062 L 248 66 L 240 66 Z M 240 59.039062 \"/>\n",
       "</clipPath>\n",
       "<clipPath id=\"clip29\">\n",
       "  <path d=\"M 157 59.039062 L 166 59.039062 L 166 66 L 157 66 Z M 157 59.039062 \"/>\n",
       "</clipPath>\n",
       "<clipPath id=\"clip30\">\n",
       "  <path d=\"M 176 59.039062 L 185 59.039062 L 185 66 L 176 66 Z M 176 59.039062 \"/>\n",
       "</clipPath>\n",
       "<clipPath id=\"clip31\">\n",
       "  <path d=\"M 246 59.039062 L 255 59.039062 L 255 66 L 246 66 Z M 246 59.039062 \"/>\n",
       "</clipPath>\n",
       "<clipPath id=\"clip32\">\n",
       "  <path d=\"M 202 59.039062 L 210 59.039062 L 210 66 L 202 66 Z M 202 59.039062 \"/>\n",
       "</clipPath>\n",
       "<clipPath id=\"clip33\">\n",
       "  <path d=\"M 138 59.039062 L 147 59.039062 L 147 67 L 138 67 Z M 138 59.039062 \"/>\n",
       "</clipPath>\n",
       "<clipPath id=\"clip34\">\n",
       "  <path d=\"M 189 59.039062 L 197 59.039062 L 197 66 L 189 66 Z M 189 59.039062 \"/>\n",
       "</clipPath>\n",
       "</defs>\n",
       "<g id=\"surface101\">\n",
       "<rect x=\"0\" y=\"0\" width=\"288\" height=\"216\" style=\"fill:rgb(100%,100%,100%);fill-opacity:1;stroke:none;\"/>\n",
       "<path style=\"fill:none;stroke-width:1;stroke-linecap:round;stroke-linejoin:round;stroke:rgb(0%,0%,0%);stroke-opacity:1;stroke-miterlimit:10;\" d=\"M 120.359375 79.464844 C 120.359375 83.734375 113.957031 83.734375 113.957031 79.464844 C 113.957031 75.199219 120.359375 75.199219 120.359375 79.464844 \"/>\n",
       "<path style=\"fill:none;stroke-width:1;stroke-linecap:round;stroke-linejoin:round;stroke:rgb(0%,0%,0%);stroke-opacity:1;stroke-miterlimit:10;\" d=\"M 209.1875 76.800781 C 209.1875 81.066406 202.785156 81.066406 202.785156 76.800781 C 202.785156 72.535156 209.1875 72.535156 209.1875 76.800781 \"/>\n",
       "<g clip-path=\"url(#clip1)\" clip-rule=\"nonzero\">\n",
       "<path style=\"fill:none;stroke-width:1;stroke-linecap:round;stroke-linejoin:round;stroke:rgb(0%,0%,0%);stroke-opacity:1;stroke-miterlimit:10;\" d=\"M 253.601562 62.132812 C 253.601562 66.398438 247.199219 66.398438 247.199219 62.132812 C 247.199219 57.867188 253.601562 57.867188 253.601562 62.132812 \"/>\n",
       "</g>\n",
       "<path style=\"fill:none;stroke-width:1;stroke-linecap:round;stroke-linejoin:round;stroke:rgb(0%,0%,0%);stroke-opacity:1;stroke-miterlimit:10;\" d=\"M 202.839844 98.132812 C 202.839844 102.398438 196.441406 102.398438 196.441406 98.132812 C 196.441406 93.867188 202.839844 93.867188 202.839844 98.132812 \"/>\n",
       "<path style=\"fill:none;stroke-width:1;stroke-linecap:round;stroke-linejoin:round;stroke:rgb(0%,0%,0%);stroke-opacity:1;stroke-miterlimit:10;\" d=\"M 164.773438 109.6875 C 164.773438 113.957031 158.371094 113.957031 158.371094 109.6875 C 158.371094 105.421875 164.773438 105.421875 164.773438 109.6875 \"/>\n",
       "<path style=\"fill:none;stroke-width:1;stroke-linecap:round;stroke-linejoin:round;stroke:rgb(0%,0%,0%);stroke-opacity:1;stroke-miterlimit:10;\" d=\"M 240.910156 106.578125 C 240.910156 110.84375 234.511719 110.84375 234.511719 106.578125 C 234.511719 102.3125 240.910156 102.3125 240.910156 106.578125 \"/>\n",
       "<path style=\"fill:none;stroke-width:1;stroke-linecap:round;stroke-linejoin:round;stroke:rgb(0%,0%,0%);stroke-opacity:1;stroke-miterlimit:10;\" d=\"M 177.460938 107.464844 C 177.460938 111.734375 171.0625 111.734375 171.0625 107.464844 C 171.0625 103.199219 177.460938 103.199219 177.460938 107.464844 \"/>\n",
       "<path style=\"fill:none;stroke-width:1;stroke-linecap:round;stroke-linejoin:round;stroke:rgb(0%,0%,0%);stroke-opacity:1;stroke-miterlimit:10;\" d=\"M 126.703125 103.023438 C 126.703125 107.289062 120.304688 107.289062 120.304688 103.023438 C 120.304688 98.753906 126.703125 98.753906 126.703125 103.023438 \"/>\n",
       "<path style=\"fill:none;stroke-width:1;stroke-linecap:round;stroke-linejoin:round;stroke:rgb(0%,0%,0%);stroke-opacity:1;stroke-miterlimit:10;\" d=\"M 171.117188 89.246094 C 171.117188 93.511719 164.71875 93.511719 164.71875 89.246094 C 164.71875 84.976562 171.117188 84.976562 171.117188 89.246094 \"/>\n",
       "<path style=\"fill:none;stroke-width:1;stroke-linecap:round;stroke-linejoin:round;stroke:rgb(0%,0%,0%);stroke-opacity:1;stroke-miterlimit:10;\" d=\"M 221.875 65.6875 C 221.875 69.957031 215.476562 69.957031 215.476562 65.6875 C 215.476562 61.421875 221.875 61.421875 221.875 65.6875 \"/>\n",
       "<g clip-path=\"url(#clip2)\" clip-rule=\"nonzero\">\n",
       "<path style=\"fill:none;stroke-width:1;stroke-linecap:round;stroke-linejoin:round;stroke:rgb(0%,0%,0%);stroke-opacity:1;stroke-miterlimit:10;\" d=\"M 253.601562 62.132812 C 253.601562 66.398438 247.199219 66.398438 247.199219 62.132812 C 247.199219 57.867188 253.601562 57.867188 253.601562 62.132812 \"/>\n",
       "</g>\n",
       "<path style=\"fill:none;stroke-width:1;stroke-linecap:round;stroke-linejoin:round;stroke:rgb(0%,0%,0%);stroke-opacity:1;stroke-miterlimit:10;\" d=\"M 139.394531 96.800781 C 139.394531 101.066406 132.992188 101.066406 132.992188 96.800781 C 132.992188 92.535156 139.394531 92.535156 139.394531 96.800781 \"/>\n",
       "<g clip-path=\"url(#clip3)\" clip-rule=\"nonzero\">\n",
       "<path style=\"fill:none;stroke-width:1;stroke-linecap:round;stroke-linejoin:round;stroke:rgb(0%,0%,0%);stroke-opacity:1;stroke-miterlimit:10;\" d=\"M 240.910156 62.132812 C 240.910156 66.398438 234.511719 66.398438 234.511719 62.132812 C 234.511719 57.867188 240.910156 57.867188 240.910156 62.132812 \"/>\n",
       "</g>\n",
       "<path style=\"fill:none;stroke-width:1;stroke-linecap:round;stroke-linejoin:round;stroke:rgb(0%,0%,0%);stroke-opacity:1;stroke-miterlimit:10;\" d=\"M 221.875 103.023438 C 221.875 107.289062 215.476562 107.289062 215.476562 103.023438 C 215.476562 98.753906 221.875 98.753906 221.875 103.023438 \"/>\n",
       "<g clip-path=\"url(#clip4)\" clip-rule=\"nonzero\">\n",
       "<path style=\"fill:none;stroke-width:1;stroke-linecap:round;stroke-linejoin:round;stroke:rgb(0%,0%,0%);stroke-opacity:1;stroke-miterlimit:10;\" d=\"M 221.875 62.132812 C 221.875 66.398438 215.476562 66.398438 215.476562 62.132812 C 215.476562 57.867188 221.875 57.867188 221.875 62.132812 \"/>\n",
       "</g>\n",
       "<path style=\"fill:none;stroke-width:1;stroke-linecap:round;stroke-linejoin:round;stroke:rgb(0%,0%,0%);stroke-opacity:1;stroke-miterlimit:10;\" d=\"M 152.082031 87.023438 C 152.082031 91.289062 145.683594 91.289062 145.683594 87.023438 C 145.683594 82.753906 152.082031 82.753906 152.082031 87.023438 \"/>\n",
       "<path style=\"fill:none;stroke-width:1;stroke-linecap:round;stroke-linejoin:round;stroke:rgb(0%,0%,0%);stroke-opacity:1;stroke-miterlimit:10;\" d=\"M 247.253906 67.910156 C 247.253906 72.179688 240.855469 72.179688 240.855469 67.910156 C 240.855469 63.644531 247.253906 63.644531 247.253906 67.910156 \"/>\n",
       "<path style=\"fill:none;stroke-width:1;stroke-linecap:round;stroke-linejoin:round;stroke:rgb(0%,0%,0%);stroke-opacity:1;stroke-miterlimit:10;\" d=\"M 114.015625 126.132812 C 114.015625 130.398438 107.613281 130.398438 107.613281 126.132812 C 107.613281 121.867188 114.015625 121.867188 114.015625 126.132812 \"/>\n",
       "<path style=\"fill:none;stroke-width:1;stroke-linecap:round;stroke-linejoin:round;stroke:rgb(0%,0%,0%);stroke-opacity:1;stroke-miterlimit:10;\" d=\"M 253.601562 73.246094 C 253.601562 77.511719 247.199219 77.511719 247.199219 73.246094 C 247.199219 68.976562 253.601562 68.976562 253.601562 73.246094 \"/>\n",
       "<path style=\"fill:none;stroke-width:1;stroke-linecap:round;stroke-linejoin:round;stroke:rgb(0%,0%,0%);stroke-opacity:1;stroke-miterlimit:10;\" d=\"M 171.117188 70.578125 C 171.117188 74.84375 164.71875 74.84375 164.71875 70.578125 C 164.71875 66.3125 171.117188 66.3125 171.117188 70.578125 \"/>\n",
       "<path style=\"fill:none;stroke-width:1;stroke-linecap:round;stroke-linejoin:round;stroke:rgb(0%,0%,0%);stroke-opacity:1;stroke-miterlimit:10;\" d=\"M 158.425781 99.023438 C 158.425781 103.289062 152.027344 103.289062 152.027344 99.023438 C 152.027344 94.753906 158.425781 94.753906 158.425781 99.023438 \"/>\n",
       "<path style=\"fill:none;stroke-width:1;stroke-linecap:round;stroke-linejoin:round;stroke:rgb(0%,0%,0%);stroke-opacity:1;stroke-miterlimit:10;\" d=\"M 209.1875 78.578125 C 209.1875 82.84375 202.785156 82.84375 202.785156 78.578125 C 202.785156 74.3125 209.1875 74.3125 209.1875 78.578125 \"/>\n",
       "<path style=\"fill:none;stroke-width:1;stroke-linecap:round;stroke-linejoin:round;stroke:rgb(0%,0%,0%);stroke-opacity:1;stroke-miterlimit:10;\" d=\"M 190.152344 114.578125 C 190.152344 118.84375 183.75 118.84375 183.75 114.578125 C 183.75 110.3125 190.152344 110.3125 190.152344 114.578125 \"/>\n",
       "<path style=\"fill:none;stroke-width:1;stroke-linecap:round;stroke-linejoin:round;stroke:rgb(0%,0%,0%);stroke-opacity:1;stroke-miterlimit:10;\" d=\"M 215.53125 98.132812 C 215.53125 102.398438 209.132812 102.398438 209.132812 98.132812 C 209.132812 93.867188 215.53125 93.867188 215.53125 98.132812 \"/>\n",
       "<path style=\"fill:none;stroke-width:1;stroke-linecap:round;stroke-linejoin:round;stroke:rgb(0%,0%,0%);stroke-opacity:1;stroke-miterlimit:10;\" d=\"M 240.910156 91.023438 C 240.910156 95.289062 234.511719 95.289062 234.511719 91.023438 C 234.511719 86.753906 240.910156 86.753906 240.910156 91.023438 \"/>\n",
       "<path style=\"fill:none;stroke-width:1;stroke-linecap:round;stroke-linejoin:round;stroke:rgb(0%,0%,0%);stroke-opacity:1;stroke-miterlimit:10;\" d=\"M 253.601562 77.246094 C 253.601562 81.511719 247.199219 81.511719 247.199219 77.246094 C 247.199219 72.976562 253.601562 72.976562 253.601562 77.246094 \"/>\n",
       "<path style=\"fill:none;stroke-width:1;stroke-linecap:round;stroke-linejoin:round;stroke:rgb(0%,0%,0%);stroke-opacity:1;stroke-miterlimit:10;\" d=\"M 196.496094 79.464844 C 196.496094 83.734375 190.097656 83.734375 190.097656 79.464844 C 190.097656 75.199219 196.496094 75.199219 196.496094 79.464844 \"/>\n",
       "<path style=\"fill:none;stroke-width:1;stroke-linecap:round;stroke-linejoin:round;stroke:rgb(0%,0%,0%);stroke-opacity:1;stroke-miterlimit:10;\" d=\"M 164.773438 73.6875 C 164.773438 77.957031 158.371094 77.957031 158.371094 73.6875 C 158.371094 69.421875 164.773438 69.421875 164.773438 73.6875 \"/>\n",
       "<path style=\"fill:none;stroke-width:1;stroke-linecap:round;stroke-linejoin:round;stroke:rgb(0%,0%,0%);stroke-opacity:1;stroke-miterlimit:10;\" d=\"M 247.253906 96.800781 C 247.253906 101.066406 240.855469 101.066406 240.855469 96.800781 C 240.855469 92.535156 247.253906 92.535156 247.253906 96.800781 \"/>\n",
       "<path style=\"fill:none;stroke-width:1;stroke-linecap:round;stroke-linejoin:round;stroke:rgb(0%,0%,0%);stroke-opacity:1;stroke-miterlimit:10;\" d=\"M 164.773438 93.6875 C 164.773438 97.957031 158.371094 97.957031 158.371094 93.6875 C 158.371094 89.421875 164.773438 89.421875 164.773438 93.6875 \"/>\n",
       "<path style=\"fill:none;stroke-width:1;stroke-linecap:round;stroke-linejoin:round;stroke:rgb(0%,0%,0%);stroke-opacity:1;stroke-miterlimit:10;\" d=\"M 171.117188 71.910156 C 171.117188 76.179688 164.71875 76.179688 164.71875 71.910156 C 164.71875 67.644531 171.117188 67.644531 171.117188 71.910156 \"/>\n",
       "<path style=\"fill:none;stroke-width:1;stroke-linecap:round;stroke-linejoin:round;stroke:rgb(0%,0%,0%);stroke-opacity:1;stroke-miterlimit:10;\" d=\"M 240.910156 91.023438 C 240.910156 95.289062 234.511719 95.289062 234.511719 91.023438 C 234.511719 86.753906 240.910156 86.753906 240.910156 91.023438 \"/>\n",
       "<path style=\"fill:none;stroke-width:1;stroke-linecap:round;stroke-linejoin:round;stroke:rgb(0%,0%,0%);stroke-opacity:1;stroke-miterlimit:10;\" d=\"M 190.152344 88.800781 C 190.152344 93.066406 183.75 93.066406 183.75 88.800781 C 183.75 84.535156 190.152344 84.535156 190.152344 88.800781 \"/>\n",
       "<g clip-path=\"url(#clip5)\" clip-rule=\"nonzero\">\n",
       "<path style=\"fill:none;stroke-width:1;stroke-linecap:round;stroke-linejoin:round;stroke:rgb(0%,0%,0%);stroke-opacity:1;stroke-miterlimit:10;\" d=\"M 253.601562 62.132812 C 253.601562 66.398438 247.199219 66.398438 247.199219 62.132812 C 247.199219 57.867188 253.601562 57.867188 253.601562 62.132812 \"/>\n",
       "</g>\n",
       "<path style=\"fill:none;stroke-width:1;stroke-linecap:round;stroke-linejoin:round;stroke:rgb(0%,0%,0%);stroke-opacity:1;stroke-miterlimit:10;\" d=\"M 114.015625 100.355469 C 114.015625 104.621094 107.613281 104.621094 107.613281 100.355469 C 107.613281 96.089844 114.015625 96.089844 114.015625 100.355469 \"/>\n",
       "<path style=\"fill:none;stroke-width:1;stroke-linecap:round;stroke-linejoin:round;stroke:rgb(0%,0%,0%);stroke-opacity:1;stroke-miterlimit:10;\" d=\"M 126.703125 104.355469 C 126.703125 108.621094 120.304688 108.621094 120.304688 104.355469 C 120.304688 100.089844 126.703125 100.089844 126.703125 104.355469 \"/>\n",
       "<path style=\"fill:none;stroke-width:1;stroke-linecap:round;stroke-linejoin:round;stroke:rgb(0%,0%,0%);stroke-opacity:1;stroke-miterlimit:10;\" d=\"M 183.808594 95.464844 C 183.808594 99.734375 177.40625 99.734375 177.40625 95.464844 C 177.40625 91.199219 183.808594 91.199219 183.808594 95.464844 \"/>\n",
       "<path style=\"fill:none;stroke-width:1;stroke-linecap:round;stroke-linejoin:round;stroke:rgb(0%,0%,0%);stroke-opacity:1;stroke-miterlimit:10;\" d=\"M 164.773438 111.023438 C 164.773438 115.289062 158.371094 115.289062 158.371094 111.023438 C 158.371094 106.753906 164.773438 106.753906 164.773438 111.023438 \"/>\n",
       "<path style=\"fill:none;stroke-width:1;stroke-linecap:round;stroke-linejoin:round;stroke:rgb(0%,0%,0%);stroke-opacity:1;stroke-miterlimit:10;\" d=\"M 158.425781 100.800781 C 158.425781 105.066406 152.027344 105.066406 152.027344 100.800781 C 152.027344 96.535156 158.425781 96.535156 158.425781 100.800781 \"/>\n",
       "<path style=\"fill:none;stroke-width:1;stroke-linecap:round;stroke-linejoin:round;stroke:rgb(0%,0%,0%);stroke-opacity:1;stroke-miterlimit:10;\" d=\"M 164.773438 120.800781 C 164.773438 125.066406 158.371094 125.066406 158.371094 120.800781 C 158.371094 116.535156 164.773438 116.535156 164.773438 120.800781 \"/>\n",
       "<path style=\"fill:none;stroke-width:1;stroke-linecap:round;stroke-linejoin:round;stroke:rgb(0%,0%,0%);stroke-opacity:1;stroke-miterlimit:10;\" d=\"M 177.460938 132.355469 C 177.460938 136.621094 171.0625 136.621094 171.0625 132.355469 C 171.0625 128.089844 177.460938 128.089844 177.460938 132.355469 \"/>\n",
       "<path style=\"fill:none;stroke-width:1;stroke-linecap:round;stroke-linejoin:round;stroke:rgb(0%,0%,0%);stroke-opacity:1;stroke-miterlimit:10;\" d=\"M 183.808594 92.355469 C 183.808594 96.621094 177.40625 96.621094 177.40625 92.355469 C 177.40625 88.089844 183.808594 88.089844 183.808594 92.355469 \"/>\n",
       "<path style=\"fill:none;stroke-width:1;stroke-linecap:round;stroke-linejoin:round;stroke:rgb(0%,0%,0%);stroke-opacity:1;stroke-miterlimit:10;\" d=\"M 190.152344 99.910156 C 190.152344 104.179688 183.75 104.179688 183.75 99.910156 C 183.75 95.644531 190.152344 95.644531 190.152344 99.910156 \"/>\n",
       "<path style=\"fill:none;stroke-width:1;stroke-linecap:round;stroke-linejoin:round;stroke:rgb(0%,0%,0%);stroke-opacity:1;stroke-miterlimit:10;\" d=\"M 158.425781 92.800781 C 158.425781 97.066406 152.027344 97.066406 152.027344 92.800781 C 152.027344 88.535156 158.425781 88.535156 158.425781 92.800781 \"/>\n",
       "<path style=\"fill:none;stroke-width:1;stroke-linecap:round;stroke-linejoin:round;stroke:rgb(0%,0%,0%);stroke-opacity:1;stroke-miterlimit:10;\" d=\"M 221.875 109.246094 C 221.875 113.511719 215.476562 113.511719 215.476562 109.246094 C 215.476562 104.976562 221.875 104.976562 221.875 109.246094 \"/>\n",
       "<path style=\"fill:none;stroke-width:1;stroke-linecap:round;stroke-linejoin:round;stroke:rgb(0%,0%,0%);stroke-opacity:1;stroke-miterlimit:10;\" d=\"M 145.738281 86.578125 C 145.738281 90.84375 139.339844 90.84375 139.339844 86.578125 C 139.339844 82.3125 145.738281 82.3125 145.738281 86.578125 \"/>\n",
       "<path style=\"fill:none;stroke-width:1;stroke-linecap:round;stroke-linejoin:round;stroke:rgb(0%,0%,0%);stroke-opacity:1;stroke-miterlimit:10;\" d=\"M 183.808594 86.132812 C 183.808594 90.398438 177.40625 90.398438 177.40625 86.132812 C 177.40625 81.867188 183.808594 81.867188 183.808594 86.132812 \"/>\n",
       "<path style=\"fill:none;stroke-width:1;stroke-linecap:round;stroke-linejoin:round;stroke:rgb(0%,0%,0%);stroke-opacity:1;stroke-miterlimit:10;\" d=\"M 158.425781 107.910156 C 158.425781 112.179688 152.027344 112.179688 152.027344 107.910156 C 152.027344 103.644531 158.425781 103.644531 158.425781 107.910156 \"/>\n",
       "<path style=\"fill:none;stroke-width:1;stroke-linecap:round;stroke-linejoin:round;stroke:rgb(0%,0%,0%);stroke-opacity:1;stroke-miterlimit:10;\" d=\"M 139.394531 129.6875 C 139.394531 133.957031 132.992188 133.957031 132.992188 129.6875 C 132.992188 125.421875 139.394531 125.421875 139.394531 129.6875 \"/>\n",
       "<path style=\"fill:none;stroke-width:1;stroke-linecap:round;stroke-linejoin:round;stroke:rgb(0%,0%,0%);stroke-opacity:1;stroke-miterlimit:10;\" d=\"M 126.703125 91.023438 C 126.703125 95.289062 120.304688 95.289062 120.304688 91.023438 C 120.304688 86.753906 126.703125 86.753906 126.703125 91.023438 \"/>\n",
       "<path style=\"fill:none;stroke-width:1;stroke-linecap:round;stroke-linejoin:round;stroke:rgb(0%,0%,0%);stroke-opacity:1;stroke-miterlimit:10;\" d=\"M 202.839844 68.355469 C 202.839844 72.621094 196.441406 72.621094 196.441406 68.355469 C 196.441406 64.089844 202.839844 64.089844 202.839844 68.355469 \"/>\n",
       "<path style=\"fill:none;stroke-width:1;stroke-linecap:round;stroke-linejoin:round;stroke:rgb(0%,0%,0%);stroke-opacity:1;stroke-miterlimit:10;\" d=\"M 139.394531 100.800781 C 139.394531 105.066406 132.992188 105.066406 132.992188 100.800781 C 132.992188 96.535156 139.394531 96.535156 139.394531 100.800781 \"/>\n",
       "<path style=\"fill:none;stroke-width:1;stroke-linecap:round;stroke-linejoin:round;stroke:rgb(0%,0%,0%);stroke-opacity:1;stroke-miterlimit:10;\" d=\"M 234.566406 90.132812 C 234.566406 94.398438 228.164062 94.398438 228.164062 90.132812 C 228.164062 85.867188 234.566406 85.867188 234.566406 90.132812 \"/>\n",
       "<path style=\"fill:none;stroke-width:1;stroke-linecap:round;stroke-linejoin:round;stroke:rgb(0%,0%,0%);stroke-opacity:1;stroke-miterlimit:10;\" d=\"M 215.53125 94.578125 C 215.53125 98.84375 209.132812 98.84375 209.132812 94.578125 C 209.132812 90.3125 215.53125 90.3125 215.53125 94.578125 \"/>\n",
       "<path style=\"fill:none;stroke-width:1;stroke-linecap:round;stroke-linejoin:round;stroke:rgb(0%,0%,0%);stroke-opacity:1;stroke-miterlimit:10;\" d=\"M 209.1875 91.464844 C 209.1875 95.734375 202.785156 95.734375 202.785156 91.464844 C 202.785156 87.199219 209.1875 87.199219 209.1875 91.464844 \"/>\n",
       "<g clip-path=\"url(#clip6)\" clip-rule=\"nonzero\">\n",
       "<path style=\"fill:none;stroke-width:1;stroke-linecap:round;stroke-linejoin:round;stroke:rgb(0%,0%,0%);stroke-opacity:1;stroke-miterlimit:10;\" d=\"M 234.566406 62.132812 C 234.566406 66.398438 228.164062 66.398438 228.164062 62.132812 C 228.164062 57.867188 234.566406 57.867188 234.566406 62.132812 \"/>\n",
       "</g>\n",
       "<path style=\"fill:none;stroke-width:1;stroke-linecap:round;stroke-linejoin:round;stroke:rgb(0%,0%,0%);stroke-opacity:1;stroke-miterlimit:10;\" d=\"M 177.460938 98.132812 C 177.460938 102.398438 171.0625 102.398438 171.0625 98.132812 C 171.0625 93.867188 177.460938 93.867188 177.460938 98.132812 \"/>\n",
       "<path style=\"fill:none;stroke-width:1;stroke-linecap:round;stroke-linejoin:round;stroke:rgb(0%,0%,0%);stroke-opacity:1;stroke-miterlimit:10;\" d=\"M 120.359375 109.246094 C 120.359375 113.511719 113.957031 113.511719 113.957031 109.246094 C 113.957031 104.976562 120.359375 104.976562 120.359375 109.246094 \"/>\n",
       "<path style=\"fill:none;stroke-width:1;stroke-linecap:round;stroke-linejoin:round;stroke:rgb(0%,0%,0%);stroke-opacity:1;stroke-miterlimit:10;\" d=\"M 126.703125 77.6875 C 126.703125 81.957031 120.304688 81.957031 120.304688 77.6875 C 120.304688 73.421875 126.703125 73.421875 126.703125 77.6875 \"/>\n",
       "<path style=\"fill:none;stroke-width:1;stroke-linecap:round;stroke-linejoin:round;stroke:rgb(0%,0%,0%);stroke-opacity:1;stroke-miterlimit:10;\" d=\"M 190.152344 114.578125 C 190.152344 118.84375 183.75 118.84375 183.75 114.578125 C 183.75 110.3125 190.152344 110.3125 190.152344 114.578125 \"/>\n",
       "<path style=\"fill:none;stroke-width:1;stroke-linecap:round;stroke-linejoin:round;stroke:rgb(0%,0%,0%);stroke-opacity:1;stroke-miterlimit:10;\" d=\"M 196.496094 98.578125 C 196.496094 102.84375 190.097656 102.84375 190.097656 98.578125 C 190.097656 94.3125 196.496094 94.3125 196.496094 98.578125 \"/>\n",
       "<path style=\"fill:none;stroke-width:1;stroke-linecap:round;stroke-linejoin:round;stroke:rgb(0%,0%,0%);stroke-opacity:1;stroke-miterlimit:10;\" d=\"M 177.460938 92.355469 C 177.460938 96.621094 171.0625 96.621094 171.0625 92.355469 C 171.0625 88.089844 177.460938 88.089844 177.460938 92.355469 \"/>\n",
       "<path style=\"fill:none;stroke-width:1;stroke-linecap:round;stroke-linejoin:round;stroke:rgb(0%,0%,0%);stroke-opacity:1;stroke-miterlimit:10;\" d=\"M 202.839844 76.800781 C 202.839844 81.066406 196.441406 81.066406 196.441406 76.800781 C 196.441406 72.535156 202.839844 72.535156 202.839844 76.800781 \"/>\n",
       "<path style=\"fill:none;stroke-width:1;stroke-linecap:round;stroke-linejoin:round;stroke:rgb(0%,0%,0%);stroke-opacity:1;stroke-miterlimit:10;\" d=\"M 215.53125 68.800781 C 215.53125 73.066406 209.132812 73.066406 209.132812 68.800781 C 209.132812 64.535156 215.53125 64.535156 215.53125 68.800781 \"/>\n",
       "<g clip-path=\"url(#clip7)\" clip-rule=\"nonzero\">\n",
       "<path style=\"fill:none;stroke-width:1;stroke-linecap:round;stroke-linejoin:round;stroke:rgb(0%,0%,0%);stroke-opacity:1;stroke-miterlimit:10;\" d=\"M 183.808594 62.132812 C 183.808594 66.398438 177.40625 66.398438 177.40625 62.132812 C 177.40625 57.867188 183.808594 57.867188 183.808594 62.132812 \"/>\n",
       "</g>\n",
       "<path style=\"fill:none;stroke-width:1;stroke-linecap:round;stroke-linejoin:round;stroke:rgb(0%,0%,0%);stroke-opacity:1;stroke-miterlimit:10;\" d=\"M 190.152344 80.355469 C 190.152344 84.621094 183.75 84.621094 183.75 80.355469 C 183.75 76.089844 190.152344 76.089844 190.152344 80.355469 \"/>\n",
       "<path style=\"fill:none;stroke-width:1;stroke-linecap:round;stroke-linejoin:round;stroke:rgb(0%,0%,0%);stroke-opacity:1;stroke-miterlimit:10;\" d=\"M 234.566406 79.023438 C 234.566406 83.289062 228.164062 83.289062 228.164062 79.023438 C 228.164062 74.753906 234.566406 74.753906 234.566406 79.023438 \"/>\n",
       "<path style=\"fill:none;stroke-width:1;stroke-linecap:round;stroke-linejoin:round;stroke:rgb(0%,0%,0%);stroke-opacity:1;stroke-miterlimit:10;\" d=\"M 196.496094 93.246094 C 196.496094 97.511719 190.097656 97.511719 190.097656 93.246094 C 190.097656 88.976562 196.496094 88.976562 196.496094 93.246094 \"/>\n",
       "<path style=\"fill:none;stroke-width:1;stroke-linecap:round;stroke-linejoin:round;stroke:rgb(0%,0%,0%);stroke-opacity:1;stroke-miterlimit:10;\" d=\"M 183.808594 75.910156 C 183.808594 80.179688 177.40625 80.179688 177.40625 75.910156 C 177.40625 71.644531 183.808594 71.644531 183.808594 75.910156 \"/>\n",
       "<path style=\"fill:none;stroke-width:1;stroke-linecap:round;stroke-linejoin:round;stroke:rgb(0%,0%,0%);stroke-opacity:1;stroke-miterlimit:10;\" d=\"M 253.601562 74.132812 C 253.601562 78.398438 247.199219 78.398438 247.199219 74.132812 C 247.199219 69.867188 253.601562 69.867188 253.601562 74.132812 \"/>\n",
       "<g clip-path=\"url(#clip8)\" clip-rule=\"nonzero\">\n",
       "<path style=\"fill:none;stroke-width:1;stroke-linecap:round;stroke-linejoin:round;stroke:rgb(0%,0%,0%);stroke-opacity:1;stroke-miterlimit:10;\" d=\"M 202.839844 62.132812 C 202.839844 66.398438 196.441406 66.398438 196.441406 62.132812 C 196.441406 57.867188 202.839844 57.867188 202.839844 62.132812 \"/>\n",
       "</g>\n",
       "<path style=\"fill:none;stroke-width:1;stroke-linecap:round;stroke-linejoin:round;stroke:rgb(0%,0%,0%);stroke-opacity:1;stroke-miterlimit:10;\" d=\"M 94.980469 110.132812 C 94.980469 114.398438 88.578125 114.398438 88.578125 110.132812 C 88.578125 105.867188 94.980469 105.867188 94.980469 110.132812 \"/>\n",
       "<path style=\"fill:none;stroke-width:1;stroke-linecap:round;stroke-linejoin:round;stroke:rgb(0%,0%,0%);stroke-opacity:1;stroke-miterlimit:10;\" d=\"M 152.082031 89.246094 C 152.082031 93.511719 145.683594 93.511719 145.683594 89.246094 C 145.683594 84.976562 152.082031 84.976562 152.082031 89.246094 \"/>\n",
       "<g clip-path=\"url(#clip9)\" clip-rule=\"nonzero\">\n",
       "<path style=\"fill:none;stroke-width:1;stroke-linecap:round;stroke-linejoin:round;stroke:rgb(0%,0%,0%);stroke-opacity:1;stroke-miterlimit:10;\" d=\"M 183.808594 62.132812 C 183.808594 66.398438 177.40625 66.398438 177.40625 62.132812 C 177.40625 57.867188 183.808594 57.867188 183.808594 62.132812 \"/>\n",
       "</g>\n",
       "<path style=\"fill:none;stroke-width:1;stroke-linecap:round;stroke-linejoin:round;stroke:rgb(0%,0%,0%);stroke-opacity:1;stroke-miterlimit:10;\" d=\"M 228.21875 86.578125 C 228.21875 90.84375 221.820312 90.84375 221.820312 86.578125 C 221.820312 82.3125 228.21875 82.3125 228.21875 86.578125 \"/>\n",
       "<g clip-path=\"url(#clip10)\" clip-rule=\"nonzero\">\n",
       "<path style=\"fill:none;stroke-width:1;stroke-linecap:round;stroke-linejoin:round;stroke:rgb(0%,0%,0%);stroke-opacity:1;stroke-miterlimit:10;\" d=\"M 228.21875 62.132812 C 228.21875 66.398438 221.820312 66.398438 221.820312 62.132812 C 221.820312 57.867188 228.21875 57.867188 228.21875 62.132812 \"/>\n",
       "</g>\n",
       "<path style=\"fill:none;stroke-width:1;stroke-linecap:round;stroke-linejoin:round;stroke:rgb(0%,0%,0%);stroke-opacity:1;stroke-miterlimit:10;\" d=\"M 177.460938 90.578125 C 177.460938 94.84375 171.0625 94.84375 171.0625 90.578125 C 171.0625 86.3125 177.460938 86.3125 177.460938 90.578125 \"/>\n",
       "<g clip-path=\"url(#clip11)\" clip-rule=\"nonzero\">\n",
       "<path style=\"fill:none;stroke-width:1;stroke-linecap:round;stroke-linejoin:round;stroke:rgb(0%,0%,0%);stroke-opacity:1;stroke-miterlimit:10;\" d=\"M 253.601562 62.132812 C 253.601562 66.398438 247.199219 66.398438 247.199219 62.132812 C 247.199219 57.867188 253.601562 57.867188 253.601562 62.132812 \"/>\n",
       "</g>\n",
       "<path style=\"fill:none;stroke-width:1;stroke-linecap:round;stroke-linejoin:round;stroke:rgb(0%,0%,0%);stroke-opacity:1;stroke-miterlimit:10;\" d=\"M 171.117188 101.246094 C 171.117188 105.511719 164.71875 105.511719 164.71875 101.246094 C 164.71875 96.976562 171.117188 96.976562 171.117188 101.246094 \"/>\n",
       "<g clip-path=\"url(#clip12)\" clip-rule=\"nonzero\">\n",
       "<path style=\"fill:none;stroke-width:1;stroke-linecap:round;stroke-linejoin:round;stroke:rgb(0%,0%,0%);stroke-opacity:1;stroke-miterlimit:10;\" d=\"M 196.496094 62.132812 C 196.496094 66.398438 190.097656 66.398438 190.097656 62.132812 C 190.097656 57.867188 196.496094 57.867188 196.496094 62.132812 \"/>\n",
       "</g>\n",
       "<path style=\"fill:none;stroke-width:1;stroke-linecap:round;stroke-linejoin:round;stroke:rgb(0%,0%,0%);stroke-opacity:1;stroke-miterlimit:10;\" d=\"M 221.875 111.023438 C 221.875 115.289062 215.476562 115.289062 215.476562 111.023438 C 215.476562 106.753906 221.875 106.753906 221.875 111.023438 \"/>\n",
       "<path style=\"fill:none;stroke-width:1;stroke-linecap:round;stroke-linejoin:round;stroke:rgb(0%,0%,0%);stroke-opacity:1;stroke-miterlimit:10;\" d=\"M 196.496094 103.464844 C 196.496094 107.734375 190.097656 107.734375 190.097656 103.464844 C 190.097656 99.199219 196.496094 99.199219 196.496094 103.464844 \"/>\n",
       "<path style=\"fill:none;stroke-width:1;stroke-linecap:round;stroke-linejoin:round;stroke:rgb(0%,0%,0%);stroke-opacity:1;stroke-miterlimit:10;\" d=\"M 158.425781 119.464844 C 158.425781 123.734375 152.027344 123.734375 152.027344 119.464844 C 152.027344 115.199219 158.425781 115.199219 158.425781 119.464844 \"/>\n",
       "<path style=\"fill:none;stroke-width:1;stroke-linecap:round;stroke-linejoin:round;stroke:rgb(0%,0%,0%);stroke-opacity:1;stroke-miterlimit:10;\" d=\"M 120.359375 110.578125 C 120.359375 114.84375 113.957031 114.84375 113.957031 110.578125 C 113.957031 106.3125 120.359375 106.3125 120.359375 110.578125 \"/>\n",
       "<path style=\"fill:none;stroke-width:1;stroke-linecap:round;stroke-linejoin:round;stroke:rgb(0%,0%,0%);stroke-opacity:1;stroke-miterlimit:10;\" d=\"M 158.425781 79.910156 C 158.425781 84.179688 152.027344 84.179688 152.027344 79.910156 C 152.027344 75.644531 158.425781 75.644531 158.425781 79.910156 \"/>\n",
       "<path style=\"fill:none;stroke-width:1;stroke-linecap:round;stroke-linejoin:round;stroke:rgb(0%,0%,0%);stroke-opacity:1;stroke-miterlimit:10;\" d=\"M 164.773438 107.464844 C 164.773438 111.734375 158.371094 111.734375 158.371094 107.464844 C 158.371094 103.199219 164.773438 103.199219 164.773438 107.464844 \"/>\n",
       "<path style=\"fill:none;stroke-width:1;stroke-linecap:round;stroke-linejoin:round;stroke:rgb(0%,0%,0%);stroke-opacity:1;stroke-miterlimit:10;\" d=\"M 190.152344 92.355469 C 190.152344 96.621094 183.75 96.621094 183.75 92.355469 C 183.75 88.089844 190.152344 88.089844 190.152344 92.355469 \"/>\n",
       "<path style=\"fill:none;stroke-width:1;stroke-linecap:round;stroke-linejoin:round;stroke:rgb(0%,0%,0%);stroke-opacity:1;stroke-miterlimit:10;\" d=\"M 190.152344 85.246094 C 190.152344 89.511719 183.75 89.511719 183.75 85.246094 C 183.75 80.976562 190.152344 80.976562 190.152344 85.246094 \"/>\n",
       "<path style=\"fill:none;stroke-width:1;stroke-linecap:round;stroke-linejoin:round;stroke:rgb(0%,0%,0%);stroke-opacity:1;stroke-miterlimit:10;\" d=\"M 221.875 94.132812 C 221.875 98.398438 215.476562 98.398438 215.476562 94.132812 C 215.476562 89.867188 221.875 89.867188 221.875 94.132812 \"/>\n",
       "<g clip-path=\"url(#clip13)\" clip-rule=\"nonzero\">\n",
       "<path style=\"fill:none;stroke-width:1;stroke-linecap:round;stroke-linejoin:round;stroke:rgb(0%,0%,0%);stroke-opacity:1;stroke-miterlimit:10;\" d=\"M 209.1875 62.132812 C 209.1875 66.398438 202.785156 66.398438 202.785156 62.132812 C 202.785156 57.867188 209.1875 57.867188 209.1875 62.132812 \"/>\n",
       "</g>\n",
       "<path style=\"fill:none;stroke-width:1;stroke-linecap:round;stroke-linejoin:round;stroke:rgb(0%,0%,0%);stroke-opacity:1;stroke-miterlimit:10;\" d=\"M 221.875 69.6875 C 221.875 73.957031 215.476562 73.957031 215.476562 69.6875 C 215.476562 65.421875 221.875 65.421875 221.875 69.6875 \"/>\n",
       "<path style=\"fill:none;stroke-width:1;stroke-linecap:round;stroke-linejoin:round;stroke:rgb(0%,0%,0%);stroke-opacity:1;stroke-miterlimit:10;\" d=\"M 228.21875 78.132812 C 228.21875 82.398438 221.820312 82.398438 221.820312 78.132812 C 221.820312 73.867188 228.21875 73.867188 228.21875 78.132812 \"/>\n",
       "<path style=\"fill:none;stroke-width:1;stroke-linecap:round;stroke-linejoin:round;stroke:rgb(0%,0%,0%);stroke-opacity:1;stroke-miterlimit:10;\" d=\"M 253.601562 66.578125 C 253.601562 70.84375 247.199219 70.84375 247.199219 66.578125 C 247.199219 62.3125 253.601562 62.3125 253.601562 66.578125 \"/>\n",
       "<path style=\"fill:none;stroke-width:1;stroke-linecap:round;stroke-linejoin:round;stroke:rgb(0%,0%,0%);stroke-opacity:1;stroke-miterlimit:10;\" d=\"M 183.808594 109.6875 C 183.808594 113.957031 177.40625 113.957031 177.40625 109.6875 C 177.40625 105.421875 183.808594 105.421875 183.808594 109.6875 \"/>\n",
       "<path style=\"fill:none;stroke-width:1;stroke-linecap:round;stroke-linejoin:round;stroke:rgb(0%,0%,0%);stroke-opacity:1;stroke-miterlimit:10;\" d=\"M 209.1875 87.023438 C 209.1875 91.289062 202.785156 91.289062 202.785156 87.023438 C 202.785156 82.753906 209.1875 82.753906 209.1875 87.023438 \"/>\n",
       "<path style=\"fill:none;stroke-width:1;stroke-linecap:round;stroke-linejoin:round;stroke:rgb(0%,0%,0%);stroke-opacity:1;stroke-miterlimit:10;\" d=\"M 209.1875 91.910156 C 209.1875 96.179688 202.785156 96.179688 202.785156 91.910156 C 202.785156 87.644531 209.1875 87.644531 209.1875 91.910156 \"/>\n",
       "<path style=\"fill:none;stroke-width:1;stroke-linecap:round;stroke-linejoin:round;stroke:rgb(0%,0%,0%);stroke-opacity:1;stroke-miterlimit:10;\" d=\"M 202.839844 83.464844 C 202.839844 87.734375 196.441406 87.734375 196.441406 83.464844 C 196.441406 79.199219 202.839844 79.199219 202.839844 83.464844 \"/>\n",
       "<path style=\"fill:none;stroke-width:1;stroke-linecap:round;stroke-linejoin:round;stroke:rgb(0%,0%,0%);stroke-opacity:1;stroke-miterlimit:10;\" d=\"M 152.082031 81.246094 C 152.082031 85.511719 145.683594 85.511719 145.683594 81.246094 C 145.683594 76.976562 152.082031 76.976562 152.082031 81.246094 \"/>\n",
       "<path style=\"fill:none;stroke-width:1;stroke-linecap:round;stroke-linejoin:round;stroke:rgb(0%,0%,0%);stroke-opacity:1;stroke-miterlimit:10;\" d=\"M 221.875 111.910156 C 221.875 116.179688 215.476562 116.179688 215.476562 111.910156 C 215.476562 107.644531 221.875 107.644531 221.875 111.910156 \"/>\n",
       "<path style=\"fill:none;stroke-width:1;stroke-linecap:round;stroke-linejoin:round;stroke:rgb(0%,0%,0%);stroke-opacity:1;stroke-miterlimit:10;\" d=\"M 126.703125 92.800781 C 126.703125 97.066406 120.304688 97.066406 120.304688 92.800781 C 120.304688 88.535156 126.703125 88.535156 126.703125 92.800781 \"/>\n",
       "<path style=\"fill:none;stroke-width:1;stroke-linecap:round;stroke-linejoin:round;stroke:rgb(0%,0%,0%);stroke-opacity:1;stroke-miterlimit:10;\" d=\"M 107.667969 99.910156 C 107.667969 104.179688 101.269531 104.179688 101.269531 99.910156 C 101.269531 95.644531 107.667969 95.644531 107.667969 99.910156 \"/>\n",
       "<path style=\"fill:none;stroke-width:1;stroke-linecap:round;stroke-linejoin:round;stroke:rgb(0%,0%,0%);stroke-opacity:1;stroke-miterlimit:10;\" d=\"M 183.808594 81.246094 C 183.808594 85.511719 177.40625 85.511719 177.40625 81.246094 C 177.40625 76.976562 183.808594 76.976562 183.808594 81.246094 \"/>\n",
       "<path style=\"fill:none;stroke-width:1;stroke-linecap:round;stroke-linejoin:round;stroke:rgb(0%,0%,0%);stroke-opacity:1;stroke-miterlimit:10;\" d=\"M 120.359375 91.910156 C 120.359375 96.179688 113.957031 96.179688 113.957031 91.910156 C 113.957031 87.644531 120.359375 87.644531 120.359375 91.910156 \"/>\n",
       "<path style=\"fill:none;stroke-width:1;stroke-linecap:round;stroke-linejoin:round;stroke:rgb(0%,0%,0%);stroke-opacity:1;stroke-miterlimit:10;\" d=\"M 171.117188 64.800781 C 171.117188 69.066406 164.71875 69.066406 164.71875 64.800781 C 164.71875 60.535156 171.117188 60.535156 171.117188 64.800781 \"/>\n",
       "<path style=\"fill:none;stroke-width:1;stroke-linecap:round;stroke-linejoin:round;stroke:rgb(0%,0%,0%);stroke-opacity:1;stroke-miterlimit:10;\" d=\"M 209.1875 64.355469 C 209.1875 68.621094 202.785156 68.621094 202.785156 64.355469 C 202.785156 60.089844 209.1875 60.089844 209.1875 64.355469 \"/>\n",
       "<path style=\"fill:none;stroke-width:1;stroke-linecap:round;stroke-linejoin:round;stroke:rgb(0%,0%,0%);stroke-opacity:1;stroke-miterlimit:10;\" d=\"M 234.566406 107.910156 C 234.566406 112.179688 228.164062 112.179688 228.164062 107.910156 C 228.164062 103.644531 234.566406 103.644531 234.566406 107.910156 \"/>\n",
       "<path style=\"fill:none;stroke-width:1;stroke-linecap:round;stroke-linejoin:round;stroke:rgb(0%,0%,0%);stroke-opacity:1;stroke-miterlimit:10;\" d=\"M 221.875 81.6875 C 221.875 85.957031 215.476562 85.957031 215.476562 81.6875 C 215.476562 77.421875 221.875 77.421875 221.875 81.6875 \"/>\n",
       "<path style=\"fill:none;stroke-width:1;stroke-linecap:round;stroke-linejoin:round;stroke:rgb(0%,0%,0%);stroke-opacity:1;stroke-miterlimit:10;\" d=\"M 152.082031 100.800781 C 152.082031 105.066406 145.683594 105.066406 145.683594 100.800781 C 145.683594 96.535156 152.082031 96.535156 152.082031 100.800781 \"/>\n",
       "<path style=\"fill:none;stroke-width:1;stroke-linecap:round;stroke-linejoin:round;stroke:rgb(0%,0%,0%);stroke-opacity:1;stroke-miterlimit:10;\" d=\"M 126.703125 109.6875 C 126.703125 113.957031 120.304688 113.957031 120.304688 109.6875 C 120.304688 105.421875 126.703125 105.421875 126.703125 109.6875 \"/>\n",
       "<path style=\"fill:none;stroke-width:1;stroke-linecap:round;stroke-linejoin:round;stroke:rgb(0%,0%,0%);stroke-opacity:1;stroke-miterlimit:10;\" d=\"M 152.082031 86.578125 C 152.082031 90.84375 145.683594 90.84375 145.683594 86.578125 C 145.683594 82.3125 152.082031 82.3125 152.082031 86.578125 \"/>\n",
       "<path style=\"fill:none;stroke-width:1;stroke-linecap:round;stroke-linejoin:round;stroke:rgb(0%,0%,0%);stroke-opacity:1;stroke-miterlimit:10;\" d=\"M 215.53125 103.023438 C 215.53125 107.289062 209.132812 107.289062 209.132812 103.023438 C 209.132812 98.753906 215.53125 98.753906 215.53125 103.023438 \"/>\n",
       "<path style=\"fill:none;stroke-width:1;stroke-linecap:round;stroke-linejoin:round;stroke:rgb(0%,0%,0%);stroke-opacity:1;stroke-miterlimit:10;\" d=\"M 133.046875 88.355469 C 133.046875 92.621094 126.648438 92.621094 126.648438 88.355469 C 126.648438 84.089844 133.046875 84.089844 133.046875 88.355469 \"/>\n",
       "<path style=\"fill:none;stroke-width:1;stroke-linecap:round;stroke-linejoin:round;stroke:rgb(0%,0%,0%);stroke-opacity:1;stroke-miterlimit:10;\" d=\"M 114.015625 106.578125 C 114.015625 110.84375 107.613281 110.84375 107.613281 106.578125 C 107.613281 102.3125 114.015625 102.3125 114.015625 106.578125 \"/>\n",
       "<path style=\"fill:none;stroke-width:1;stroke-linecap:round;stroke-linejoin:round;stroke:rgb(0%,0%,0%);stroke-opacity:1;stroke-miterlimit:10;\" d=\"M 190.152344 96.800781 C 190.152344 101.066406 183.75 101.066406 183.75 96.800781 C 183.75 92.535156 190.152344 92.535156 190.152344 96.800781 \"/>\n",
       "<path style=\"fill:none;stroke-width:1;stroke-linecap:round;stroke-linejoin:round;stroke:rgb(0%,0%,0%);stroke-opacity:1;stroke-miterlimit:10;\" d=\"M 228.21875 69.246094 C 228.21875 73.511719 221.820312 73.511719 221.820312 69.246094 C 221.820312 64.976562 228.21875 64.976562 228.21875 69.246094 \"/>\n",
       "<g clip-path=\"url(#clip14)\" clip-rule=\"nonzero\">\n",
       "<path style=\"fill:none;stroke-width:1;stroke-linecap:round;stroke-linejoin:round;stroke:rgb(0%,0%,0%);stroke-opacity:1;stroke-miterlimit:10;\" d=\"M 196.496094 62.578125 C 196.496094 66.84375 190.097656 66.84375 190.097656 62.578125 C 190.097656 58.3125 196.496094 58.3125 196.496094 62.578125 \"/>\n",
       "</g>\n",
       "<path style=\"fill:none;stroke-width:1;stroke-linecap:round;stroke-linejoin:round;stroke:rgb(0%,0%,0%);stroke-opacity:1;stroke-miterlimit:10;\" d=\"M 139.394531 86.578125 C 139.394531 90.84375 132.992188 90.84375 132.992188 86.578125 C 132.992188 82.3125 139.394531 82.3125 139.394531 86.578125 \"/>\n",
       "<path style=\"fill:none;stroke-width:1;stroke-linecap:round;stroke-linejoin:round;stroke:rgb(0%,0%,0%);stroke-opacity:1;stroke-miterlimit:10;\" d=\"M 221.875 74.578125 C 221.875 78.84375 215.476562 78.84375 215.476562 74.578125 C 215.476562 70.3125 221.875 70.3125 221.875 74.578125 \"/>\n",
       "<path style=\"fill:none;stroke-width:1;stroke-linecap:round;stroke-linejoin:round;stroke:rgb(0%,0%,0%);stroke-opacity:1;stroke-miterlimit:10;\" d=\"M 253.601562 75.464844 C 253.601562 79.734375 247.199219 79.734375 247.199219 75.464844 C 247.199219 71.199219 253.601562 71.199219 253.601562 75.464844 \"/>\n",
       "<path style=\"fill:none;stroke-width:1;stroke-linecap:round;stroke-linejoin:round;stroke:rgb(0%,0%,0%);stroke-opacity:1;stroke-miterlimit:10;\" d=\"M 107.667969 110.132812 C 107.667969 114.398438 101.269531 114.398438 101.269531 110.132812 C 101.269531 105.867188 107.667969 105.867188 107.667969 110.132812 \"/>\n",
       "<path style=\"fill:none;stroke-width:1;stroke-linecap:round;stroke-linejoin:round;stroke:rgb(0%,0%,0%);stroke-opacity:1;stroke-miterlimit:10;\" d=\"M 164.773438 73.6875 C 164.773438 77.957031 158.371094 77.957031 158.371094 73.6875 C 158.371094 69.421875 164.773438 69.421875 164.773438 73.6875 \"/>\n",
       "<path style=\"fill:none;stroke-width:1;stroke-linecap:round;stroke-linejoin:round;stroke:rgb(0%,0%,0%);stroke-opacity:1;stroke-miterlimit:10;\" d=\"M 152.082031 121.246094 C 152.082031 125.511719 145.683594 125.511719 145.683594 121.246094 C 145.683594 116.976562 152.082031 116.976562 152.082031 121.246094 \"/>\n",
       "<path style=\"fill:none;stroke-width:1;stroke-linecap:round;stroke-linejoin:round;stroke:rgb(0%,0%,0%);stroke-opacity:1;stroke-miterlimit:10;\" d=\"M 164.773438 113.246094 C 164.773438 117.511719 158.371094 117.511719 158.371094 113.246094 C 158.371094 108.976562 164.773438 108.976562 164.773438 113.246094 \"/>\n",
       "<path style=\"fill:none;stroke-width:1;stroke-linecap:round;stroke-linejoin:round;stroke:rgb(0%,0%,0%);stroke-opacity:1;stroke-miterlimit:10;\" d=\"M 158.425781 107.464844 C 158.425781 111.734375 152.027344 111.734375 152.027344 107.464844 C 152.027344 103.199219 158.425781 103.199219 158.425781 107.464844 \"/>\n",
       "<path style=\"fill:none;stroke-width:1;stroke-linecap:round;stroke-linejoin:round;stroke:rgb(0%,0%,0%);stroke-opacity:1;stroke-miterlimit:10;\" d=\"M 228.21875 67.464844 C 228.21875 71.734375 221.820312 71.734375 221.820312 67.464844 C 221.820312 63.199219 228.21875 63.199219 228.21875 67.464844 \"/>\n",
       "<path style=\"fill:none;stroke-width:1;stroke-linecap:round;stroke-linejoin:round;stroke:rgb(0%,0%,0%);stroke-opacity:1;stroke-miterlimit:10;\" d=\"M 171.117188 89.6875 C 171.117188 93.957031 164.71875 93.957031 164.71875 89.6875 C 164.71875 85.421875 171.117188 85.421875 171.117188 89.6875 \"/>\n",
       "<path style=\"fill:none;stroke-width:1;stroke-linecap:round;stroke-linejoin:round;stroke:rgb(0%,0%,0%);stroke-opacity:1;stroke-miterlimit:10;\" d=\"M 190.152344 82.578125 C 190.152344 86.84375 183.75 86.84375 183.75 82.578125 C 183.75 78.3125 190.152344 78.3125 190.152344 82.578125 \"/>\n",
       "<path style=\"fill:none;stroke-width:1;stroke-linecap:round;stroke-linejoin:round;stroke:rgb(0%,0%,0%);stroke-opacity:1;stroke-miterlimit:10;\" d=\"M 234.566406 73.6875 C 234.566406 77.957031 228.164062 77.957031 228.164062 73.6875 C 228.164062 69.421875 234.566406 69.421875 234.566406 73.6875 \"/>\n",
       "<path style=\"fill:none;stroke-width:1;stroke-linecap:round;stroke-linejoin:round;stroke:rgb(0%,0%,0%);stroke-opacity:1;stroke-miterlimit:10;\" d=\"M 171.117188 98.132812 C 171.117188 102.398438 164.71875 102.398438 164.71875 98.132812 C 164.71875 93.867188 171.117188 93.867188 171.117188 98.132812 \"/>\n",
       "<path style=\"fill:none;stroke-width:1;stroke-linecap:round;stroke-linejoin:round;stroke:rgb(0%,0%,0%);stroke-opacity:1;stroke-miterlimit:10;\" d=\"M 145.738281 99.910156 C 145.738281 104.179688 139.339844 104.179688 139.339844 99.910156 C 139.339844 95.644531 145.738281 95.644531 145.738281 99.910156 \"/>\n",
       "<path style=\"fill:none;stroke-width:1;stroke-linecap:round;stroke-linejoin:round;stroke:rgb(0%,0%,0%);stroke-opacity:1;stroke-miterlimit:10;\" d=\"M 196.496094 99.023438 C 196.496094 103.289062 190.097656 103.289062 190.097656 99.023438 C 190.097656 94.753906 196.496094 94.753906 196.496094 99.023438 \"/>\n",
       "<path style=\"fill:none;stroke-width:1;stroke-linecap:round;stroke-linejoin:round;stroke:rgb(0%,0%,0%);stroke-opacity:1;stroke-miterlimit:10;\" d=\"M 202.839844 115.910156 C 202.839844 120.179688 196.441406 120.179688 196.441406 115.910156 C 196.441406 111.644531 202.839844 111.644531 202.839844 115.910156 \"/>\n",
       "<path style=\"fill:none;stroke-width:1;stroke-linecap:round;stroke-linejoin:round;stroke:rgb(0%,0%,0%);stroke-opacity:1;stroke-miterlimit:10;\" d=\"M 183.808594 88.800781 C 183.808594 93.066406 177.40625 93.066406 177.40625 88.800781 C 177.40625 84.535156 183.808594 84.535156 183.808594 88.800781 \"/>\n",
       "<path style=\"fill:none;stroke-width:1;stroke-linecap:round;stroke-linejoin:round;stroke:rgb(0%,0%,0%);stroke-opacity:1;stroke-miterlimit:10;\" d=\"M 158.425781 103.023438 C 158.425781 107.289062 152.027344 107.289062 152.027344 103.023438 C 152.027344 98.753906 158.425781 98.753906 158.425781 103.023438 \"/>\n",
       "<path style=\"fill:none;stroke-width:1;stroke-linecap:round;stroke-linejoin:round;stroke:rgb(0%,0%,0%);stroke-opacity:1;stroke-miterlimit:10;\" d=\"M 177.460938 108.800781 C 177.460938 113.066406 171.0625 113.066406 171.0625 108.800781 C 171.0625 104.535156 177.460938 104.535156 177.460938 108.800781 \"/>\n",
       "<path style=\"fill:none;stroke-width:1;stroke-linecap:round;stroke-linejoin:round;stroke:rgb(0%,0%,0%);stroke-opacity:1;stroke-miterlimit:10;\" d=\"M 158.425781 81.246094 C 158.425781 85.511719 152.027344 85.511719 152.027344 81.246094 C 152.027344 76.976562 158.425781 76.976562 158.425781 81.246094 \"/>\n",
       "<path style=\"fill:none;stroke-width:1;stroke-linecap:round;stroke-linejoin:round;stroke:rgb(0%,0%,0%);stroke-opacity:1;stroke-miterlimit:10;\" d=\"M 177.460938 91.910156 C 177.460938 96.179688 171.0625 96.179688 171.0625 91.910156 C 171.0625 87.644531 177.460938 87.644531 177.460938 91.910156 \"/>\n",
       "<g clip-path=\"url(#clip15)\" clip-rule=\"nonzero\">\n",
       "<path style=\"fill:none;stroke-width:1;stroke-linecap:round;stroke-linejoin:round;stroke:rgb(0%,0%,0%);stroke-opacity:1;stroke-miterlimit:10;\" d=\"M 221.875 62.132812 C 221.875 66.398438 215.476562 66.398438 215.476562 62.132812 C 215.476562 57.867188 221.875 57.867188 221.875 62.132812 \"/>\n",
       "</g>\n",
       "<path style=\"fill:none;stroke-width:1;stroke-linecap:round;stroke-linejoin:round;stroke:rgb(0%,0%,0%);stroke-opacity:1;stroke-miterlimit:10;\" d=\"M 196.496094 88.800781 C 196.496094 93.066406 190.097656 93.066406 190.097656 88.800781 C 190.097656 84.535156 196.496094 84.535156 196.496094 88.800781 \"/>\n",
       "<path style=\"fill:none;stroke-width:1;stroke-linecap:round;stroke-linejoin:round;stroke:rgb(0%,0%,0%);stroke-opacity:1;stroke-miterlimit:10;\" d=\"M 190.152344 80.800781 C 190.152344 85.066406 183.75 85.066406 183.75 80.800781 C 183.75 76.535156 190.152344 76.535156 190.152344 80.800781 \"/>\n",
       "<path style=\"fill:none;stroke-width:1;stroke-linecap:round;stroke-linejoin:round;stroke:rgb(0%,0%,0%);stroke-opacity:1;stroke-miterlimit:10;\" d=\"M 202.839844 65.246094 C 202.839844 69.511719 196.441406 69.511719 196.441406 65.246094 C 196.441406 60.976562 202.839844 60.976562 202.839844 65.246094 \"/>\n",
       "<path style=\"fill:none;stroke-width:1;stroke-linecap:round;stroke-linejoin:round;stroke:rgb(0%,0%,0%);stroke-opacity:1;stroke-miterlimit:10;\" d=\"M 221.875 83.464844 C 221.875 87.734375 215.476562 87.734375 215.476562 83.464844 C 215.476562 79.199219 221.875 79.199219 221.875 83.464844 \"/>\n",
       "<path style=\"fill:none;stroke-width:1;stroke-linecap:round;stroke-linejoin:round;stroke:rgb(0%,0%,0%);stroke-opacity:1;stroke-miterlimit:10;\" d=\"M 196.496094 64.800781 C 196.496094 69.066406 190.097656 69.066406 190.097656 64.800781 C 190.097656 60.535156 196.496094 60.535156 196.496094 64.800781 \"/>\n",
       "<path style=\"fill:none;stroke-width:1;stroke-linecap:round;stroke-linejoin:round;stroke:rgb(0%,0%,0%);stroke-opacity:1;stroke-miterlimit:10;\" d=\"M 183.808594 88.800781 C 183.808594 93.066406 177.40625 93.066406 177.40625 88.800781 C 177.40625 84.535156 183.808594 84.535156 183.808594 88.800781 \"/>\n",
       "<path style=\"fill:none;stroke-width:1;stroke-linecap:round;stroke-linejoin:round;stroke:rgb(0%,0%,0%);stroke-opacity:1;stroke-miterlimit:10;\" d=\"M 183.808594 88.800781 C 183.808594 93.066406 177.40625 93.066406 177.40625 88.800781 C 177.40625 84.535156 183.808594 84.535156 183.808594 88.800781 \"/>\n",
       "<path style=\"fill:none;stroke-width:1;stroke-linecap:round;stroke-linejoin:round;stroke:rgb(0%,0%,0%);stroke-opacity:1;stroke-miterlimit:10;\" d=\"M 120.359375 87.464844 C 120.359375 91.734375 113.957031 91.734375 113.957031 87.464844 C 113.957031 83.199219 120.359375 83.199219 120.359375 87.464844 \"/>\n",
       "<path style=\"fill:none;stroke-width:1;stroke-linecap:round;stroke-linejoin:round;stroke:rgb(0%,0%,0%);stroke-opacity:1;stroke-miterlimit:10;\" d=\"M 152.082031 88.800781 C 152.082031 93.066406 145.683594 93.066406 145.683594 88.800781 C 145.683594 84.535156 152.082031 84.535156 152.082031 88.800781 \"/>\n",
       "<path style=\"fill:none;stroke-width:1;stroke-linecap:round;stroke-linejoin:round;stroke:rgb(0%,0%,0%);stroke-opacity:1;stroke-miterlimit:10;\" d=\"M 177.460938 119.464844 C 177.460938 123.734375 171.0625 123.734375 171.0625 119.464844 C 171.0625 115.199219 177.460938 115.199219 177.460938 119.464844 \"/>\n",
       "<path style=\"fill:none;stroke-width:1;stroke-linecap:round;stroke-linejoin:round;stroke:rgb(0%,0%,0%);stroke-opacity:1;stroke-miterlimit:10;\" d=\"M 152.082031 110.578125 C 152.082031 114.84375 145.683594 114.84375 145.683594 110.578125 C 145.683594 106.3125 152.082031 106.3125 152.082031 110.578125 \"/>\n",
       "<path style=\"fill:none;stroke-width:1;stroke-linecap:round;stroke-linejoin:round;stroke:rgb(0%,0%,0%);stroke-opacity:1;stroke-miterlimit:10;\" d=\"M 234.566406 92.800781 C 234.566406 97.066406 228.164062 97.066406 228.164062 92.800781 C 228.164062 88.535156 234.566406 88.535156 234.566406 92.800781 \"/>\n",
       "<path style=\"fill:none;stroke-width:1;stroke-linecap:round;stroke-linejoin:round;stroke:rgb(0%,0%,0%);stroke-opacity:1;stroke-miterlimit:10;\" d=\"M 253.601562 73.6875 C 253.601562 77.957031 247.199219 77.957031 247.199219 73.6875 C 247.199219 69.421875 253.601562 69.421875 253.601562 73.6875 \"/>\n",
       "<path style=\"fill:none;stroke-width:1;stroke-linecap:round;stroke-linejoin:round;stroke:rgb(0%,0%,0%);stroke-opacity:1;stroke-miterlimit:10;\" d=\"M 126.703125 89.6875 C 126.703125 93.957031 120.304688 93.957031 120.304688 89.6875 C 120.304688 85.421875 126.703125 85.421875 126.703125 89.6875 \"/>\n",
       "<path style=\"fill:none;stroke-width:1;stroke-linecap:round;stroke-linejoin:round;stroke:rgb(0%,0%,0%);stroke-opacity:1;stroke-miterlimit:10;\" d=\"M 202.839844 64.800781 C 202.839844 69.066406 196.441406 69.066406 196.441406 64.800781 C 196.441406 60.535156 202.839844 60.535156 202.839844 64.800781 \"/>\n",
       "<path style=\"fill:none;stroke-width:1;stroke-linecap:round;stroke-linejoin:round;stroke:rgb(0%,0%,0%);stroke-opacity:1;stroke-miterlimit:10;\" d=\"M 183.808594 86.132812 C 183.808594 90.398438 177.40625 90.398438 177.40625 86.132812 C 177.40625 81.867188 183.808594 81.867188 183.808594 86.132812 \"/>\n",
       "<path style=\"fill:none;stroke-width:1;stroke-linecap:round;stroke-linejoin:round;stroke:rgb(0%,0%,0%);stroke-opacity:1;stroke-miterlimit:10;\" d=\"M 196.496094 75.910156 C 196.496094 80.179688 190.097656 80.179688 190.097656 75.910156 C 190.097656 71.644531 196.496094 71.644531 196.496094 75.910156 \"/>\n",
       "<path style=\"fill:none;stroke-width:1;stroke-linecap:round;stroke-linejoin:round;stroke:rgb(0%,0%,0%);stroke-opacity:1;stroke-miterlimit:10;\" d=\"M 183.808594 112.800781 C 183.808594 117.066406 177.40625 117.066406 177.40625 112.800781 C 177.40625 108.535156 183.808594 108.535156 183.808594 112.800781 \"/>\n",
       "<path style=\"fill:none;stroke-width:1;stroke-linecap:round;stroke-linejoin:round;stroke:rgb(0%,0%,0%);stroke-opacity:1;stroke-miterlimit:10;\" d=\"M 177.460938 127.910156 C 177.460938 132.179688 171.0625 132.179688 171.0625 127.910156 C 171.0625 123.644531 177.460938 123.644531 177.460938 127.910156 \"/>\n",
       "<path style=\"fill:none;stroke-width:1;stroke-linecap:round;stroke-linejoin:round;stroke:rgb(0%,0%,0%);stroke-opacity:1;stroke-miterlimit:10;\" d=\"M 152.082031 80.800781 C 152.082031 85.066406 145.683594 85.066406 145.683594 80.800781 C 145.683594 76.535156 152.082031 76.535156 152.082031 80.800781 \"/>\n",
       "<path style=\"fill:none;stroke-width:1;stroke-linecap:round;stroke-linejoin:round;stroke:rgb(0%,0%,0%);stroke-opacity:1;stroke-miterlimit:10;\" d=\"M 209.1875 84.800781 C 209.1875 89.066406 202.785156 89.066406 202.785156 84.800781 C 202.785156 80.535156 209.1875 80.535156 209.1875 84.800781 \"/>\n",
       "<path style=\"fill:none;stroke-width:1;stroke-linecap:round;stroke-linejoin:round;stroke:rgb(0%,0%,0%);stroke-opacity:1;stroke-miterlimit:10;\" d=\"M 221.875 70.132812 C 221.875 74.398438 215.476562 74.398438 215.476562 70.132812 C 215.476562 65.867188 221.875 65.867188 221.875 70.132812 \"/>\n",
       "<path style=\"fill:none;stroke-width:1;stroke-linecap:round;stroke-linejoin:round;stroke:rgb(0%,0%,0%);stroke-opacity:1;stroke-miterlimit:10;\" d=\"M 190.152344 100.800781 C 190.152344 105.066406 183.75 105.066406 183.75 100.800781 C 183.75 96.535156 190.152344 96.535156 190.152344 100.800781 \"/>\n",
       "<path style=\"fill:none;stroke-width:1;stroke-linecap:round;stroke-linejoin:round;stroke:rgb(0%,0%,0%);stroke-opacity:1;stroke-miterlimit:10;\" d=\"M 202.839844 84.355469 C 202.839844 88.621094 196.441406 88.621094 196.441406 84.355469 C 196.441406 80.089844 202.839844 80.089844 202.839844 84.355469 \"/>\n",
       "<path style=\"fill:none;stroke-width:1;stroke-linecap:round;stroke-linejoin:round;stroke:rgb(0%,0%,0%);stroke-opacity:1;stroke-miterlimit:10;\" d=\"M 221.875 81.6875 C 221.875 85.957031 215.476562 85.957031 215.476562 81.6875 C 215.476562 77.421875 221.875 77.421875 221.875 81.6875 \"/>\n",
       "<path style=\"fill:none;stroke-width:1;stroke-linecap:round;stroke-linejoin:round;stroke:rgb(0%,0%,0%);stroke-opacity:1;stroke-miterlimit:10;\" d=\"M 164.773438 118.578125 C 164.773438 122.84375 158.371094 122.84375 158.371094 118.578125 C 158.371094 114.3125 164.773438 114.3125 164.773438 118.578125 \"/>\n",
       "<path style=\"fill:none;stroke-width:1;stroke-linecap:round;stroke-linejoin:round;stroke:rgb(0%,0%,0%);stroke-opacity:1;stroke-miterlimit:10;\" d=\"M 183.808594 93.246094 C 183.808594 97.511719 177.40625 97.511719 177.40625 93.246094 C 177.40625 88.976562 183.808594 88.976562 183.808594 93.246094 \"/>\n",
       "<g clip-path=\"url(#clip16)\" clip-rule=\"nonzero\">\n",
       "<path style=\"fill:none;stroke-width:1;stroke-linecap:round;stroke-linejoin:round;stroke:rgb(0%,0%,0%);stroke-opacity:1;stroke-miterlimit:10;\" d=\"M 221.875 62.132812 C 221.875 66.398438 215.476562 66.398438 215.476562 62.132812 C 215.476562 57.867188 221.875 57.867188 221.875 62.132812 \"/>\n",
       "</g>\n",
       "<path style=\"fill:none;stroke-width:1;stroke-linecap:round;stroke-linejoin:round;stroke:rgb(0%,0%,0%);stroke-opacity:1;stroke-miterlimit:10;\" d=\"M 139.394531 95.910156 C 139.394531 100.179688 132.992188 100.179688 132.992188 95.910156 C 132.992188 91.644531 139.394531 91.644531 139.394531 95.910156 \"/>\n",
       "<path style=\"fill:none;stroke-width:1;stroke-linecap:round;stroke-linejoin:round;stroke:rgb(0%,0%,0%);stroke-opacity:1;stroke-miterlimit:10;\" d=\"M 228.21875 72.355469 C 228.21875 76.621094 221.820312 76.621094 221.820312 72.355469 C 221.820312 68.089844 228.21875 68.089844 228.21875 72.355469 \"/>\n",
       "<g clip-path=\"url(#clip17)\" clip-rule=\"nonzero\">\n",
       "<path style=\"fill:none;stroke-width:1;stroke-linecap:round;stroke-linejoin:round;stroke:rgb(0%,0%,0%);stroke-opacity:1;stroke-miterlimit:10;\" d=\"M 158.425781 62.132812 C 158.425781 66.398438 152.027344 66.398438 152.027344 62.132812 C 152.027344 57.867188 158.425781 57.867188 158.425781 62.132812 \"/>\n",
       "</g>\n",
       "<path style=\"fill:none;stroke-width:1;stroke-linecap:round;stroke-linejoin:round;stroke:rgb(0%,0%,0%);stroke-opacity:1;stroke-miterlimit:10;\" d=\"M 190.152344 79.023438 C 190.152344 83.289062 183.75 83.289062 183.75 79.023438 C 183.75 74.753906 190.152344 74.753906 190.152344 79.023438 \"/>\n",
       "<path style=\"fill:none;stroke-width:1;stroke-linecap:round;stroke-linejoin:round;stroke:rgb(0%,0%,0%);stroke-opacity:1;stroke-miterlimit:10;\" d=\"M 126.703125 83.910156 C 126.703125 88.179688 120.304688 88.179688 120.304688 83.910156 C 120.304688 79.644531 126.703125 79.644531 126.703125 83.910156 \"/>\n",
       "<path style=\"fill:none;stroke-width:1;stroke-linecap:round;stroke-linejoin:round;stroke:rgb(0%,0%,0%);stroke-opacity:1;stroke-miterlimit:10;\" d=\"M 171.117188 115.023438 C 171.117188 119.289062 164.71875 119.289062 164.71875 115.023438 C 164.71875 110.753906 171.117188 110.753906 171.117188 115.023438 \"/>\n",
       "<path style=\"fill:none;stroke-width:1;stroke-linecap:round;stroke-linejoin:round;stroke:rgb(0%,0%,0%);stroke-opacity:1;stroke-miterlimit:10;\" d=\"M 215.53125 85.246094 C 215.53125 89.511719 209.132812 89.511719 209.132812 85.246094 C 209.132812 80.976562 215.53125 80.976562 215.53125 85.246094 \"/>\n",
       "<path style=\"fill:none;stroke-width:1;stroke-linecap:round;stroke-linejoin:round;stroke:rgb(0%,0%,0%);stroke-opacity:1;stroke-miterlimit:10;\" d=\"M 253.601562 87.464844 C 253.601562 91.734375 247.199219 91.734375 247.199219 87.464844 C 247.199219 83.199219 253.601562 83.199219 253.601562 87.464844 \"/>\n",
       "<path style=\"fill:none;stroke-width:1;stroke-linecap:round;stroke-linejoin:round;stroke:rgb(0%,0%,0%);stroke-opacity:1;stroke-miterlimit:10;\" d=\"M 158.425781 83.023438 C 158.425781 87.289062 152.027344 87.289062 152.027344 83.023438 C 152.027344 78.753906 158.425781 78.753906 158.425781 83.023438 \"/>\n",
       "<path style=\"fill:none;stroke-width:1;stroke-linecap:round;stroke-linejoin:round;stroke:rgb(0%,0%,0%);stroke-opacity:1;stroke-miterlimit:10;\" d=\"M 196.496094 90.132812 C 196.496094 94.398438 190.097656 94.398438 190.097656 90.132812 C 190.097656 85.867188 196.496094 85.867188 196.496094 90.132812 \"/>\n",
       "<path style=\"fill:none;stroke-width:1;stroke-linecap:round;stroke-linejoin:round;stroke:rgb(0%,0%,0%);stroke-opacity:1;stroke-miterlimit:10;\" d=\"M 164.773438 123.464844 C 164.773438 127.734375 158.371094 127.734375 158.371094 123.464844 C 158.371094 119.199219 164.773438 119.199219 164.773438 123.464844 \"/>\n",
       "<path style=\"fill:none;stroke-width:1;stroke-linecap:round;stroke-linejoin:round;stroke:rgb(0%,0%,0%);stroke-opacity:1;stroke-miterlimit:10;\" d=\"M 196.496094 96.355469 C 196.496094 100.621094 190.097656 100.621094 190.097656 96.355469 C 190.097656 92.089844 196.496094 92.089844 196.496094 96.355469 \"/>\n",
       "<path style=\"fill:none;stroke-width:1;stroke-linecap:round;stroke-linejoin:round;stroke:rgb(0%,0%,0%);stroke-opacity:1;stroke-miterlimit:10;\" d=\"M 196.496094 91.910156 C 196.496094 96.179688 190.097656 96.179688 190.097656 91.910156 C 190.097656 87.644531 196.496094 87.644531 196.496094 91.910156 \"/>\n",
       "<path style=\"fill:none;stroke-width:1;stroke-linecap:round;stroke-linejoin:round;stroke:rgb(0%,0%,0%);stroke-opacity:1;stroke-miterlimit:10;\" d=\"M 94.980469 106.132812 C 94.980469 110.398438 88.578125 110.398438 88.578125 106.132812 C 88.578125 101.867188 94.980469 101.867188 94.980469 106.132812 \"/>\n",
       "<path style=\"fill:none;stroke-width:1;stroke-linecap:round;stroke-linejoin:round;stroke:rgb(0%,0%,0%);stroke-opacity:1;stroke-miterlimit:10;\" d=\"M 196.496094 71.910156 C 196.496094 76.179688 190.097656 76.179688 190.097656 71.910156 C 190.097656 67.644531 196.496094 67.644531 196.496094 71.910156 \"/>\n",
       "<path style=\"fill:none;stroke-width:1;stroke-linecap:round;stroke-linejoin:round;stroke:rgb(0%,0%,0%);stroke-opacity:1;stroke-miterlimit:10;\" d=\"M 158.425781 67.464844 C 158.425781 71.734375 152.027344 71.734375 152.027344 67.464844 C 152.027344 63.199219 158.425781 63.199219 158.425781 67.464844 \"/>\n",
       "<g clip-path=\"url(#clip18)\" clip-rule=\"nonzero\">\n",
       "<path style=\"fill:none;stroke-width:1;stroke-linecap:round;stroke-linejoin:round;stroke:rgb(0%,0%,0%);stroke-opacity:1;stroke-miterlimit:10;\" d=\"M 221.875 62.132812 C 221.875 66.398438 215.476562 66.398438 215.476562 62.132812 C 215.476562 57.867188 221.875 57.867188 221.875 62.132812 \"/>\n",
       "</g>\n",
       "<path style=\"fill:none;stroke-width:1;stroke-linecap:round;stroke-linejoin:round;stroke:rgb(0%,0%,0%);stroke-opacity:1;stroke-miterlimit:10;\" d=\"M 171.117188 69.246094 C 171.117188 73.511719 164.71875 73.511719 164.71875 69.246094 C 164.71875 64.976562 171.117188 64.976562 171.117188 69.246094 \"/>\n",
       "<path style=\"fill:none;stroke-width:1;stroke-linecap:round;stroke-linejoin:round;stroke:rgb(0%,0%,0%);stroke-opacity:1;stroke-miterlimit:10;\" d=\"M 158.425781 115.910156 C 158.425781 120.179688 152.027344 120.179688 152.027344 115.910156 C 152.027344 111.644531 158.425781 111.644531 158.425781 115.910156 \"/>\n",
       "<path style=\"fill:none;stroke-width:1;stroke-linecap:round;stroke-linejoin:round;stroke:rgb(0%,0%,0%);stroke-opacity:1;stroke-miterlimit:10;\" d=\"M 253.601562 79.910156 C 253.601562 84.179688 247.199219 84.179688 247.199219 79.910156 C 247.199219 75.644531 253.601562 75.644531 253.601562 79.910156 \"/>\n",
       "<path style=\"fill:none;stroke-width:1;stroke-linecap:round;stroke-linejoin:round;stroke:rgb(0%,0%,0%);stroke-opacity:1;stroke-miterlimit:10;\" d=\"M 177.460938 79.464844 C 177.460938 83.734375 171.0625 83.734375 171.0625 79.464844 C 171.0625 75.199219 177.460938 75.199219 177.460938 79.464844 \"/>\n",
       "<path style=\"fill:none;stroke-width:1;stroke-linecap:round;stroke-linejoin:round;stroke:rgb(0%,0%,0%);stroke-opacity:1;stroke-miterlimit:10;\" d=\"M 183.808594 111.910156 C 183.808594 116.179688 177.40625 116.179688 177.40625 111.910156 C 177.40625 107.644531 183.808594 107.644531 183.808594 111.910156 \"/>\n",
       "<path style=\"fill:none;stroke-width:1;stroke-linecap:round;stroke-linejoin:round;stroke:rgb(0%,0%,0%);stroke-opacity:1;stroke-miterlimit:10;\" d=\"M 177.460938 103.464844 C 177.460938 107.734375 171.0625 107.734375 171.0625 103.464844 C 171.0625 99.199219 177.460938 99.199219 177.460938 103.464844 \"/>\n",
       "<path style=\"fill:none;stroke-width:1;stroke-linecap:round;stroke-linejoin:round;stroke:rgb(0%,0%,0%);stroke-opacity:1;stroke-miterlimit:10;\" d=\"M 158.425781 91.023438 C 158.425781 95.289062 152.027344 95.289062 152.027344 91.023438 C 152.027344 86.753906 158.425781 86.753906 158.425781 91.023438 \"/>\n",
       "<path style=\"fill:none;stroke-width:1;stroke-linecap:round;stroke-linejoin:round;stroke:rgb(0%,0%,0%);stroke-opacity:1;stroke-miterlimit:10;\" d=\"M 202.839844 109.246094 C 202.839844 113.511719 196.441406 113.511719 196.441406 109.246094 C 196.441406 104.976562 202.839844 104.976562 202.839844 109.246094 \"/>\n",
       "<path style=\"fill:none;stroke-width:1;stroke-linecap:round;stroke-linejoin:round;stroke:rgb(0%,0%,0%);stroke-opacity:1;stroke-miterlimit:10;\" d=\"M 253.601562 82.578125 C 253.601562 86.84375 247.199219 86.84375 247.199219 82.578125 C 247.199219 78.3125 253.601562 78.3125 253.601562 82.578125 \"/>\n",
       "<path style=\"fill:none;stroke-width:1;stroke-linecap:round;stroke-linejoin:round;stroke:rgb(0%,0%,0%);stroke-opacity:1;stroke-miterlimit:10;\" d=\"M 202.839844 72.800781 C 202.839844 77.066406 196.441406 77.066406 196.441406 72.800781 C 196.441406 68.535156 202.839844 68.535156 202.839844 72.800781 \"/>\n",
       "<path style=\"fill:none;stroke-width:1;stroke-linecap:round;stroke-linejoin:round;stroke:rgb(0%,0%,0%);stroke-opacity:1;stroke-miterlimit:10;\" d=\"M 120.359375 80.355469 C 120.359375 84.621094 113.957031 84.621094 113.957031 80.355469 C 113.957031 76.089844 120.359375 76.089844 120.359375 80.355469 \"/>\n",
       "<path style=\"fill:none;stroke-width:1;stroke-linecap:round;stroke-linejoin:round;stroke:rgb(0%,0%,0%);stroke-opacity:1;stroke-miterlimit:10;\" d=\"M 190.152344 85.6875 C 190.152344 89.957031 183.75 89.957031 183.75 85.6875 C 183.75 81.421875 190.152344 81.421875 190.152344 85.6875 \"/>\n",
       "<path style=\"fill:none;stroke-width:1;stroke-linecap:round;stroke-linejoin:round;stroke:rgb(0%,0%,0%);stroke-opacity:1;stroke-miterlimit:10;\" d=\"M 177.460938 80.355469 C 177.460938 84.621094 171.0625 84.621094 171.0625 80.355469 C 171.0625 76.089844 177.460938 76.089844 177.460938 80.355469 \"/>\n",
       "<path style=\"fill:none;stroke-width:1;stroke-linecap:round;stroke-linejoin:round;stroke:rgb(0%,0%,0%);stroke-opacity:1;stroke-miterlimit:10;\" d=\"M 209.1875 103.464844 C 209.1875 107.734375 202.785156 107.734375 202.785156 103.464844 C 202.785156 99.199219 209.1875 99.199219 209.1875 103.464844 \"/>\n",
       "<path style=\"fill:none;stroke-width:1;stroke-linecap:round;stroke-linejoin:round;stroke:rgb(0%,0%,0%);stroke-opacity:1;stroke-miterlimit:10;\" d=\"M 126.703125 96.355469 C 126.703125 100.621094 120.304688 100.621094 120.304688 96.355469 C 120.304688 92.089844 126.703125 92.089844 126.703125 96.355469 \"/>\n",
       "<path style=\"fill:none;stroke-width:1;stroke-linecap:round;stroke-linejoin:round;stroke:rgb(0%,0%,0%);stroke-opacity:1;stroke-miterlimit:10;\" d=\"M 190.152344 78.578125 C 190.152344 82.84375 183.75 82.84375 183.75 78.578125 C 183.75 74.3125 190.152344 74.3125 190.152344 78.578125 \"/>\n",
       "<path style=\"fill:none;stroke-width:1;stroke-linecap:round;stroke-linejoin:round;stroke:rgb(0%,0%,0%);stroke-opacity:1;stroke-miterlimit:10;\" d=\"M 183.808594 72.355469 C 183.808594 76.621094 177.40625 76.621094 177.40625 72.355469 C 177.40625 68.089844 183.808594 68.089844 183.808594 72.355469 \"/>\n",
       "<path style=\"fill:none;stroke-width:1;stroke-linecap:round;stroke-linejoin:round;stroke:rgb(0%,0%,0%);stroke-opacity:1;stroke-miterlimit:10;\" d=\"M 253.601562 92.800781 C 253.601562 97.066406 247.199219 97.066406 247.199219 92.800781 C 247.199219 88.535156 253.601562 88.535156 253.601562 92.800781 \"/>\n",
       "<path style=\"fill:none;stroke-width:1;stroke-linecap:round;stroke-linejoin:round;stroke:rgb(0%,0%,0%);stroke-opacity:1;stroke-miterlimit:10;\" d=\"M 183.808594 97.6875 C 183.808594 101.957031 177.40625 101.957031 177.40625 97.6875 C 177.40625 93.421875 183.808594 93.421875 183.808594 97.6875 \"/>\n",
       "<g clip-path=\"url(#clip19)\" clip-rule=\"nonzero\">\n",
       "<path style=\"fill:none;stroke-width:1;stroke-linecap:round;stroke-linejoin:round;stroke:rgb(0%,0%,0%);stroke-opacity:1;stroke-miterlimit:10;\" d=\"M 221.875 62.132812 C 221.875 66.398438 215.476562 66.398438 215.476562 62.132812 C 215.476562 57.867188 221.875 57.867188 221.875 62.132812 \"/>\n",
       "</g>\n",
       "<path style=\"fill:none;stroke-width:1;stroke-linecap:round;stroke-linejoin:round;stroke:rgb(0%,0%,0%);stroke-opacity:1;stroke-miterlimit:10;\" d=\"M 133.046875 65.6875 C 133.046875 69.957031 126.648438 69.957031 126.648438 65.6875 C 126.648438 61.421875 133.046875 61.421875 133.046875 65.6875 \"/>\n",
       "<path style=\"fill:none;stroke-width:1;stroke-linecap:round;stroke-linejoin:round;stroke:rgb(0%,0%,0%);stroke-opacity:1;stroke-miterlimit:10;\" d=\"M 190.152344 67.023438 C 190.152344 71.289062 183.75 71.289062 183.75 67.023438 C 183.75 62.753906 190.152344 62.753906 190.152344 67.023438 \"/>\n",
       "<path style=\"fill:none;stroke-width:1;stroke-linecap:round;stroke-linejoin:round;stroke:rgb(0%,0%,0%);stroke-opacity:1;stroke-miterlimit:10;\" d=\"M 247.253906 71.023438 C 247.253906 75.289062 240.855469 75.289062 240.855469 71.023438 C 240.855469 66.753906 247.253906 66.753906 247.253906 71.023438 \"/>\n",
       "<path style=\"fill:none;stroke-width:1;stroke-linecap:round;stroke-linejoin:round;stroke:rgb(0%,0%,0%);stroke-opacity:1;stroke-miterlimit:10;\" d=\"M 234.566406 82.578125 C 234.566406 86.84375 228.164062 86.84375 228.164062 82.578125 C 228.164062 78.3125 234.566406 78.3125 234.566406 82.578125 \"/>\n",
       "<path style=\"fill:none;stroke-width:1;stroke-linecap:round;stroke-linejoin:round;stroke:rgb(0%,0%,0%);stroke-opacity:1;stroke-miterlimit:10;\" d=\"M 202.839844 78.578125 C 202.839844 82.84375 196.441406 82.84375 196.441406 78.578125 C 196.441406 74.3125 202.839844 74.3125 202.839844 78.578125 \"/>\n",
       "<path style=\"fill:none;stroke-width:1;stroke-linecap:round;stroke-linejoin:round;stroke:rgb(0%,0%,0%);stroke-opacity:1;stroke-miterlimit:10;\" d=\"M 171.117188 99.464844 C 171.117188 103.734375 164.71875 103.734375 164.71875 99.464844 C 164.71875 95.199219 171.117188 95.199219 171.117188 99.464844 \"/>\n",
       "<path style=\"fill:none;stroke-width:1;stroke-linecap:round;stroke-linejoin:round;stroke:rgb(0%,0%,0%);stroke-opacity:1;stroke-miterlimit:10;\" d=\"M 183.808594 84.355469 C 183.808594 88.621094 177.40625 88.621094 177.40625 84.355469 C 177.40625 80.089844 183.808594 80.089844 183.808594 84.355469 \"/>\n",
       "<path style=\"fill:none;stroke-width:1;stroke-linecap:round;stroke-linejoin:round;stroke:rgb(0%,0%,0%);stroke-opacity:1;stroke-miterlimit:10;\" d=\"M 234.566406 91.464844 C 234.566406 95.734375 228.164062 95.734375 228.164062 91.464844 C 228.164062 87.199219 234.566406 87.199219 234.566406 91.464844 \"/>\n",
       "<path style=\"fill:none;stroke-width:1;stroke-linecap:round;stroke-linejoin:round;stroke:rgb(0%,0%,0%);stroke-opacity:1;stroke-miterlimit:10;\" d=\"M 183.808594 105.6875 C 183.808594 109.957031 177.40625 109.957031 177.40625 105.6875 C 177.40625 101.421875 183.808594 101.421875 183.808594 105.6875 \"/>\n",
       "<path style=\"fill:none;stroke-width:1;stroke-linecap:round;stroke-linejoin:round;stroke:rgb(0%,0%,0%);stroke-opacity:1;stroke-miterlimit:10;\" d=\"M 145.738281 112.355469 C 145.738281 116.621094 139.339844 116.621094 139.339844 112.355469 C 139.339844 108.089844 145.738281 108.089844 145.738281 112.355469 \"/>\n",
       "<path style=\"fill:none;stroke-width:1;stroke-linecap:round;stroke-linejoin:round;stroke:rgb(0%,0%,0%);stroke-opacity:1;stroke-miterlimit:10;\" d=\"M 202.839844 89.6875 C 202.839844 93.957031 196.441406 93.957031 196.441406 89.6875 C 196.441406 85.421875 202.839844 85.421875 202.839844 89.6875 \"/>\n",
       "<path style=\"fill:none;stroke-width:1;stroke-linecap:round;stroke-linejoin:round;stroke:rgb(0%,0%,0%);stroke-opacity:1;stroke-miterlimit:10;\" d=\"M 190.152344 81.6875 C 190.152344 85.957031 183.75 85.957031 183.75 81.6875 C 183.75 77.421875 190.152344 77.421875 190.152344 81.6875 \"/>\n",
       "<path style=\"fill:none;stroke-width:1;stroke-linecap:round;stroke-linejoin:round;stroke:rgb(0%,0%,0%);stroke-opacity:1;stroke-miterlimit:10;\" d=\"M 209.1875 110.578125 C 209.1875 114.84375 202.785156 114.84375 202.785156 110.578125 C 202.785156 106.3125 209.1875 106.3125 209.1875 110.578125 \"/>\n",
       "<path style=\"fill:none;stroke-width:1;stroke-linecap:round;stroke-linejoin:round;stroke:rgb(0%,0%,0%);stroke-opacity:1;stroke-miterlimit:10;\" d=\"M 107.667969 111.023438 C 107.667969 115.289062 101.269531 115.289062 101.269531 111.023438 C 101.269531 106.753906 107.667969 106.753906 107.667969 111.023438 \"/>\n",
       "<path style=\"fill:none;stroke-width:1;stroke-linecap:round;stroke-linejoin:round;stroke:rgb(0%,0%,0%);stroke-opacity:1;stroke-miterlimit:10;\" d=\"M 145.738281 78.132812 C 145.738281 82.398438 139.339844 82.398438 139.339844 78.132812 C 139.339844 73.867188 145.738281 73.867188 145.738281 78.132812 \"/>\n",
       "<path style=\"fill:none;stroke-width:1;stroke-linecap:round;stroke-linejoin:round;stroke:rgb(0%,0%,0%);stroke-opacity:1;stroke-miterlimit:10;\" d=\"M 145.738281 107.464844 C 145.738281 111.734375 139.339844 111.734375 139.339844 107.464844 C 139.339844 103.199219 145.738281 103.199219 145.738281 107.464844 \"/>\n",
       "<path style=\"fill:none;stroke-width:1;stroke-linecap:round;stroke-linejoin:round;stroke:rgb(0%,0%,0%);stroke-opacity:1;stroke-miterlimit:10;\" d=\"M 177.460938 80.355469 C 177.460938 84.621094 171.0625 84.621094 171.0625 80.355469 C 171.0625 76.089844 177.460938 76.089844 177.460938 80.355469 \"/>\n",
       "<path style=\"fill:none;stroke-width:1;stroke-linecap:round;stroke-linejoin:round;stroke:rgb(0%,0%,0%);stroke-opacity:1;stroke-miterlimit:10;\" d=\"M 171.117188 94.132812 C 171.117188 98.398438 164.71875 98.398438 164.71875 94.132812 C 164.71875 89.867188 171.117188 89.867188 171.117188 94.132812 \"/>\n",
       "<g clip-path=\"url(#clip20)\" clip-rule=\"nonzero\">\n",
       "<path style=\"fill:none;stroke-width:1;stroke-linecap:round;stroke-linejoin:round;stroke:rgb(0%,0%,0%);stroke-opacity:1;stroke-miterlimit:10;\" d=\"M 215.53125 62.578125 C 215.53125 66.84375 209.132812 66.84375 209.132812 62.578125 C 209.132812 58.3125 215.53125 58.3125 215.53125 62.578125 \"/>\n",
       "</g>\n",
       "<path style=\"fill:none;stroke-width:1;stroke-linecap:round;stroke-linejoin:round;stroke:rgb(0%,0%,0%);stroke-opacity:1;stroke-miterlimit:10;\" d=\"M 152.082031 105.6875 C 152.082031 109.957031 145.683594 109.957031 145.683594 105.6875 C 145.683594 101.421875 152.082031 101.421875 152.082031 105.6875 \"/>\n",
       "<path style=\"fill:none;stroke-width:1;stroke-linecap:round;stroke-linejoin:round;stroke:rgb(0%,0%,0%);stroke-opacity:1;stroke-miterlimit:10;\" d=\"M 253.601562 85.6875 C 253.601562 89.957031 247.199219 89.957031 247.199219 85.6875 C 247.199219 81.421875 253.601562 81.421875 253.601562 85.6875 \"/>\n",
       "<path style=\"fill:none;stroke-width:1;stroke-linecap:round;stroke-linejoin:round;stroke:rgb(0%,0%,0%);stroke-opacity:1;stroke-miterlimit:10;\" d=\"M 253.601562 111.023438 C 253.601562 115.289062 247.199219 115.289062 247.199219 111.023438 C 247.199219 106.753906 253.601562 106.753906 253.601562 111.023438 \"/>\n",
       "<path style=\"fill:none;stroke-width:1;stroke-linecap:round;stroke-linejoin:round;stroke:rgb(0%,0%,0%);stroke-opacity:1;stroke-miterlimit:10;\" d=\"M 228.21875 84.355469 C 228.21875 88.621094 221.820312 88.621094 221.820312 84.355469 C 221.820312 80.089844 228.21875 80.089844 228.21875 84.355469 \"/>\n",
       "<path style=\"fill:none;stroke-width:1;stroke-linecap:round;stroke-linejoin:round;stroke:rgb(0%,0%,0%);stroke-opacity:1;stroke-miterlimit:10;\" d=\"M 196.496094 80.800781 C 196.496094 85.066406 190.097656 85.066406 190.097656 80.800781 C 190.097656 76.535156 196.496094 76.535156 196.496094 80.800781 \"/>\n",
       "<path style=\"fill:none;stroke-width:1;stroke-linecap:round;stroke-linejoin:round;stroke:rgb(0%,0%,0%);stroke-opacity:1;stroke-miterlimit:10;\" d=\"M 171.117188 105.6875 C 171.117188 109.957031 164.71875 109.957031 164.71875 105.6875 C 164.71875 101.421875 171.117188 101.421875 171.117188 105.6875 \"/>\n",
       "<path style=\"fill:none;stroke-width:1;stroke-linecap:round;stroke-linejoin:round;stroke:rgb(0%,0%,0%);stroke-opacity:1;stroke-miterlimit:10;\" d=\"M 152.082031 87.464844 C 152.082031 91.734375 145.683594 91.734375 145.683594 87.464844 C 145.683594 83.199219 152.082031 83.199219 152.082031 87.464844 \"/>\n",
       "<path style=\"fill:none;stroke-width:1;stroke-linecap:round;stroke-linejoin:round;stroke:rgb(0%,0%,0%);stroke-opacity:1;stroke-miterlimit:10;\" d=\"M 228.21875 87.910156 C 228.21875 92.179688 221.820312 92.179688 221.820312 87.910156 C 221.820312 83.644531 228.21875 83.644531 228.21875 87.910156 \"/>\n",
       "<path style=\"fill:none;stroke-width:1;stroke-linecap:round;stroke-linejoin:round;stroke:rgb(0%,0%,0%);stroke-opacity:1;stroke-miterlimit:10;\" d=\"M 183.808594 93.6875 C 183.808594 97.957031 177.40625 97.957031 177.40625 93.6875 C 177.40625 89.421875 183.808594 89.421875 183.808594 93.6875 \"/>\n",
       "<path style=\"fill:none;stroke-width:1;stroke-linecap:round;stroke-linejoin:round;stroke:rgb(0%,0%,0%);stroke-opacity:1;stroke-miterlimit:10;\" d=\"M 190.152344 94.132812 C 190.152344 98.398438 183.75 98.398438 183.75 94.132812 C 183.75 89.867188 190.152344 89.867188 190.152344 94.132812 \"/>\n",
       "<path style=\"fill:none;stroke-width:1;stroke-linecap:round;stroke-linejoin:round;stroke:rgb(0%,0%,0%);stroke-opacity:1;stroke-miterlimit:10;\" d=\"M 120.359375 89.6875 C 120.359375 93.957031 113.957031 93.957031 113.957031 89.6875 C 113.957031 85.421875 120.359375 85.421875 120.359375 89.6875 \"/>\n",
       "<path style=\"fill:none;stroke-width:1;stroke-linecap:round;stroke-linejoin:round;stroke:rgb(0%,0%,0%);stroke-opacity:1;stroke-miterlimit:10;\" d=\"M 133.046875 121.246094 C 133.046875 125.511719 126.648438 125.511719 126.648438 121.246094 C 126.648438 116.976562 133.046875 116.976562 133.046875 121.246094 \"/>\n",
       "<path style=\"fill:none;stroke-width:1;stroke-linecap:round;stroke-linejoin:round;stroke:rgb(0%,0%,0%);stroke-opacity:1;stroke-miterlimit:10;\" d=\"M 253.601562 83.023438 C 253.601562 87.289062 247.199219 87.289062 247.199219 83.023438 C 247.199219 78.753906 253.601562 78.753906 253.601562 83.023438 \"/>\n",
       "<path style=\"fill:none;stroke-width:1;stroke-linecap:round;stroke-linejoin:round;stroke:rgb(0%,0%,0%);stroke-opacity:1;stroke-miterlimit:10;\" d=\"M 196.496094 104.355469 C 196.496094 108.621094 190.097656 108.621094 190.097656 104.355469 C 190.097656 100.089844 196.496094 100.089844 196.496094 104.355469 \"/>\n",
       "<path style=\"fill:none;stroke-width:1;stroke-linecap:round;stroke-linejoin:round;stroke:rgb(0%,0%,0%);stroke-opacity:1;stroke-miterlimit:10;\" d=\"M 209.1875 84.800781 C 209.1875 89.066406 202.785156 89.066406 202.785156 84.800781 C 202.785156 80.535156 209.1875 80.535156 209.1875 84.800781 \"/>\n",
       "<g clip-path=\"url(#clip21)\" clip-rule=\"nonzero\">\n",
       "<path style=\"fill:none;stroke-width:1;stroke-linecap:round;stroke-linejoin:round;stroke:rgb(0%,0%,0%);stroke-opacity:1;stroke-miterlimit:10;\" d=\"M 152.082031 62.132812 C 152.082031 66.398438 145.683594 66.398438 145.683594 62.132812 C 145.683594 57.867188 152.082031 57.867188 152.082031 62.132812 \"/>\n",
       "</g>\n",
       "<path style=\"fill:none;stroke-width:1;stroke-linecap:round;stroke-linejoin:round;stroke:rgb(0%,0%,0%);stroke-opacity:1;stroke-miterlimit:10;\" d=\"M 158.425781 112.800781 C 158.425781 117.066406 152.027344 117.066406 152.027344 112.800781 C 152.027344 108.535156 158.425781 108.535156 158.425781 112.800781 \"/>\n",
       "<path style=\"fill:none;stroke-width:1;stroke-linecap:round;stroke-linejoin:round;stroke:rgb(0%,0%,0%);stroke-opacity:1;stroke-miterlimit:10;\" d=\"M 221.875 86.578125 C 221.875 90.84375 215.476562 90.84375 215.476562 86.578125 C 215.476562 82.3125 221.875 82.3125 221.875 86.578125 \"/>\n",
       "<path style=\"fill:none;stroke-width:1;stroke-linecap:round;stroke-linejoin:round;stroke:rgb(0%,0%,0%);stroke-opacity:1;stroke-miterlimit:10;\" d=\"M 139.394531 117.246094 C 139.394531 121.511719 132.992188 121.511719 132.992188 117.246094 C 132.992188 112.976562 139.394531 112.976562 139.394531 117.246094 \"/>\n",
       "<path style=\"fill:none;stroke-width:1;stroke-linecap:round;stroke-linejoin:round;stroke:rgb(0%,0%,0%);stroke-opacity:1;stroke-miterlimit:10;\" d=\"M 164.773438 70.578125 C 164.773438 74.84375 158.371094 74.84375 158.371094 70.578125 C 158.371094 66.3125 164.773438 66.3125 164.773438 70.578125 \"/>\n",
       "<path style=\"fill:none;stroke-width:1;stroke-linecap:round;stroke-linejoin:round;stroke:rgb(0%,0%,0%);stroke-opacity:1;stroke-miterlimit:10;\" d=\"M 215.53125 108.355469 C 215.53125 112.621094 209.132812 112.621094 209.132812 108.355469 C 209.132812 104.089844 215.53125 104.089844 215.53125 108.355469 \"/>\n",
       "<path style=\"fill:none;stroke-width:1;stroke-linecap:round;stroke-linejoin:round;stroke:rgb(0%,0%,0%);stroke-opacity:1;stroke-miterlimit:10;\" d=\"M 196.496094 96.800781 C 196.496094 101.066406 190.097656 101.066406 190.097656 96.800781 C 190.097656 92.535156 196.496094 92.535156 196.496094 96.800781 \"/>\n",
       "<path style=\"fill:none;stroke-width:1;stroke-linecap:round;stroke-linejoin:round;stroke:rgb(0%,0%,0%);stroke-opacity:1;stroke-miterlimit:10;\" d=\"M 171.117188 104.800781 C 171.117188 109.066406 164.71875 109.066406 164.71875 104.800781 C 164.71875 100.535156 171.117188 100.535156 171.117188 104.800781 \"/>\n",
       "<path style=\"fill:none;stroke-width:1;stroke-linecap:round;stroke-linejoin:round;stroke:rgb(0%,0%,0%);stroke-opacity:1;stroke-miterlimit:10;\" d=\"M 253.601562 66.132812 C 253.601562 70.398438 247.199219 70.398438 247.199219 66.132812 C 247.199219 61.867188 253.601562 61.867188 253.601562 66.132812 \"/>\n",
       "<path style=\"fill:none;stroke-width:1;stroke-linecap:round;stroke-linejoin:round;stroke:rgb(0%,0%,0%);stroke-opacity:1;stroke-miterlimit:10;\" d=\"M 215.53125 91.464844 C 215.53125 95.734375 209.132812 95.734375 209.132812 91.464844 C 209.132812 87.199219 215.53125 87.199219 215.53125 91.464844 \"/>\n",
       "<path style=\"fill:none;stroke-width:1;stroke-linecap:round;stroke-linejoin:round;stroke:rgb(0%,0%,0%);stroke-opacity:1;stroke-miterlimit:10;\" d=\"M 139.394531 99.023438 C 139.394531 103.289062 132.992188 103.289062 132.992188 99.023438 C 132.992188 94.753906 139.394531 94.753906 139.394531 99.023438 \"/>\n",
       "<path style=\"fill:none;stroke-width:1;stroke-linecap:round;stroke-linejoin:round;stroke:rgb(0%,0%,0%);stroke-opacity:1;stroke-miterlimit:10;\" d=\"M 215.53125 78.132812 C 215.53125 82.398438 209.132812 82.398438 209.132812 78.132812 C 209.132812 73.867188 215.53125 73.867188 215.53125 78.132812 \"/>\n",
       "<path style=\"fill:none;stroke-width:1;stroke-linecap:round;stroke-linejoin:round;stroke:rgb(0%,0%,0%);stroke-opacity:1;stroke-miterlimit:10;\" d=\"M 202.839844 74.132812 C 202.839844 78.398438 196.441406 78.398438 196.441406 74.132812 C 196.441406 69.867188 202.839844 69.867188 202.839844 74.132812 \"/>\n",
       "<path style=\"fill:none;stroke-width:1;stroke-linecap:round;stroke-linejoin:round;stroke:rgb(0%,0%,0%);stroke-opacity:1;stroke-miterlimit:10;\" d=\"M 209.1875 92.800781 C 209.1875 97.066406 202.785156 97.066406 202.785156 92.800781 C 202.785156 88.535156 209.1875 88.535156 209.1875 92.800781 \"/>\n",
       "<path style=\"fill:none;stroke-width:1;stroke-linecap:round;stroke-linejoin:round;stroke:rgb(0%,0%,0%);stroke-opacity:1;stroke-miterlimit:10;\" d=\"M 196.496094 97.246094 C 196.496094 101.511719 190.097656 101.511719 190.097656 97.246094 C 190.097656 92.976562 196.496094 92.976562 196.496094 97.246094 \"/>\n",
       "<g clip-path=\"url(#clip22)\" clip-rule=\"nonzero\">\n",
       "<path style=\"fill:none;stroke-width:1;stroke-linecap:round;stroke-linejoin:round;stroke:rgb(0%,0%,0%);stroke-opacity:1;stroke-miterlimit:10;\" d=\"M 164.773438 62.132812 C 164.773438 66.398438 158.371094 66.398438 158.371094 62.132812 C 158.371094 57.867188 164.773438 57.867188 164.773438 62.132812 \"/>\n",
       "</g>\n",
       "<path style=\"fill:none;stroke-width:1;stroke-linecap:round;stroke-linejoin:round;stroke:rgb(0%,0%,0%);stroke-opacity:1;stroke-miterlimit:10;\" d=\"M 171.117188 82.132812 C 171.117188 86.398438 164.71875 86.398438 164.71875 82.132812 C 164.71875 77.867188 171.117188 77.867188 171.117188 82.132812 \"/>\n",
       "<path style=\"fill:none;stroke-width:1;stroke-linecap:round;stroke-linejoin:round;stroke:rgb(0%,0%,0%);stroke-opacity:1;stroke-miterlimit:10;\" d=\"M 234.566406 83.464844 C 234.566406 87.734375 228.164062 87.734375 228.164062 83.464844 C 228.164062 79.199219 234.566406 79.199219 234.566406 83.464844 \"/>\n",
       "<path style=\"fill:none;stroke-width:1;stroke-linecap:round;stroke-linejoin:round;stroke:rgb(0%,0%,0%);stroke-opacity:1;stroke-miterlimit:10;\" d=\"M 202.839844 91.023438 C 202.839844 95.289062 196.441406 95.289062 196.441406 91.023438 C 196.441406 86.753906 202.839844 86.753906 202.839844 91.023438 \"/>\n",
       "<path style=\"fill:none;stroke-width:1;stroke-linecap:round;stroke-linejoin:round;stroke:rgb(0%,0%,0%);stroke-opacity:1;stroke-miterlimit:10;\" d=\"M 164.773438 93.246094 C 164.773438 97.511719 158.371094 97.511719 158.371094 93.246094 C 158.371094 88.976562 164.773438 88.976562 164.773438 93.246094 \"/>\n",
       "<path style=\"fill:none;stroke-width:1;stroke-linecap:round;stroke-linejoin:round;stroke:rgb(0%,0%,0%);stroke-opacity:1;stroke-miterlimit:10;\" d=\"M 196.496094 64.355469 C 196.496094 68.621094 190.097656 68.621094 190.097656 64.355469 C 190.097656 60.089844 196.496094 60.089844 196.496094 64.355469 \"/>\n",
       "<path style=\"fill:none;stroke-width:1;stroke-linecap:round;stroke-linejoin:round;stroke:rgb(0%,0%,0%);stroke-opacity:1;stroke-miterlimit:10;\" d=\"M 164.773438 83.910156 C 164.773438 88.179688 158.371094 88.179688 158.371094 83.910156 C 158.371094 79.644531 164.773438 79.644531 164.773438 83.910156 \"/>\n",
       "<path style=\"fill:none;stroke-width:1;stroke-linecap:round;stroke-linejoin:round;stroke:rgb(0%,0%,0%);stroke-opacity:1;stroke-miterlimit:10;\" d=\"M 202.839844 70.578125 C 202.839844 74.84375 196.441406 74.84375 196.441406 70.578125 C 196.441406 66.3125 202.839844 66.3125 202.839844 70.578125 \"/>\n",
       "<path style=\"fill:none;stroke-width:1;stroke-linecap:round;stroke-linejoin:round;stroke:rgb(0%,0%,0%);stroke-opacity:1;stroke-miterlimit:10;\" d=\"M 215.53125 101.6875 C 215.53125 105.957031 209.132812 105.957031 209.132812 101.6875 C 209.132812 97.421875 215.53125 97.421875 215.53125 101.6875 \"/>\n",
       "<path style=\"fill:none;stroke-width:1;stroke-linecap:round;stroke-linejoin:round;stroke:rgb(0%,0%,0%);stroke-opacity:1;stroke-miterlimit:10;\" d=\"M 139.394531 99.910156 C 139.394531 104.179688 132.992188 104.179688 132.992188 99.910156 C 132.992188 95.644531 139.394531 95.644531 139.394531 99.910156 \"/>\n",
       "<path style=\"fill:none;stroke-width:1;stroke-linecap:round;stroke-linejoin:round;stroke:rgb(0%,0%,0%);stroke-opacity:1;stroke-miterlimit:10;\" d=\"M 164.773438 98.132812 C 164.773438 102.398438 158.371094 102.398438 158.371094 98.132812 C 158.371094 93.867188 164.773438 93.867188 164.773438 98.132812 \"/>\n",
       "<path style=\"fill:none;stroke-width:1;stroke-linecap:round;stroke-linejoin:round;stroke:rgb(0%,0%,0%);stroke-opacity:1;stroke-miterlimit:10;\" d=\"M 196.496094 64.355469 C 196.496094 68.621094 190.097656 68.621094 190.097656 64.355469 C 190.097656 60.089844 196.496094 60.089844 196.496094 64.355469 \"/>\n",
       "<path style=\"fill:none;stroke-width:1;stroke-linecap:round;stroke-linejoin:round;stroke:rgb(0%,0%,0%);stroke-opacity:1;stroke-miterlimit:10;\" d=\"M 164.773438 66.578125 C 164.773438 70.84375 158.371094 70.84375 158.371094 66.578125 C 158.371094 62.3125 164.773438 62.3125 164.773438 66.578125 \"/>\n",
       "<path style=\"fill:none;stroke-width:1;stroke-linecap:round;stroke-linejoin:round;stroke:rgb(0%,0%,0%);stroke-opacity:1;stroke-miterlimit:10;\" d=\"M 120.359375 91.464844 C 120.359375 95.734375 113.957031 95.734375 113.957031 91.464844 C 113.957031 87.199219 120.359375 87.199219 120.359375 91.464844 \"/>\n",
       "<path style=\"fill:none;stroke-width:1;stroke-linecap:round;stroke-linejoin:round;stroke:rgb(0%,0%,0%);stroke-opacity:1;stroke-miterlimit:10;\" d=\"M 177.460938 95.910156 C 177.460938 100.179688 171.0625 100.179688 171.0625 95.910156 C 171.0625 91.644531 177.460938 91.644531 177.460938 95.910156 \"/>\n",
       "<path style=\"fill:none;stroke-width:1;stroke-linecap:round;stroke-linejoin:round;stroke:rgb(0%,0%,0%);stroke-opacity:1;stroke-miterlimit:10;\" d=\"M 190.152344 78.132812 C 190.152344 82.398438 183.75 82.398438 183.75 78.132812 C 183.75 73.867188 190.152344 73.867188 190.152344 78.132812 \"/>\n",
       "<path style=\"fill:none;stroke-width:1;stroke-linecap:round;stroke-linejoin:round;stroke:rgb(0%,0%,0%);stroke-opacity:1;stroke-miterlimit:10;\" d=\"M 215.53125 86.132812 C 215.53125 90.398438 209.132812 90.398438 209.132812 86.132812 C 209.132812 81.867188 215.53125 81.867188 215.53125 86.132812 \"/>\n",
       "<path style=\"fill:none;stroke-width:1;stroke-linecap:round;stroke-linejoin:round;stroke:rgb(0%,0%,0%);stroke-opacity:1;stroke-miterlimit:10;\" d=\"M 158.425781 115.023438 C 158.425781 119.289062 152.027344 119.289062 152.027344 115.023438 C 152.027344 110.753906 158.425781 110.753906 158.425781 115.023438 \"/>\n",
       "<path style=\"fill:none;stroke-width:1;stroke-linecap:round;stroke-linejoin:round;stroke:rgb(0%,0%,0%);stroke-opacity:1;stroke-miterlimit:10;\" d=\"M 202.839844 64.355469 C 202.839844 68.621094 196.441406 68.621094 196.441406 64.355469 C 196.441406 60.089844 202.839844 60.089844 202.839844 64.355469 \"/>\n",
       "<path style=\"fill:none;stroke-width:1;stroke-linecap:round;stroke-linejoin:round;stroke:rgb(0%,0%,0%);stroke-opacity:1;stroke-miterlimit:10;\" d=\"M 171.117188 91.910156 C 171.117188 96.179688 164.71875 96.179688 164.71875 91.910156 C 164.71875 87.644531 171.117188 87.644531 171.117188 91.910156 \"/>\n",
       "<path style=\"fill:none;stroke-width:1;stroke-linecap:round;stroke-linejoin:round;stroke:rgb(0%,0%,0%);stroke-opacity:1;stroke-miterlimit:10;\" d=\"M 215.53125 76.800781 C 215.53125 81.066406 209.132812 81.066406 209.132812 76.800781 C 209.132812 72.535156 215.53125 72.535156 215.53125 76.800781 \"/>\n",
       "<path style=\"fill:none;stroke-width:1;stroke-linecap:round;stroke-linejoin:round;stroke:rgb(0%,0%,0%);stroke-opacity:1;stroke-miterlimit:10;\" d=\"M 209.1875 92.355469 C 209.1875 96.621094 202.785156 96.621094 202.785156 92.355469 C 202.785156 88.089844 209.1875 88.089844 209.1875 92.355469 \"/>\n",
       "<path style=\"fill:none;stroke-width:1;stroke-linecap:round;stroke-linejoin:round;stroke:rgb(0%,0%,0%);stroke-opacity:1;stroke-miterlimit:10;\" d=\"M 164.773438 101.246094 C 164.773438 105.511719 158.371094 105.511719 158.371094 101.246094 C 158.371094 96.976562 164.773438 96.976562 164.773438 101.246094 \"/>\n",
       "<path style=\"fill:none;stroke-width:1;stroke-linecap:round;stroke-linejoin:round;stroke:rgb(0%,0%,0%);stroke-opacity:1;stroke-miterlimit:10;\" d=\"M 190.152344 107.464844 C 190.152344 111.734375 183.75 111.734375 183.75 107.464844 C 183.75 103.199219 190.152344 103.199219 190.152344 107.464844 \"/>\n",
       "<path style=\"fill:none;stroke-width:1;stroke-linecap:round;stroke-linejoin:round;stroke:rgb(0%,0%,0%);stroke-opacity:1;stroke-miterlimit:10;\" d=\"M 145.738281 72.355469 C 145.738281 76.621094 139.339844 76.621094 139.339844 72.355469 C 139.339844 68.089844 145.738281 68.089844 145.738281 72.355469 \"/>\n",
       "<path style=\"fill:none;stroke-width:1;stroke-linecap:round;stroke-linejoin:round;stroke:rgb(0%,0%,0%);stroke-opacity:1;stroke-miterlimit:10;\" d=\"M 183.808594 80.800781 C 183.808594 85.066406 177.40625 85.066406 177.40625 80.800781 C 177.40625 76.535156 183.808594 76.535156 183.808594 80.800781 \"/>\n",
       "<path style=\"fill:none;stroke-width:1;stroke-linecap:round;stroke-linejoin:round;stroke:rgb(0%,0%,0%);stroke-opacity:1;stroke-miterlimit:10;\" d=\"M 215.53125 106.578125 C 215.53125 110.84375 209.132812 110.84375 209.132812 106.578125 C 209.132812 102.3125 215.53125 102.3125 215.53125 106.578125 \"/>\n",
       "<path style=\"fill:none;stroke-width:1;stroke-linecap:round;stroke-linejoin:round;stroke:rgb(0%,0%,0%);stroke-opacity:1;stroke-miterlimit:10;\" d=\"M 209.1875 100.355469 C 209.1875 104.621094 202.785156 104.621094 202.785156 100.355469 C 202.785156 96.089844 209.1875 96.089844 209.1875 100.355469 \"/>\n",
       "<path style=\"fill:none;stroke-width:1;stroke-linecap:round;stroke-linejoin:round;stroke:rgb(0%,0%,0%);stroke-opacity:1;stroke-miterlimit:10;\" d=\"M 209.1875 64.800781 C 209.1875 69.066406 202.785156 69.066406 202.785156 64.800781 C 202.785156 60.535156 209.1875 60.535156 209.1875 64.800781 \"/>\n",
       "<path style=\"fill:none;stroke-width:1;stroke-linecap:round;stroke-linejoin:round;stroke:rgb(0%,0%,0%);stroke-opacity:1;stroke-miterlimit:10;\" d=\"M 114.015625 94.578125 C 114.015625 98.84375 107.613281 98.84375 107.613281 94.578125 C 107.613281 90.3125 114.015625 90.3125 114.015625 94.578125 \"/>\n",
       "<path style=\"fill:none;stroke-width:1;stroke-linecap:round;stroke-linejoin:round;stroke:rgb(0%,0%,0%);stroke-opacity:1;stroke-miterlimit:10;\" d=\"M 209.1875 86.578125 C 209.1875 90.84375 202.785156 90.84375 202.785156 86.578125 C 202.785156 82.3125 209.1875 82.3125 209.1875 86.578125 \"/>\n",
       "<path style=\"fill:none;stroke-width:1;stroke-linecap:round;stroke-linejoin:round;stroke:rgb(0%,0%,0%);stroke-opacity:1;stroke-miterlimit:10;\" d=\"M 164.773438 102.132812 C 164.773438 106.398438 158.371094 106.398438 158.371094 102.132812 C 158.371094 97.867188 164.773438 97.867188 164.773438 102.132812 \"/>\n",
       "<path style=\"fill:none;stroke-width:1;stroke-linecap:round;stroke-linejoin:round;stroke:rgb(0%,0%,0%);stroke-opacity:1;stroke-miterlimit:10;\" d=\"M 139.394531 89.246094 C 139.394531 93.511719 132.992188 93.511719 132.992188 89.246094 C 132.992188 84.976562 139.394531 84.976562 139.394531 89.246094 \"/>\n",
       "<path style=\"fill:none;stroke-width:1;stroke-linecap:round;stroke-linejoin:round;stroke:rgb(0%,0%,0%);stroke-opacity:1;stroke-miterlimit:10;\" d=\"M 190.152344 92.800781 C 190.152344 97.066406 183.75 97.066406 183.75 92.800781 C 183.75 88.535156 190.152344 88.535156 190.152344 92.800781 \"/>\n",
       "<path style=\"fill:none;stroke-width:1;stroke-linecap:round;stroke-linejoin:round;stroke:rgb(0%,0%,0%);stroke-opacity:1;stroke-miterlimit:10;\" d=\"M 253.601562 96.800781 C 253.601562 101.066406 247.199219 101.066406 247.199219 96.800781 C 247.199219 92.535156 253.601562 92.535156 253.601562 96.800781 \"/>\n",
       "<path style=\"fill:none;stroke-width:1;stroke-linecap:round;stroke-linejoin:round;stroke:rgb(0%,0%,0%);stroke-opacity:1;stroke-miterlimit:10;\" d=\"M 209.1875 75.464844 C 209.1875 79.734375 202.785156 79.734375 202.785156 75.464844 C 202.785156 71.199219 209.1875 71.199219 209.1875 75.464844 \"/>\n",
       "<path style=\"fill:none;stroke-width:1;stroke-linecap:round;stroke-linejoin:round;stroke:rgb(0%,0%,0%);stroke-opacity:1;stroke-miterlimit:10;\" d=\"M 253.601562 99.910156 C 253.601562 104.179688 247.199219 104.179688 247.199219 99.910156 C 247.199219 95.644531 253.601562 95.644531 253.601562 99.910156 \"/>\n",
       "<g clip-path=\"url(#clip23)\" clip-rule=\"nonzero\">\n",
       "<path style=\"fill:none;stroke-width:1;stroke-linecap:round;stroke-linejoin:round;stroke:rgb(0%,0%,0%);stroke-opacity:1;stroke-miterlimit:10;\" d=\"M 133.046875 139.464844 C 133.046875 143.734375 126.648438 143.734375 126.648438 139.464844 C 126.648438 135.199219 133.046875 135.199219 133.046875 139.464844 \"/>\n",
       "</g>\n",
       "<path style=\"fill:none;stroke-width:1;stroke-linecap:round;stroke-linejoin:round;stroke:rgb(0%,0%,0%);stroke-opacity:1;stroke-miterlimit:10;\" d=\"M 196.496094 86.578125 C 196.496094 90.84375 190.097656 90.84375 190.097656 86.578125 C 190.097656 82.3125 196.496094 82.3125 196.496094 86.578125 \"/>\n",
       "<path style=\"fill:none;stroke-width:1;stroke-linecap:round;stroke-linejoin:round;stroke:rgb(0%,0%,0%);stroke-opacity:1;stroke-miterlimit:10;\" d=\"M 253.601562 116.355469 C 253.601562 120.621094 247.199219 120.621094 247.199219 116.355469 C 247.199219 112.089844 253.601562 112.089844 253.601562 116.355469 \"/>\n",
       "<path style=\"fill:none;stroke-width:1;stroke-linecap:round;stroke-linejoin:round;stroke:rgb(0%,0%,0%);stroke-opacity:1;stroke-miterlimit:10;\" d=\"M 215.53125 75.464844 C 215.53125 79.734375 209.132812 79.734375 209.132812 75.464844 C 209.132812 71.199219 215.53125 71.199219 215.53125 75.464844 \"/>\n",
       "<g clip-path=\"url(#clip24)\" clip-rule=\"nonzero\">\n",
       "<path style=\"fill:none;stroke-width:1;stroke-linecap:round;stroke-linejoin:round;stroke:rgb(0%,0%,0%);stroke-opacity:1;stroke-miterlimit:10;\" d=\"M 253.601562 63.464844 C 253.601562 67.734375 247.199219 67.734375 247.199219 63.464844 C 247.199219 59.199219 253.601562 59.199219 253.601562 63.464844 \"/>\n",
       "</g>\n",
       "<path style=\"fill:none;stroke-width:1;stroke-linecap:round;stroke-linejoin:round;stroke:rgb(0%,0%,0%);stroke-opacity:1;stroke-miterlimit:10;\" d=\"M 152.082031 126.578125 C 152.082031 130.84375 145.683594 130.84375 145.683594 126.578125 C 145.683594 122.3125 152.082031 122.3125 152.082031 126.578125 \"/>\n",
       "<path style=\"fill:none;stroke-width:1;stroke-linecap:round;stroke-linejoin:round;stroke:rgb(0%,0%,0%);stroke-opacity:1;stroke-miterlimit:10;\" d=\"M 164.773438 95.464844 C 164.773438 99.734375 158.371094 99.734375 158.371094 95.464844 C 158.371094 91.199219 164.773438 91.199219 164.773438 95.464844 \"/>\n",
       "<path style=\"fill:none;stroke-width:1;stroke-linecap:round;stroke-linejoin:round;stroke:rgb(0%,0%,0%);stroke-opacity:1;stroke-miterlimit:10;\" d=\"M 177.460938 99.464844 C 177.460938 103.734375 171.0625 103.734375 171.0625 99.464844 C 171.0625 95.199219 177.460938 95.199219 177.460938 99.464844 \"/>\n",
       "<path style=\"fill:none;stroke-width:1;stroke-linecap:round;stroke-linejoin:round;stroke:rgb(0%,0%,0%);stroke-opacity:1;stroke-miterlimit:10;\" d=\"M 145.738281 103.464844 C 145.738281 107.734375 139.339844 107.734375 139.339844 103.464844 C 139.339844 99.199219 145.738281 99.199219 145.738281 103.464844 \"/>\n",
       "<path style=\"fill:none;stroke-width:1;stroke-linecap:round;stroke-linejoin:round;stroke:rgb(0%,0%,0%);stroke-opacity:1;stroke-miterlimit:10;\" d=\"M 171.117188 84.355469 C 171.117188 88.621094 164.71875 88.621094 164.71875 84.355469 C 164.71875 80.089844 171.117188 80.089844 171.117188 84.355469 \"/>\n",
       "<path style=\"fill:none;stroke-width:1;stroke-linecap:round;stroke-linejoin:round;stroke:rgb(0%,0%,0%);stroke-opacity:1;stroke-miterlimit:10;\" d=\"M 228.21875 88.800781 C 228.21875 93.066406 221.820312 93.066406 221.820312 88.800781 C 221.820312 84.535156 228.21875 84.535156 228.21875 88.800781 \"/>\n",
       "<path style=\"fill:none;stroke-width:1;stroke-linecap:round;stroke-linejoin:round;stroke:rgb(0%,0%,0%);stroke-opacity:1;stroke-miterlimit:10;\" d=\"M 202.839844 93.246094 C 202.839844 97.511719 196.441406 97.511719 196.441406 93.246094 C 196.441406 88.976562 202.839844 88.976562 202.839844 93.246094 \"/>\n",
       "<path style=\"fill:none;stroke-width:1;stroke-linecap:round;stroke-linejoin:round;stroke:rgb(0%,0%,0%);stroke-opacity:1;stroke-miterlimit:10;\" d=\"M 209.1875 79.910156 C 209.1875 84.179688 202.785156 84.179688 202.785156 79.910156 C 202.785156 75.644531 209.1875 75.644531 209.1875 79.910156 \"/>\n",
       "<path style=\"fill:none;stroke-width:1;stroke-linecap:round;stroke-linejoin:round;stroke:rgb(0%,0%,0%);stroke-opacity:1;stroke-miterlimit:10;\" d=\"M 126.703125 99.910156 C 126.703125 104.179688 120.304688 104.179688 120.304688 99.910156 C 120.304688 95.644531 126.703125 95.644531 126.703125 99.910156 \"/>\n",
       "<g clip-path=\"url(#clip25)\" clip-rule=\"nonzero\">\n",
       "<path style=\"fill:none;stroke-width:1;stroke-linecap:round;stroke-linejoin:round;stroke:rgb(0%,0%,0%);stroke-opacity:1;stroke-miterlimit:10;\" d=\"M 215.53125 63.023438 C 215.53125 67.289062 209.132812 67.289062 209.132812 63.023438 C 209.132812 58.753906 215.53125 58.753906 215.53125 63.023438 \"/>\n",
       "</g>\n",
       "<path style=\"fill:none;stroke-width:1;stroke-linecap:round;stroke-linejoin:round;stroke:rgb(0%,0%,0%);stroke-opacity:1;stroke-miterlimit:10;\" d=\"M 69.601562 114.132812 C 69.601562 118.398438 63.199219 118.398438 63.199219 114.132812 C 63.199219 109.867188 69.601562 109.867188 69.601562 114.132812 \"/>\n",
       "<path style=\"fill:none;stroke-width:1;stroke-linecap:round;stroke-linejoin:round;stroke:rgb(0%,0%,0%);stroke-opacity:1;stroke-miterlimit:10;\" d=\"M 183.808594 86.132812 C 183.808594 90.398438 177.40625 90.398438 177.40625 86.132812 C 177.40625 81.867188 183.808594 81.867188 183.808594 86.132812 \"/>\n",
       "<path style=\"fill:none;stroke-width:1;stroke-linecap:round;stroke-linejoin:round;stroke:rgb(0%,0%,0%);stroke-opacity:1;stroke-miterlimit:10;\" d=\"M 171.117188 99.023438 C 171.117188 103.289062 164.71875 103.289062 164.71875 99.023438 C 164.71875 94.753906 171.117188 94.753906 171.117188 99.023438 \"/>\n",
       "<path style=\"fill:none;stroke-width:1;stroke-linecap:round;stroke-linejoin:round;stroke:rgb(0%,0%,0%);stroke-opacity:1;stroke-miterlimit:10;\" d=\"M 183.808594 83.910156 C 183.808594 88.179688 177.40625 88.179688 177.40625 83.910156 C 177.40625 79.644531 183.808594 79.644531 183.808594 83.910156 \"/>\n",
       "<path style=\"fill:none;stroke-width:1;stroke-linecap:round;stroke-linejoin:round;stroke:rgb(0%,0%,0%);stroke-opacity:1;stroke-miterlimit:10;\" d=\"M 171.117188 100.800781 C 171.117188 105.066406 164.71875 105.066406 164.71875 100.800781 C 164.71875 96.535156 171.117188 96.535156 171.117188 100.800781 \"/>\n",
       "<path style=\"fill:none;stroke-width:1;stroke-linecap:round;stroke-linejoin:round;stroke:rgb(0%,0%,0%);stroke-opacity:1;stroke-miterlimit:10;\" d=\"M 139.394531 107.464844 C 139.394531 111.734375 132.992188 111.734375 132.992188 107.464844 C 132.992188 103.199219 139.394531 103.199219 139.394531 107.464844 \"/>\n",
       "<g clip-path=\"url(#clip26)\" clip-rule=\"nonzero\">\n",
       "<path style=\"fill:none;stroke-width:1;stroke-linecap:round;stroke-linejoin:round;stroke:rgb(0%,0%,0%);stroke-opacity:1;stroke-miterlimit:10;\" d=\"M 177.460938 62.132812 C 177.460938 66.398438 171.0625 66.398438 171.0625 62.132812 C 171.0625 57.867188 177.460938 57.867188 177.460938 62.132812 \"/>\n",
       "</g>\n",
       "<path style=\"fill:none;stroke-width:1;stroke-linecap:round;stroke-linejoin:round;stroke:rgb(0%,0%,0%);stroke-opacity:1;stroke-miterlimit:10;\" d=\"M 209.1875 76.800781 C 209.1875 81.066406 202.785156 81.066406 202.785156 76.800781 C 202.785156 72.535156 209.1875 72.535156 209.1875 76.800781 \"/>\n",
       "<path style=\"fill:none;stroke-width:1;stroke-linecap:round;stroke-linejoin:round;stroke:rgb(0%,0%,0%);stroke-opacity:1;stroke-miterlimit:10;\" d=\"M 209.1875 72.355469 C 209.1875 76.621094 202.785156 76.621094 202.785156 72.355469 C 202.785156 68.089844 209.1875 68.089844 209.1875 72.355469 \"/>\n",
       "<path style=\"fill:none;stroke-width:1;stroke-linecap:round;stroke-linejoin:round;stroke:rgb(0%,0%,0%);stroke-opacity:1;stroke-miterlimit:10;\" d=\"M 164.773438 77.6875 C 164.773438 81.957031 158.371094 81.957031 158.371094 77.6875 C 158.371094 73.421875 164.773438 73.421875 164.773438 77.6875 \"/>\n",
       "<path style=\"fill:none;stroke-width:1;stroke-linecap:round;stroke-linejoin:round;stroke:rgb(0%,0%,0%);stroke-opacity:1;stroke-miterlimit:10;\" d=\"M 171.117188 86.132812 C 171.117188 90.398438 164.71875 90.398438 164.71875 86.132812 C 164.71875 81.867188 171.117188 81.867188 171.117188 86.132812 \"/>\n",
       "<path style=\"fill:none;stroke-width:1;stroke-linecap:round;stroke-linejoin:round;stroke:rgb(0%,0%,0%);stroke-opacity:1;stroke-miterlimit:10;\" d=\"M 94.980469 113.6875 C 94.980469 117.957031 88.578125 117.957031 88.578125 113.6875 C 88.578125 109.421875 94.980469 109.421875 94.980469 113.6875 \"/>\n",
       "<path style=\"fill:none;stroke-width:1;stroke-linecap:round;stroke-linejoin:round;stroke:rgb(0%,0%,0%);stroke-opacity:1;stroke-miterlimit:10;\" d=\"M 107.667969 106.578125 C 107.667969 110.84375 101.269531 110.84375 101.269531 106.578125 C 101.269531 102.3125 107.667969 102.3125 107.667969 106.578125 \"/>\n",
       "<path style=\"fill:none;stroke-width:1;stroke-linecap:round;stroke-linejoin:round;stroke:rgb(0%,0%,0%);stroke-opacity:1;stroke-miterlimit:10;\" d=\"M 247.253906 78.578125 C 247.253906 82.84375 240.855469 82.84375 240.855469 78.578125 C 240.855469 74.3125 247.253906 74.3125 247.253906 78.578125 \"/>\n",
       "<path style=\"fill:none;stroke-width:1;stroke-linecap:round;stroke-linejoin:round;stroke:rgb(0%,0%,0%);stroke-opacity:1;stroke-miterlimit:10;\" d=\"M 152.082031 75.023438 C 152.082031 79.289062 145.683594 79.289062 145.683594 75.023438 C 145.683594 70.753906 152.082031 70.753906 152.082031 75.023438 \"/>\n",
       "<path style=\"fill:none;stroke-width:1;stroke-linecap:round;stroke-linejoin:round;stroke:rgb(0%,0%,0%);stroke-opacity:1;stroke-miterlimit:10;\" d=\"M 171.117188 94.132812 C 171.117188 98.398438 164.71875 98.398438 164.71875 94.132812 C 164.71875 89.867188 171.117188 89.867188 171.117188 94.132812 \"/>\n",
       "<path style=\"fill:none;stroke-width:1;stroke-linecap:round;stroke-linejoin:round;stroke:rgb(0%,0%,0%);stroke-opacity:1;stroke-miterlimit:10;\" d=\"M 145.738281 100.355469 C 145.738281 104.621094 139.339844 104.621094 139.339844 100.355469 C 139.339844 96.089844 145.738281 96.089844 145.738281 100.355469 \"/>\n",
       "<path style=\"fill:none;stroke-width:1;stroke-linecap:round;stroke-linejoin:round;stroke:rgb(0%,0%,0%);stroke-opacity:1;stroke-miterlimit:10;\" d=\"M 145.738281 80.800781 C 145.738281 85.066406 139.339844 85.066406 139.339844 80.800781 C 139.339844 76.535156 145.738281 76.535156 145.738281 80.800781 \"/>\n",
       "<path style=\"fill:none;stroke-width:1;stroke-linecap:round;stroke-linejoin:round;stroke:rgb(0%,0%,0%);stroke-opacity:1;stroke-miterlimit:10;\" d=\"M 158.425781 106.132812 C 158.425781 110.398438 152.027344 110.398438 152.027344 106.132812 C 152.027344 101.867188 158.425781 101.867188 158.425781 106.132812 \"/>\n",
       "<path style=\"fill:none;stroke-width:1;stroke-linecap:round;stroke-linejoin:round;stroke:rgb(0%,0%,0%);stroke-opacity:1;stroke-miterlimit:10;\" d=\"M 133.046875 120.355469 C 133.046875 124.621094 126.648438 124.621094 126.648438 120.355469 C 126.648438 116.089844 133.046875 116.089844 133.046875 120.355469 \"/>\n",
       "<path style=\"fill:none;stroke-width:1;stroke-linecap:round;stroke-linejoin:round;stroke:rgb(0%,0%,0%);stroke-opacity:1;stroke-miterlimit:10;\" d=\"M 164.773438 119.910156 C 164.773438 124.179688 158.371094 124.179688 158.371094 119.910156 C 158.371094 115.644531 164.773438 115.644531 164.773438 119.910156 \"/>\n",
       "<path style=\"fill:none;stroke-width:1;stroke-linecap:round;stroke-linejoin:round;stroke:rgb(0%,0%,0%);stroke-opacity:1;stroke-miterlimit:10;\" d=\"M 215.53125 66.578125 C 215.53125 70.84375 209.132812 70.84375 209.132812 66.578125 C 209.132812 62.3125 215.53125 62.3125 215.53125 66.578125 \"/>\n",
       "<path style=\"fill:none;stroke-width:1;stroke-linecap:round;stroke-linejoin:round;stroke:rgb(0%,0%,0%);stroke-opacity:1;stroke-miterlimit:10;\" d=\"M 215.53125 92.800781 C 215.53125 97.066406 209.132812 97.066406 209.132812 92.800781 C 209.132812 88.535156 215.53125 88.535156 215.53125 92.800781 \"/>\n",
       "<path style=\"fill:none;stroke-width:1;stroke-linecap:round;stroke-linejoin:round;stroke:rgb(0%,0%,0%);stroke-opacity:1;stroke-miterlimit:10;\" d=\"M 177.460938 85.246094 C 177.460938 89.511719 171.0625 89.511719 171.0625 85.246094 C 171.0625 80.976562 177.460938 80.976562 177.460938 85.246094 \"/>\n",
       "<path style=\"fill:none;stroke-width:1;stroke-linecap:round;stroke-linejoin:round;stroke:rgb(0%,0%,0%);stroke-opacity:1;stroke-miterlimit:10;\" d=\"M 183.808594 91.464844 C 183.808594 95.734375 177.40625 95.734375 177.40625 91.464844 C 177.40625 87.199219 183.808594 87.199219 183.808594 91.464844 \"/>\n",
       "<path style=\"fill:none;stroke-width:1;stroke-linecap:round;stroke-linejoin:round;stroke:rgb(0%,0%,0%);stroke-opacity:1;stroke-miterlimit:10;\" d=\"M 158.425781 109.6875 C 158.425781 113.957031 152.027344 113.957031 152.027344 109.6875 C 152.027344 105.421875 158.425781 105.421875 158.425781 109.6875 \"/>\n",
       "<g clip-path=\"url(#clip27)\" clip-rule=\"nonzero\">\n",
       "<path style=\"fill:none;stroke-width:1;stroke-linecap:round;stroke-linejoin:round;stroke:rgb(0%,0%,0%);stroke-opacity:1;stroke-miterlimit:10;\" d=\"M 234.566406 62.132812 C 234.566406 66.398438 228.164062 66.398438 228.164062 62.132812 C 228.164062 57.867188 234.566406 57.867188 234.566406 62.132812 \"/>\n",
       "</g>\n",
       "<path style=\"fill:none;stroke-width:1;stroke-linecap:round;stroke-linejoin:round;stroke:rgb(0%,0%,0%);stroke-opacity:1;stroke-miterlimit:10;\" d=\"M 209.1875 80.355469 C 209.1875 84.621094 202.785156 84.621094 202.785156 80.355469 C 202.785156 76.089844 209.1875 76.089844 209.1875 80.355469 \"/>\n",
       "<path style=\"fill:none;stroke-width:1;stroke-linecap:round;stroke-linejoin:round;stroke:rgb(0%,0%,0%);stroke-opacity:1;stroke-miterlimit:10;\" d=\"M 133.046875 108.355469 C 133.046875 112.621094 126.648438 112.621094 126.648438 108.355469 C 126.648438 104.089844 133.046875 104.089844 133.046875 108.355469 \"/>\n",
       "<path style=\"fill:none;stroke-width:1;stroke-linecap:round;stroke-linejoin:round;stroke:rgb(0%,0%,0%);stroke-opacity:1;stroke-miterlimit:10;\" d=\"M 177.460938 87.464844 C 177.460938 91.734375 171.0625 91.734375 171.0625 87.464844 C 171.0625 83.199219 177.460938 83.199219 177.460938 87.464844 \"/>\n",
       "<path style=\"fill:none;stroke-width:1;stroke-linecap:round;stroke-linejoin:round;stroke:rgb(0%,0%,0%);stroke-opacity:1;stroke-miterlimit:10;\" d=\"M 145.738281 78.132812 C 145.738281 82.398438 139.339844 82.398438 139.339844 78.132812 C 139.339844 73.867188 145.738281 73.867188 145.738281 78.132812 \"/>\n",
       "<path style=\"fill:none;stroke-width:1;stroke-linecap:round;stroke-linejoin:round;stroke:rgb(0%,0%,0%);stroke-opacity:1;stroke-miterlimit:10;\" d=\"M 196.496094 75.023438 C 196.496094 79.289062 190.097656 79.289062 190.097656 75.023438 C 190.097656 70.753906 196.496094 70.753906 196.496094 75.023438 \"/>\n",
       "<path style=\"fill:none;stroke-width:1;stroke-linecap:round;stroke-linejoin:round;stroke:rgb(0%,0%,0%);stroke-opacity:1;stroke-miterlimit:10;\" d=\"M 164.773438 99.910156 C 164.773438 104.179688 158.371094 104.179688 158.371094 99.910156 C 158.371094 95.644531 164.773438 95.644531 164.773438 99.910156 \"/>\n",
       "<path style=\"fill:none;stroke-width:1;stroke-linecap:round;stroke-linejoin:round;stroke:rgb(0%,0%,0%);stroke-opacity:1;stroke-miterlimit:10;\" d=\"M 196.496094 102.578125 C 196.496094 106.84375 190.097656 106.84375 190.097656 102.578125 C 190.097656 98.3125 196.496094 98.3125 196.496094 102.578125 \"/>\n",
       "<path style=\"fill:none;stroke-width:1;stroke-linecap:round;stroke-linejoin:round;stroke:rgb(0%,0%,0%);stroke-opacity:1;stroke-miterlimit:10;\" d=\"M 171.117188 97.6875 C 171.117188 101.957031 164.71875 101.957031 164.71875 97.6875 C 164.71875 93.421875 171.117188 93.421875 171.117188 97.6875 \"/>\n",
       "<path style=\"fill:none;stroke-width:1;stroke-linecap:round;stroke-linejoin:round;stroke:rgb(0%,0%,0%);stroke-opacity:1;stroke-miterlimit:10;\" d=\"M 209.1875 85.6875 C 209.1875 89.957031 202.785156 89.957031 202.785156 85.6875 C 202.785156 81.421875 209.1875 81.421875 209.1875 85.6875 \"/>\n",
       "<path style=\"fill:none;stroke-width:1;stroke-linecap:round;stroke-linejoin:round;stroke:rgb(0%,0%,0%);stroke-opacity:1;stroke-miterlimit:10;\" d=\"M 158.425781 96.355469 C 158.425781 100.621094 152.027344 100.621094 152.027344 96.355469 C 152.027344 92.089844 158.425781 92.089844 158.425781 96.355469 \"/>\n",
       "<path style=\"fill:none;stroke-width:1;stroke-linecap:round;stroke-linejoin:round;stroke:rgb(0%,0%,0%);stroke-opacity:1;stroke-miterlimit:10;\" d=\"M 177.460938 122.132812 C 177.460938 126.398438 171.0625 126.398438 171.0625 122.132812 C 171.0625 117.867188 177.460938 117.867188 177.460938 122.132812 \"/>\n",
       "<path style=\"fill:none;stroke-width:1;stroke-linecap:round;stroke-linejoin:round;stroke:rgb(0%,0%,0%);stroke-opacity:1;stroke-miterlimit:10;\" d=\"M 158.425781 64.355469 C 158.425781 68.621094 152.027344 68.621094 152.027344 64.355469 C 152.027344 60.089844 158.425781 60.089844 158.425781 64.355469 \"/>\n",
       "<path style=\"fill:none;stroke-width:1;stroke-linecap:round;stroke-linejoin:round;stroke:rgb(0%,0%,0%);stroke-opacity:1;stroke-miterlimit:10;\" d=\"M 183.808594 103.910156 C 183.808594 108.179688 177.40625 108.179688 177.40625 103.910156 C 177.40625 99.644531 183.808594 99.644531 183.808594 103.910156 \"/>\n",
       "<path style=\"fill:none;stroke-width:1;stroke-linecap:round;stroke-linejoin:round;stroke:rgb(0%,0%,0%);stroke-opacity:1;stroke-miterlimit:10;\" d=\"M 164.773438 91.023438 C 164.773438 95.289062 158.371094 95.289062 158.371094 91.023438 C 158.371094 86.753906 164.773438 86.753906 164.773438 91.023438 \"/>\n",
       "<path style=\"fill:none;stroke-width:1;stroke-linecap:round;stroke-linejoin:round;stroke:rgb(0%,0%,0%);stroke-opacity:1;stroke-miterlimit:10;\" d=\"M 158.425781 105.246094 C 158.425781 109.511719 152.027344 109.511719 152.027344 105.246094 C 152.027344 100.976562 158.425781 100.976562 158.425781 105.246094 \"/>\n",
       "<path style=\"fill:none;stroke-width:1;stroke-linecap:round;stroke-linejoin:round;stroke:rgb(0%,0%,0%);stroke-opacity:1;stroke-miterlimit:10;\" d=\"M 190.152344 91.023438 C 190.152344 95.289062 183.75 95.289062 183.75 91.023438 C 183.75 86.753906 190.152344 86.753906 190.152344 91.023438 \"/>\n",
       "<path style=\"fill:none;stroke-width:1;stroke-linecap:round;stroke-linejoin:round;stroke:rgb(0%,0%,0%);stroke-opacity:1;stroke-miterlimit:10;\" d=\"M 183.808594 71.023438 C 183.808594 75.289062 177.40625 75.289062 177.40625 71.023438 C 177.40625 66.753906 183.808594 66.753906 183.808594 71.023438 \"/>\n",
       "<path style=\"fill:none;stroke-width:1;stroke-linecap:round;stroke-linejoin:round;stroke:rgb(0%,0%,0%);stroke-opacity:1;stroke-miterlimit:10;\" d=\"M 126.703125 90.578125 C 126.703125 94.84375 120.304688 94.84375 120.304688 90.578125 C 120.304688 86.3125 126.703125 86.3125 126.703125 90.578125 \"/>\n",
       "<path style=\"fill:none;stroke-width:1;stroke-linecap:round;stroke-linejoin:round;stroke:rgb(0%,0%,0%);stroke-opacity:1;stroke-miterlimit:10;\" d=\"M 196.496094 113.246094 C 196.496094 117.511719 190.097656 117.511719 190.097656 113.246094 C 190.097656 108.976562 196.496094 108.976562 196.496094 113.246094 \"/>\n",
       "<g clip-path=\"url(#clip28)\" clip-rule=\"nonzero\">\n",
       "<path style=\"fill:none;stroke-width:1;stroke-linecap:round;stroke-linejoin:round;stroke:rgb(0%,0%,0%);stroke-opacity:1;stroke-miterlimit:10;\" d=\"M 247.253906 62.132812 C 247.253906 66.398438 240.855469 66.398438 240.855469 62.132812 C 240.855469 57.867188 247.253906 57.867188 247.253906 62.132812 \"/>\n",
       "</g>\n",
       "<path style=\"fill:none;stroke-width:1;stroke-linecap:round;stroke-linejoin:round;stroke:rgb(0%,0%,0%);stroke-opacity:1;stroke-miterlimit:10;\" d=\"M 196.496094 87.464844 C 196.496094 91.734375 190.097656 91.734375 190.097656 87.464844 C 190.097656 83.199219 196.496094 83.199219 196.496094 87.464844 \"/>\n",
       "<path style=\"fill:none;stroke-width:1;stroke-linecap:round;stroke-linejoin:round;stroke:rgb(0%,0%,0%);stroke-opacity:1;stroke-miterlimit:10;\" d=\"M 183.808594 101.246094 C 183.808594 105.511719 177.40625 105.511719 177.40625 101.246094 C 177.40625 96.976562 183.808594 96.976562 183.808594 101.246094 \"/>\n",
       "<path style=\"fill:none;stroke-width:1;stroke-linecap:round;stroke-linejoin:round;stroke:rgb(0%,0%,0%);stroke-opacity:1;stroke-miterlimit:10;\" d=\"M 221.875 83.464844 C 221.875 87.734375 215.476562 87.734375 215.476562 83.464844 C 215.476562 79.199219 221.875 79.199219 221.875 83.464844 \"/>\n",
       "<path style=\"fill:none;stroke-width:1;stroke-linecap:round;stroke-linejoin:round;stroke:rgb(0%,0%,0%);stroke-opacity:1;stroke-miterlimit:10;\" d=\"M 171.117188 71.910156 C 171.117188 76.179688 164.71875 76.179688 164.71875 71.910156 C 164.71875 67.644531 171.117188 67.644531 171.117188 71.910156 \"/>\n",
       "<path style=\"fill:none;stroke-width:1;stroke-linecap:round;stroke-linejoin:round;stroke:rgb(0%,0%,0%);stroke-opacity:1;stroke-miterlimit:10;\" d=\"M 240.910156 115.023438 C 240.910156 119.289062 234.511719 119.289062 234.511719 115.023438 C 234.511719 110.753906 240.910156 110.753906 240.910156 115.023438 \"/>\n",
       "<path style=\"fill:none;stroke-width:1;stroke-linecap:round;stroke-linejoin:round;stroke:rgb(0%,0%,0%);stroke-opacity:1;stroke-miterlimit:10;\" d=\"M 221.875 94.578125 C 221.875 98.84375 215.476562 98.84375 215.476562 94.578125 C 215.476562 90.3125 221.875 90.3125 221.875 94.578125 \"/>\n",
       "<path style=\"fill:none;stroke-width:1;stroke-linecap:round;stroke-linejoin:round;stroke:rgb(0%,0%,0%);stroke-opacity:1;stroke-miterlimit:10;\" d=\"M 228.21875 92.800781 C 228.21875 97.066406 221.820312 97.066406 221.820312 92.800781 C 221.820312 88.535156 228.21875 88.535156 228.21875 92.800781 \"/>\n",
       "<path style=\"fill:none;stroke-width:1;stroke-linecap:round;stroke-linejoin:round;stroke:rgb(0%,0%,0%);stroke-opacity:1;stroke-miterlimit:10;\" d=\"M 177.460938 75.910156 C 177.460938 80.179688 171.0625 80.179688 171.0625 75.910156 C 171.0625 71.644531 177.460938 71.644531 177.460938 75.910156 \"/>\n",
       "<path style=\"fill:none;stroke-width:1;stroke-linecap:round;stroke-linejoin:round;stroke:rgb(0%,0%,0%);stroke-opacity:1;stroke-miterlimit:10;\" d=\"M 228.21875 64.800781 C 228.21875 69.066406 221.820312 69.066406 221.820312 64.800781 C 221.820312 60.535156 228.21875 60.535156 228.21875 64.800781 \"/>\n",
       "<g clip-path=\"url(#clip29)\" clip-rule=\"nonzero\">\n",
       "<path style=\"fill:none;stroke-width:1;stroke-linecap:round;stroke-linejoin:round;stroke:rgb(0%,0%,0%);stroke-opacity:1;stroke-miterlimit:10;\" d=\"M 164.773438 62.132812 C 164.773438 66.398438 158.371094 66.398438 158.371094 62.132812 C 158.371094 57.867188 164.773438 57.867188 164.773438 62.132812 \"/>\n",
       "</g>\n",
       "<path style=\"fill:none;stroke-width:1;stroke-linecap:round;stroke-linejoin:round;stroke:rgb(0%,0%,0%);stroke-opacity:1;stroke-miterlimit:10;\" d=\"M 171.117188 84.800781 C 171.117188 89.066406 164.71875 89.066406 164.71875 84.800781 C 164.71875 80.535156 171.117188 80.535156 171.117188 84.800781 \"/>\n",
       "<path style=\"fill:none;stroke-width:1;stroke-linecap:round;stroke-linejoin:round;stroke:rgb(0%,0%,0%);stroke-opacity:1;stroke-miterlimit:10;\" d=\"M 215.53125 100.355469 C 215.53125 104.621094 209.132812 104.621094 209.132812 100.355469 C 209.132812 96.089844 215.53125 96.089844 215.53125 100.355469 \"/>\n",
       "<path style=\"fill:none;stroke-width:1;stroke-linecap:round;stroke-linejoin:round;stroke:rgb(0%,0%,0%);stroke-opacity:1;stroke-miterlimit:10;\" d=\"M 145.738281 87.023438 C 145.738281 91.289062 139.339844 91.289062 139.339844 87.023438 C 139.339844 82.753906 145.738281 82.753906 145.738281 87.023438 \"/>\n",
       "<path style=\"fill:none;stroke-width:1;stroke-linecap:round;stroke-linejoin:round;stroke:rgb(0%,0%,0%);stroke-opacity:1;stroke-miterlimit:10;\" d=\"M 177.460938 90.578125 C 177.460938 94.84375 171.0625 94.84375 171.0625 90.578125 C 171.0625 86.3125 177.460938 86.3125 177.460938 90.578125 \"/>\n",
       "<path style=\"fill:none;stroke-width:1;stroke-linecap:round;stroke-linejoin:round;stroke:rgb(0%,0%,0%);stroke-opacity:1;stroke-miterlimit:10;\" d=\"M 152.082031 116.355469 C 152.082031 120.621094 145.683594 120.621094 145.683594 116.355469 C 145.683594 112.089844 152.082031 112.089844 152.082031 116.355469 \"/>\n",
       "<path style=\"fill:none;stroke-width:1;stroke-linecap:round;stroke-linejoin:round;stroke:rgb(0%,0%,0%);stroke-opacity:1;stroke-miterlimit:10;\" d=\"M 145.738281 109.6875 C 145.738281 113.957031 139.339844 113.957031 139.339844 109.6875 C 139.339844 105.421875 145.738281 105.421875 145.738281 109.6875 \"/>\n",
       "<path style=\"fill:none;stroke-width:1;stroke-linecap:round;stroke-linejoin:round;stroke:rgb(0%,0%,0%);stroke-opacity:1;stroke-miterlimit:10;\" d=\"M 196.496094 78.578125 C 196.496094 82.84375 190.097656 82.84375 190.097656 78.578125 C 190.097656 74.3125 196.496094 74.3125 196.496094 78.578125 \"/>\n",
       "<g clip-path=\"url(#clip30)\" clip-rule=\"nonzero\">\n",
       "<path style=\"fill:none;stroke-width:1;stroke-linecap:round;stroke-linejoin:round;stroke:rgb(0%,0%,0%);stroke-opacity:1;stroke-miterlimit:10;\" d=\"M 183.808594 62.132812 C 183.808594 66.398438 177.40625 66.398438 177.40625 62.132812 C 177.40625 57.867188 183.808594 57.867188 183.808594 62.132812 \"/>\n",
       "</g>\n",
       "<path style=\"fill:none;stroke-width:1;stroke-linecap:round;stroke-linejoin:round;stroke:rgb(0%,0%,0%);stroke-opacity:1;stroke-miterlimit:10;\" d=\"M 253.601562 67.023438 C 253.601562 71.289062 247.199219 71.289062 247.199219 67.023438 C 247.199219 62.753906 253.601562 62.753906 253.601562 67.023438 \"/>\n",
       "<path style=\"fill:none;stroke-width:1;stroke-linecap:round;stroke-linejoin:round;stroke:rgb(0%,0%,0%);stroke-opacity:1;stroke-miterlimit:10;\" d=\"M 171.117188 72.355469 C 171.117188 76.621094 164.71875 76.621094 164.71875 72.355469 C 164.71875 68.089844 171.117188 68.089844 171.117188 72.355469 \"/>\n",
       "<path style=\"fill:none;stroke-width:1;stroke-linecap:round;stroke-linejoin:round;stroke:rgb(0%,0%,0%);stroke-opacity:1;stroke-miterlimit:10;\" d=\"M 215.53125 72.800781 C 215.53125 77.066406 209.132812 77.066406 209.132812 72.800781 C 209.132812 68.535156 215.53125 68.535156 215.53125 72.800781 \"/>\n",
       "<path style=\"fill:none;stroke-width:1;stroke-linecap:round;stroke-linejoin:round;stroke:rgb(0%,0%,0%);stroke-opacity:1;stroke-miterlimit:10;\" d=\"M 215.53125 132.355469 C 215.53125 136.621094 209.132812 136.621094 209.132812 132.355469 C 209.132812 128.089844 215.53125 128.089844 215.53125 132.355469 \"/>\n",
       "<path style=\"fill:none;stroke-width:1;stroke-linecap:round;stroke-linejoin:round;stroke:rgb(0%,0%,0%);stroke-opacity:1;stroke-miterlimit:10;\" d=\"M 196.496094 90.132812 C 196.496094 94.398438 190.097656 94.398438 190.097656 90.132812 C 190.097656 85.867188 196.496094 85.867188 196.496094 90.132812 \"/>\n",
       "<path style=\"fill:none;stroke-width:1;stroke-linecap:round;stroke-linejoin:round;stroke:rgb(0%,0%,0%);stroke-opacity:1;stroke-miterlimit:10;\" d=\"M 177.460938 71.910156 C 177.460938 76.179688 171.0625 76.179688 171.0625 71.910156 C 171.0625 67.644531 177.460938 67.644531 177.460938 71.910156 \"/>\n",
       "<path style=\"fill:none;stroke-width:1;stroke-linecap:round;stroke-linejoin:round;stroke:rgb(0%,0%,0%);stroke-opacity:1;stroke-miterlimit:10;\" d=\"M 177.460938 84.800781 C 177.460938 89.066406 171.0625 89.066406 171.0625 84.800781 C 171.0625 80.535156 177.460938 80.535156 177.460938 84.800781 \"/>\n",
       "<path style=\"fill:none;stroke-width:1;stroke-linecap:round;stroke-linejoin:round;stroke:rgb(0%,0%,0%);stroke-opacity:1;stroke-miterlimit:10;\" d=\"M 196.496094 78.578125 C 196.496094 82.84375 190.097656 82.84375 190.097656 78.578125 C 190.097656 74.3125 196.496094 74.3125 196.496094 78.578125 \"/>\n",
       "<g clip-path=\"url(#clip31)\" clip-rule=\"nonzero\">\n",
       "<path style=\"fill:none;stroke-width:1;stroke-linecap:round;stroke-linejoin:round;stroke:rgb(0%,0%,0%);stroke-opacity:1;stroke-miterlimit:10;\" d=\"M 253.601562 62.132812 C 253.601562 66.398438 247.199219 66.398438 247.199219 62.132812 C 247.199219 57.867188 253.601562 57.867188 253.601562 62.132812 \"/>\n",
       "</g>\n",
       "<path style=\"fill:none;stroke-width:1;stroke-linecap:round;stroke-linejoin:round;stroke:rgb(0%,0%,0%);stroke-opacity:1;stroke-miterlimit:10;\" d=\"M 202.839844 101.246094 C 202.839844 105.511719 196.441406 105.511719 196.441406 101.246094 C 196.441406 96.976562 202.839844 96.976562 202.839844 101.246094 \"/>\n",
       "<path style=\"fill:none;stroke-width:1;stroke-linecap:round;stroke-linejoin:round;stroke:rgb(0%,0%,0%);stroke-opacity:1;stroke-miterlimit:10;\" d=\"M 171.117188 119.910156 C 171.117188 124.179688 164.71875 124.179688 164.71875 119.910156 C 164.71875 115.644531 171.117188 115.644531 171.117188 119.910156 \"/>\n",
       "<path style=\"fill:none;stroke-width:1;stroke-linecap:round;stroke-linejoin:round;stroke:rgb(0%,0%,0%);stroke-opacity:1;stroke-miterlimit:10;\" d=\"M 221.875 77.6875 C 221.875 81.957031 215.476562 81.957031 215.476562 77.6875 C 215.476562 73.421875 221.875 73.421875 221.875 77.6875 \"/>\n",
       "<path style=\"fill:none;stroke-width:1;stroke-linecap:round;stroke-linejoin:round;stroke:rgb(0%,0%,0%);stroke-opacity:1;stroke-miterlimit:10;\" d=\"M 171.117188 84.800781 C 171.117188 89.066406 164.71875 89.066406 164.71875 84.800781 C 164.71875 80.535156 171.117188 80.535156 171.117188 84.800781 \"/>\n",
       "<path style=\"fill:none;stroke-width:1;stroke-linecap:round;stroke-linejoin:round;stroke:rgb(0%,0%,0%);stroke-opacity:1;stroke-miterlimit:10;\" d=\"M 171.117188 83.910156 C 171.117188 88.179688 164.71875 88.179688 164.71875 83.910156 C 164.71875 79.644531 171.117188 79.644531 171.117188 83.910156 \"/>\n",
       "<g clip-path=\"url(#clip32)\" clip-rule=\"nonzero\">\n",
       "<path style=\"fill:none;stroke-width:1;stroke-linecap:round;stroke-linejoin:round;stroke:rgb(0%,0%,0%);stroke-opacity:1;stroke-miterlimit:10;\" d=\"M 209.1875 62.132812 C 209.1875 66.398438 202.785156 66.398438 202.785156 62.132812 C 202.785156 57.867188 209.1875 57.867188 209.1875 62.132812 \"/>\n",
       "</g>\n",
       "<path style=\"fill:none;stroke-width:1;stroke-linecap:round;stroke-linejoin:round;stroke:rgb(0%,0%,0%);stroke-opacity:1;stroke-miterlimit:10;\" d=\"M 152.082031 123.464844 C 152.082031 127.734375 145.683594 127.734375 145.683594 123.464844 C 145.683594 119.199219 152.082031 119.199219 152.082031 123.464844 \"/>\n",
       "<path style=\"fill:none;stroke-width:1;stroke-linecap:round;stroke-linejoin:round;stroke:rgb(0%,0%,0%);stroke-opacity:1;stroke-miterlimit:10;\" d=\"M 133.046875 105.6875 C 133.046875 109.957031 126.648438 109.957031 126.648438 105.6875 C 126.648438 101.421875 133.046875 101.421875 133.046875 105.6875 \"/>\n",
       "<path style=\"fill:none;stroke-width:1;stroke-linecap:round;stroke-linejoin:round;stroke:rgb(0%,0%,0%);stroke-opacity:1;stroke-miterlimit:10;\" d=\"M 234.566406 68.355469 C 234.566406 72.621094 228.164062 72.621094 228.164062 68.355469 C 228.164062 64.089844 234.566406 64.089844 234.566406 68.355469 \"/>\n",
       "<path style=\"fill:none;stroke-width:1;stroke-linecap:round;stroke-linejoin:round;stroke:rgb(0%,0%,0%);stroke-opacity:1;stroke-miterlimit:10;\" d=\"M 183.808594 90.578125 C 183.808594 94.84375 177.40625 94.84375 177.40625 90.578125 C 177.40625 86.3125 183.808594 86.3125 183.808594 90.578125 \"/>\n",
       "<path style=\"fill:none;stroke-width:1;stroke-linecap:round;stroke-linejoin:round;stroke:rgb(0%,0%,0%);stroke-opacity:1;stroke-miterlimit:10;\" d=\"M 202.839844 99.023438 C 202.839844 103.289062 196.441406 103.289062 196.441406 99.023438 C 196.441406 94.753906 202.839844 94.753906 202.839844 99.023438 \"/>\n",
       "<path style=\"fill:none;stroke-width:1;stroke-linecap:round;stroke-linejoin:round;stroke:rgb(0%,0%,0%);stroke-opacity:1;stroke-miterlimit:10;\" d=\"M 202.839844 83.910156 C 202.839844 88.179688 196.441406 88.179688 196.441406 83.910156 C 196.441406 79.644531 202.839844 79.644531 202.839844 83.910156 \"/>\n",
       "<path style=\"fill:none;stroke-width:1;stroke-linecap:round;stroke-linejoin:round;stroke:rgb(0%,0%,0%);stroke-opacity:1;stroke-miterlimit:10;\" d=\"M 253.601562 104.355469 C 253.601562 108.621094 247.199219 108.621094 247.199219 104.355469 C 247.199219 100.089844 253.601562 100.089844 253.601562 104.355469 \"/>\n",
       "<path style=\"fill:none;stroke-width:1;stroke-linecap:round;stroke-linejoin:round;stroke:rgb(0%,0%,0%);stroke-opacity:1;stroke-miterlimit:10;\" d=\"M 209.1875 67.464844 C 209.1875 71.734375 202.785156 71.734375 202.785156 67.464844 C 202.785156 63.199219 209.1875 63.199219 209.1875 67.464844 \"/>\n",
       "<path style=\"fill:none;stroke-width:1;stroke-linecap:round;stroke-linejoin:round;stroke:rgb(0%,0%,0%);stroke-opacity:1;stroke-miterlimit:10;\" d=\"M 190.152344 89.6875 C 190.152344 93.957031 183.75 93.957031 183.75 89.6875 C 183.75 85.421875 190.152344 85.421875 190.152344 89.6875 \"/>\n",
       "<path style=\"fill:none;stroke-width:1;stroke-linecap:round;stroke-linejoin:round;stroke:rgb(0%,0%,0%);stroke-opacity:1;stroke-miterlimit:10;\" d=\"M 196.496094 73.246094 C 196.496094 77.511719 190.097656 77.511719 190.097656 73.246094 C 190.097656 68.976562 196.496094 68.976562 196.496094 73.246094 \"/>\n",
       "<g clip-path=\"url(#clip33)\" clip-rule=\"nonzero\">\n",
       "<path style=\"fill:none;stroke-width:1;stroke-linecap:round;stroke-linejoin:round;stroke:rgb(0%,0%,0%);stroke-opacity:1;stroke-miterlimit:10;\" d=\"M 145.738281 62.578125 C 145.738281 66.84375 139.339844 66.84375 139.339844 62.578125 C 139.339844 58.3125 145.738281 58.3125 145.738281 62.578125 \"/>\n",
       "</g>\n",
       "<g clip-path=\"url(#clip34)\" clip-rule=\"nonzero\">\n",
       "<path style=\"fill:none;stroke-width:1;stroke-linecap:round;stroke-linejoin:round;stroke:rgb(0%,0%,0%);stroke-opacity:1;stroke-miterlimit:10;\" d=\"M 196.496094 62.132812 C 196.496094 66.398438 190.097656 66.398438 190.097656 62.132812 C 190.097656 57.867188 196.496094 57.867188 196.496094 62.132812 \"/>\n",
       "</g>\n",
       "<path style=\"fill:none;stroke-width:1;stroke-linecap:round;stroke-linejoin:round;stroke:rgb(0%,0%,0%);stroke-opacity:1;stroke-miterlimit:10;\" d=\"M 177.460938 104.800781 C 177.460938 109.066406 171.0625 109.066406 171.0625 104.800781 C 171.0625 100.535156 177.460938 100.535156 177.460938 104.800781 \"/>\n",
       "<path style=\"fill:none;stroke-width:1;stroke-linecap:round;stroke-linejoin:round;stroke:rgb(0%,0%,0%);stroke-opacity:1;stroke-miterlimit:10;\" d=\"M 145.738281 123.023438 C 145.738281 127.289062 139.339844 127.289062 139.339844 123.023438 C 139.339844 118.753906 145.738281 118.753906 145.738281 123.023438 \"/>\n",
       "<path style=\"fill:none;stroke-width:1;stroke-linecap:round;stroke-linejoin:round;stroke:rgb(0%,0%,0%);stroke-opacity:1;stroke-miterlimit:10;\" d=\"M 221.875 77.6875 C 221.875 81.957031 215.476562 81.957031 215.476562 77.6875 C 215.476562 73.421875 221.875 73.421875 221.875 77.6875 \"/>\n",
       "<path style=\"fill:none;stroke-width:1;stroke-linecap:round;stroke-linejoin:round;stroke:rgb(0%,0%,0%);stroke-opacity:1;stroke-miterlimit:10;\" d=\"M 190.152344 67.023438 C 190.152344 71.289062 183.75 71.289062 183.75 67.023438 C 183.75 62.753906 190.152344 62.753906 190.152344 67.023438 \"/>\n",
       "<path style=\"fill:none;stroke-width:1;stroke-linecap:round;stroke-linejoin:round;stroke:rgb(0%,0%,0%);stroke-opacity:1;stroke-miterlimit:10;\" d=\"M 73.109375 142.558594 L 256.34375 142.558594 \"/>\n",
       "<path style=\"fill:none;stroke-width:1;stroke-linecap:round;stroke-linejoin:round;stroke:rgb(0%,0%,0%);stroke-opacity:1;stroke-miterlimit:10;\" d=\"M 73.109375 142.558594 L 73.109375 149.761719 \"/>\n",
       "<path style=\"fill:none;stroke-width:1;stroke-linecap:round;stroke-linejoin:round;stroke:rgb(0%,0%,0%);stroke-opacity:1;stroke-miterlimit:10;\" d=\"M 109.757812 142.558594 L 109.757812 149.761719 \"/>\n",
       "<path style=\"fill:none;stroke-width:1;stroke-linecap:round;stroke-linejoin:round;stroke:rgb(0%,0%,0%);stroke-opacity:1;stroke-miterlimit:10;\" d=\"M 146.402344 142.558594 L 146.402344 149.761719 \"/>\n",
       "<path style=\"fill:none;stroke-width:1;stroke-linecap:round;stroke-linejoin:round;stroke:rgb(0%,0%,0%);stroke-opacity:1;stroke-miterlimit:10;\" d=\"M 183.050781 142.558594 L 183.050781 149.761719 \"/>\n",
       "<path style=\"fill:none;stroke-width:1;stroke-linecap:round;stroke-linejoin:round;stroke:rgb(0%,0%,0%);stroke-opacity:1;stroke-miterlimit:10;\" d=\"M 219.695312 142.558594 L 219.695312 149.761719 \"/>\n",
       "<path style=\"fill:none;stroke-width:1;stroke-linecap:round;stroke-linejoin:round;stroke:rgb(0%,0%,0%);stroke-opacity:1;stroke-miterlimit:10;\" d=\"M 256.34375 142.558594 L 256.34375 149.761719 \"/>\n",
       "<g style=\"fill:rgb(0%,0%,0%);fill-opacity:1;\">\n",
       "  <use xlink:href=\"#glyph0-1\" x=\"67.554688\" y=\"169.921875\"/>\n",
       "  <use xlink:href=\"#glyph0-2\" x=\"71.717209\" y=\"169.921875\"/>\n",
       "</g>\n",
       "<g style=\"fill:rgb(0%,0%,0%);fill-opacity:1;\">\n",
       "  <use xlink:href=\"#glyph0-1\" x=\"104.203125\" y=\"169.921875\"/>\n",
       "  <use xlink:href=\"#glyph0-3\" x=\"108.365646\" y=\"169.921875\"/>\n",
       "</g>\n",
       "<g style=\"fill:rgb(0%,0%,0%);fill-opacity:1;\">\n",
       "  <use xlink:href=\"#glyph0-1\" x=\"140.847656\" y=\"169.921875\"/>\n",
       "  <use xlink:href=\"#glyph0-4\" x=\"145.010178\" y=\"169.921875\"/>\n",
       "</g>\n",
       "<g style=\"fill:rgb(0%,0%,0%);fill-opacity:1;\">\n",
       "  <use xlink:href=\"#glyph0-5\" x=\"179.574219\" y=\"169.921875\"/>\n",
       "</g>\n",
       "<g style=\"fill:rgb(0%,0%,0%);fill-opacity:1;\">\n",
       "  <use xlink:href=\"#glyph0-4\" x=\"216.21875\" y=\"169.921875\"/>\n",
       "</g>\n",
       "<g style=\"fill:rgb(0%,0%,0%);fill-opacity:1;\">\n",
       "  <use xlink:href=\"#glyph0-3\" x=\"252.867188\" y=\"169.921875\"/>\n",
       "</g>\n",
       "<path style=\"fill:none;stroke-width:1;stroke-linecap:round;stroke-linejoin:round;stroke:rgb(0%,0%,0%);stroke-opacity:1;stroke-miterlimit:10;\" d=\"M 59.039062 139.992188 L 59.039062 72.335938 \"/>\n",
       "<path style=\"fill:none;stroke-width:1;stroke-linecap:round;stroke-linejoin:round;stroke:rgb(0%,0%,0%);stroke-opacity:1;stroke-miterlimit:10;\" d=\"M 59.039062 139.992188 L 51.839844 139.992188 \"/>\n",
       "<path style=\"fill:none;stroke-width:1;stroke-linecap:round;stroke-linejoin:round;stroke:rgb(0%,0%,0%);stroke-opacity:1;stroke-miterlimit:10;\" d=\"M 59.039062 123.078125 L 51.839844 123.078125 \"/>\n",
       "<path style=\"fill:none;stroke-width:1;stroke-linecap:round;stroke-linejoin:round;stroke:rgb(0%,0%,0%);stroke-opacity:1;stroke-miterlimit:10;\" d=\"M 59.039062 106.164062 L 51.839844 106.164062 \"/>\n",
       "<path style=\"fill:none;stroke-width:1;stroke-linecap:round;stroke-linejoin:round;stroke:rgb(0%,0%,0%);stroke-opacity:1;stroke-miterlimit:10;\" d=\"M 59.039062 89.25 L 51.839844 89.25 \"/>\n",
       "<path style=\"fill:none;stroke-width:1;stroke-linecap:round;stroke-linejoin:round;stroke:rgb(0%,0%,0%);stroke-opacity:1;stroke-miterlimit:10;\" d=\"M 59.039062 72.335938 L 51.839844 72.335938 \"/>\n",
       "<g style=\"fill:rgb(0%,0%,0%);fill-opacity:1;\">\n",
       "  <use xlink:href=\"#glyph1-1\" x=\"43.199219\" y=\"145.546875\"/>\n",
       "  <use xlink:href=\"#glyph1-2\" x=\"43.199219\" y=\"141.384354\"/>\n",
       "</g>\n",
       "<g style=\"fill:rgb(0%,0%,0%);fill-opacity:1;\">\n",
       "  <use xlink:href=\"#glyph1-1\" x=\"43.199219\" y=\"111.71875\"/>\n",
       "  <use xlink:href=\"#glyph1-3\" x=\"43.199219\" y=\"107.556229\"/>\n",
       "</g>\n",
       "<g style=\"fill:rgb(0%,0%,0%);fill-opacity:1;\">\n",
       "  <use xlink:href=\"#glyph1-3\" x=\"43.199219\" y=\"75.8125\"/>\n",
       "</g>\n",
       "<path style=\"fill:none;stroke-width:1;stroke-linecap:round;stroke-linejoin:round;stroke:rgb(0%,0%,0%);stroke-opacity:1;stroke-miterlimit:10;\" d=\"M 59.039062 142.558594 L 257.761719 142.558594 L 257.761719 59.039062 L 59.039062 59.039062 L 59.039062 142.558594 \"/>\n",
       "<g style=\"fill:rgb(0%,0%,0%);fill-opacity:1;\">\n",
       "  <use xlink:href=\"#glyph0-6\" x=\"141.375\" y=\"198.71875\"/>\n",
       "  <use xlink:href=\"#glyph0-7\" x=\"147.625031\" y=\"198.71875\"/>\n",
       "  <use xlink:href=\"#glyph0-8\" x=\"154.575058\" y=\"198.71875\"/>\n",
       "  <use xlink:href=\"#glyph0-9\" x=\"158.050064\" y=\"198.71875\"/>\n",
       "  <use xlink:href=\"#glyph0-10\" x=\"161.52507\" y=\"198.71875\"/>\n",
       "  <use xlink:href=\"#glyph0-4\" x=\"165.000076\" y=\"198.71875\"/>\n",
       "  <use xlink:href=\"#glyph0-11\" x=\"171.950104\" y=\"198.71875\"/>\n",
       "</g>\n",
       "<g style=\"fill:rgb(0%,0%,0%);fill-opacity:1;\">\n",
       "  <use xlink:href=\"#glyph1-4\" x=\"14.398438\" y=\"117.824219\"/>\n",
       "  <use xlink:href=\"#glyph1-5\" x=\"14.398438\" y=\"111.574188\"/>\n",
       "  <use xlink:href=\"#glyph1-6\" x=\"14.398438\" y=\"104.624161\"/>\n",
       "  <use xlink:href=\"#glyph1-7\" x=\"14.398438\" y=\"101.149155\"/>\n",
       "  <use xlink:href=\"#glyph1-8\" x=\"14.398438\" y=\"97.674149\"/>\n",
       "  <use xlink:href=\"#glyph1-9\" x=\"14.398438\" y=\"94.199142\"/>\n",
       "  <use xlink:href=\"#glyph1-10\" x=\"14.398438\" y=\"87.249115\"/>\n",
       "</g>\n",
       "</g>\n",
       "</svg>\n"
      ]
     },
     "metadata": {
      "image/svg+xml": {
       "isolated": true
      }
     },
     "output_type": "display_data"
    }
   ],
   "source": [
    "plot(xn[,1],xn[,2])"
   ]
  },
  {
   "cell_type": "markdown",
   "metadata": {},
   "source": [
    "question d"
   ]
  },
  {
   "cell_type": "code",
   "execution_count": 11,
   "metadata": {},
   "outputs": [],
   "source": [
    "s=svd(c)"
   ]
  },
  {
   "cell_type": "code",
   "execution_count": 12,
   "metadata": {},
   "outputs": [
    {
     "data": {
      "text/html": [
       "<ol class=list-inline>\n",
       "\t<li>1.38426587802085</li>\n",
       "\t<li>0.615734121979151</li>\n",
       "</ol>\n"
      ],
      "text/latex": [
       "\\begin{enumerate*}\n",
       "\\item 1.38426587802085\n",
       "\\item 0.615734121979151\n",
       "\\end{enumerate*}\n"
      ],
      "text/markdown": [
       "1. 1.38426587802085\n",
       "2. 0.615734121979151\n",
       "\n",
       "\n"
      ],
      "text/plain": [
       "[1] 1.3842659 0.6157341"
      ]
     },
     "metadata": {},
     "output_type": "display_data"
    }
   ],
   "source": [
    "#eigen values of c:\n",
    "s$d"
   ]
  },
  {
   "cell_type": "markdown",
   "metadata": {},
   "source": [
    "#eigen values are th variances of the two principal components. Sum of eigen values is 2"
   ]
  },
  {
   "cell_type": "markdown",
   "metadata": {},
   "source": [
    "question f"
   ]
  },
  {
   "cell_type": "code",
   "execution_count": 13,
   "metadata": {},
   "outputs": [],
   "source": [
    "xn.pca=prcomp(xn,center = T, scale. = T)"
   ]
  },
  {
   "cell_type": "code",
   "execution_count": 14,
   "metadata": {},
   "outputs": [],
   "source": [
    "p=predict(xn.pca)"
   ]
  },
  {
   "cell_type": "code",
   "execution_count": 15,
   "metadata": {},
   "outputs": [
    {
     "data": {
      "text/html": [
       "<ol class=list-inline>\n",
       "\t<li>8.58742330717144e-18</li>\n",
       "\t<li>1.22352215164989e-17</li>\n",
       "</ol>\n"
      ],
      "text/latex": [
       "\\begin{enumerate*}\n",
       "\\item 8.58742330717144e-18\n",
       "\\item 1.22352215164989e-17\n",
       "\\end{enumerate*}\n"
      ],
      "text/markdown": [
       "1. 8.58742330717144e-18\n",
       "2. 1.22352215164989e-17\n",
       "\n",
       "\n"
      ],
      "text/plain": [
       "[1] 8.587423e-18 1.223522e-17"
      ]
     },
     "metadata": {},
     "output_type": "display_data"
    }
   ],
   "source": [
    "mp=c(mean(p[,1]),mean(p[,2]))\n",
    "mp"
   ]
  },
  {
   "cell_type": "code",
   "execution_count": 16,
   "metadata": {},
   "outputs": [
    {
     "data": {
      "text/html": [
       "<ol class=list-inline>\n",
       "\t<li>1.38426587802085</li>\n",
       "\t<li>0.615734121979151</li>\n",
       "</ol>\n"
      ],
      "text/latex": [
       "\\begin{enumerate*}\n",
       "\\item 1.38426587802085\n",
       "\\item 0.615734121979151\n",
       "\\end{enumerate*}\n"
      ],
      "text/markdown": [
       "1. 1.38426587802085\n",
       "2. 0.615734121979151\n",
       "\n",
       "\n"
      ],
      "text/plain": [
       "[1] 1.3842659 0.6157341"
      ]
     },
     "metadata": {},
     "output_type": "display_data"
    }
   ],
   "source": [
    "vp=c(var(p[,1]),var(p[,2]))\n",
    "vp\n",
    "#this is the same value as the eigen values"
   ]
  },
  {
   "cell_type": "markdown",
   "metadata": {},
   "source": [
    "PROBLEM 2"
   ]
  },
  {
   "cell_type": "markdown",
   "metadata": {},
   "source": [
    "Question A"
   ]
  },
  {
   "cell_type": "code",
   "execution_count": 17,
   "metadata": {},
   "outputs": [
    {
     "data": {
      "text/html": [
       "'integer'"
      ],
      "text/latex": [
       "'integer'"
      ],
      "text/markdown": [
       "'integer'"
      ],
      "text/plain": [
       "[1] \"integer\""
      ]
     },
     "metadata": {},
     "output_type": "display_data"
    }
   ],
   "source": [
    "class(y)"
   ]
  },
  {
   "cell_type": "code",
   "execution_count": 18,
   "metadata": {},
   "outputs": [
    {
     "data": {
      "text/html": [
       "'factor'"
      ],
      "text/latex": [
       "'factor'"
      ],
      "text/markdown": [
       "'factor'"
      ],
      "text/plain": [
       "[1] \"factor\""
      ]
     },
     "metadata": {},
     "output_type": "display_data"
    }
   ],
   "source": [
    "y=as.factor(y)\n",
    "class(y)"
   ]
  },
  {
   "cell_type": "code",
   "execution_count": 19,
   "metadata": {},
   "outputs": [
    {
     "data": {
      "text/html": [
       "'numeric'"
      ],
      "text/latex": [
       "'numeric'"
      ],
      "text/markdown": [
       "'numeric'"
      ],
      "text/plain": [
       "[1] \"numeric\""
      ]
     },
     "metadata": {},
     "output_type": "display_data"
    }
   ],
   "source": [
    "class(xn[,1])"
   ]
  },
  {
   "cell_type": "code",
   "execution_count": 20,
   "metadata": {},
   "outputs": [
    {
     "data": {
      "text/plain": [
       "\n",
       "Call:\n",
       "glm(formula = y ~ xn[, 1] + xn[, 2], family = binomial(\"logit\"))\n",
       "\n",
       "Deviance Residuals: \n",
       "    Min       1Q   Median       3Q      Max  \n",
       "-1.2730  -0.8988  -0.7206   1.3013   2.0620  \n",
       "\n",
       "Coefficients:\n",
       "            Estimate Std. Error z value Pr(>|z|)    \n",
       "(Intercept)  -0.8098     0.1120  -7.233 4.74e-13 ***\n",
       "xn[, 1]       0.3108     0.1222   2.544   0.0109 *  \n",
       "xn[, 2]       0.2872     0.1216   2.361   0.0182 *  \n",
       "---\n",
       "Signif. codes:  0 ‘***’ 0.001 ‘**’ 0.01 ‘*’ 0.05 ‘.’ 0.1 ‘ ’ 1\n",
       "\n",
       "(Dispersion parameter for binomial family taken to be 1)\n",
       "\n",
       "    Null deviance: 499.98  on 399  degrees of freedom\n",
       "Residual deviance: 480.34  on 397  degrees of freedom\n",
       "AIC: 486.34\n",
       "\n",
       "Number of Fisher Scoring iterations: 4\n"
      ]
     },
     "metadata": {},
     "output_type": "display_data"
    }
   ],
   "source": [
    "model_1=glm(y~xn[,1]+xn[,2],family=\"binomial\"(\"logit\"))\n",
    "summary(model_1)"
   ]
  },
  {
   "cell_type": "markdown",
   "metadata": {},
   "source": [
    "All p-values are less that 0.05. This means all coefficients are significant"
   ]
  },
  {
   "cell_type": "code",
   "execution_count": 21,
   "metadata": {},
   "outputs": [
    {
     "data": {
      "text/html": [
       "<dl class=dl-horizontal>\n",
       "\t<dt>(Intercept)</dt>\n",
       "\t\t<dd>-0.809750340245476</dd>\n",
       "\t<dt>xn[, 1]</dt>\n",
       "\t\t<dd>0.310818449479334</dd>\n",
       "\t<dt>xn[, 2]</dt>\n",
       "\t\t<dd>0.287208740365638</dd>\n",
       "</dl>\n"
      ],
      "text/latex": [
       "\\begin{description*}\n",
       "\\item[(Intercept)] -0.809750340245476\n",
       "\\item[xn\\{{[}\\}, 1\\{{]}\\}] 0.310818449479334\n",
       "\\item[xn\\{{[}\\}, 2\\{{]}\\}] 0.287208740365638\n",
       "\\end{description*}\n"
      ],
      "text/markdown": [
       "(Intercept)\n",
       ":   -0.809750340245476xn[, 1]\n",
       ":   0.310818449479334xn[, 2]\n",
       ":   0.287208740365638\n",
       "\n"
      ],
      "text/plain": [
       "(Intercept)     xn[, 1]     xn[, 2] \n",
       " -0.8097503   0.3108184   0.2872087 "
      ]
     },
     "metadata": {},
     "output_type": "display_data"
    }
   ],
   "source": [
    "f=coef(model_1)\n",
    "f"
   ]
  },
  {
   "cell_type": "code",
   "execution_count": 22,
   "metadata": {},
   "outputs": [
    {
     "data": {
      "text/html": [
       "<dl class=dl-horizontal>\n",
       "\t<dt>1</dt>\n",
       "\t\t<dd>-1.20249874612975</dd>\n",
       "\t<dt>2</dt>\n",
       "\t\t<dd>-0.403826127902121</dd>\n",
       "\t<dt>3</dt>\n",
       "\t\t<dd>0.221916238000524</dd>\n",
       "\t<dt>4</dt>\n",
       "\t\t<dd>-0.819889490683529</dd>\n",
       "\t<dt>5</dt>\n",
       "\t\t<dd>-1.3389901047495</dd>\n",
       "\t<dt>6</dt>\n",
       "\t\t<dd>-0.640397961800803</dd>\n",
       "</dl>\n"
      ],
      "text/latex": [
       "\\begin{description*}\n",
       "\\item[1] -1.20249874612975\n",
       "\\item[2] -0.403826127902121\n",
       "\\item[3] 0.221916238000524\n",
       "\\item[4] -0.819889490683529\n",
       "\\item[5] -1.3389901047495\n",
       "\\item[6] -0.640397961800803\n",
       "\\end{description*}\n"
      ],
      "text/markdown": [
       "1\n",
       ":   -1.202498746129752\n",
       ":   -0.4038261279021213\n",
       ":   0.2219162380005244\n",
       ":   -0.8198894906835295\n",
       ":   -1.33899010474956\n",
       ":   -0.640397961800803\n",
       "\n"
      ],
      "text/plain": [
       "         1          2          3          4          5          6 \n",
       "-1.2024987 -0.4038261  0.2219162 -0.8198895 -1.3389901 -0.6403980 "
      ]
     },
     "metadata": {},
     "output_type": "display_data"
    }
   ],
   "source": [
    "#question b\n",
    "p1=predict(model_1)\n",
    "head(p1)"
   ]
  },
  {
   "cell_type": "code",
   "execution_count": 23,
   "metadata": {},
   "outputs": [
    {
     "data": {
      "text/html": [
       "<dl class=dl-horizontal>\n",
       "\t<dt>1</dt>\n",
       "\t\t<dd>0</dd>\n",
       "\t<dt>2</dt>\n",
       "\t\t<dd>0</dd>\n",
       "\t<dt>3</dt>\n",
       "\t\t<dd>0</dd>\n",
       "\t<dt>4</dt>\n",
       "\t\t<dd>0</dd>\n",
       "\t<dt>5</dt>\n",
       "\t\t<dd>0</dd>\n",
       "\t<dt>6</dt>\n",
       "\t\t<dd>0</dd>\n",
       "</dl>\n"
      ],
      "text/latex": [
       "\\begin{description*}\n",
       "\\item[1] 0\n",
       "\\item[2] 0\n",
       "\\item[3] 0\n",
       "\\item[4] 0\n",
       "\\item[5] 0\n",
       "\\item[6] 0\n",
       "\\end{description*}\n"
      ],
      "text/markdown": [
       "1\n",
       ":   02\n",
       ":   03\n",
       ":   04\n",
       ":   05\n",
       ":   06\n",
       ":   0\n",
       "\n"
      ],
      "text/plain": [
       "1 2 3 4 5 6 \n",
       "0 0 0 0 0 0 "
      ]
     },
     "metadata": {},
     "output_type": "display_data"
    }
   ],
   "source": [
    "#we are converting probalities that are greater that 0.5 to 1\n",
    "admit_h=ifelse(p1>0.5,1,0)\n",
    "head(admit_h)"
   ]
  },
  {
   "cell_type": "code",
   "execution_count": 24,
   "metadata": {},
   "outputs": [
    {
     "data": {
      "text/html": [
       "'factor'"
      ],
      "text/latex": [
       "'factor'"
      ],
      "text/markdown": [
       "'factor'"
      ],
      "text/plain": [
       "[1] \"factor\""
      ]
     },
     "metadata": {},
     "output_type": "display_data"
    }
   ],
   "source": [
    "#question C\n",
    "admit_h=as.factor(admit_h)\n",
    "class(admit_h)"
   ]
  },
  {
   "cell_type": "code",
   "execution_count": 25,
   "metadata": {},
   "outputs": [
    {
     "data": {
      "text/plain": [
       "   admit_h\n",
       "y     0\n",
       "  0 273\n",
       "  1 127"
      ]
     },
     "metadata": {},
     "output_type": "display_data"
    }
   ],
   "source": [
    "# show condusion matrix\n",
    "conf_mat=table(y, admit_h)\n",
    "conf_mat"
   ]
  },
  {
   "cell_type": "code",
   "execution_count": 26,
   "metadata": {},
   "outputs": [
    {
     "data": {
      "text/html": [
       "0.6825"
      ],
      "text/latex": [
       "0.6825"
      ],
      "text/markdown": [
       "0.6825"
      ],
      "text/plain": [
       "[1] 0.6825"
      ]
     },
     "metadata": {},
     "output_type": "display_data"
    }
   ],
   "source": [
    "acc=sum(diag(conf_mat))/sum(conf_mat)\n",
    "acc"
   ]
  },
  {
   "cell_type": "code",
   "execution_count": 27,
   "metadata": {},
   "outputs": [
    {
     "data": {
      "text/html": [
       "0.3175"
      ],
      "text/latex": [
       "0.3175"
      ],
      "text/markdown": [
       "0.3175"
      ],
      "text/plain": [
       "[1] 0.3175"
      ]
     },
     "metadata": {},
     "output_type": "display_data"
    }
   ],
   "source": [
    "pmc=1-acc\n",
    "pmc"
   ]
  },
  {
   "cell_type": "markdown",
   "metadata": {},
   "source": [
    "PROBLEM 3\n",
    "Q3"
   ]
  },
  {
   "cell_type": "code",
   "execution_count": 28,
   "metadata": {},
   "outputs": [
    {
     "data": {
      "text/html": [
       "'factor'"
      ],
      "text/latex": [
       "'factor'"
      ],
      "text/markdown": [
       "'factor'"
      ],
      "text/plain": [
       "[1] \"factor\""
      ]
     },
     "metadata": {},
     "output_type": "display_data"
    },
    {
     "data": {
      "text/html": [
       "'numeric'"
      ],
      "text/latex": [
       "'numeric'"
      ],
      "text/markdown": [
       "'numeric'"
      ],
      "text/plain": [
       "[1] \"numeric\""
      ]
     },
     "metadata": {},
     "output_type": "display_data"
    }
   ],
   "source": [
    "class(y)\n",
    "class(p[,1])"
   ]
  },
  {
   "cell_type": "code",
   "execution_count": 30,
   "metadata": {},
   "outputs": [],
   "source": [
    "model_2=glm(y~p[,1], family=\"binomial\"(\"logit\"))"
   ]
  },
  {
   "cell_type": "code",
   "execution_count": 31,
   "metadata": {},
   "outputs": [
    {
     "data": {
      "text/plain": [
       "\n",
       "Call:\n",
       "glm(formula = y ~ p[, 1], family = binomial(\"logit\"))\n",
       "\n",
       "Deviance Residuals: \n",
       "    Min       1Q   Median       3Q      Max  \n",
       "-1.2717  -0.8969  -0.7178   1.2991   2.0567  \n",
       "\n",
       "Coefficients:\n",
       "            Estimate Std. Error z value Pr(>|z|)    \n",
       "(Intercept) -0.80973    0.11196  -7.233 4.74e-13 ***\n",
       "p[, 1]       0.42283    0.09911   4.266 1.99e-05 ***\n",
       "---\n",
       "Signif. codes:  0 ‘***’ 0.001 ‘**’ 0.01 ‘*’ 0.05 ‘.’ 0.1 ‘ ’ 1\n",
       "\n",
       "(Dispersion parameter for binomial family taken to be 1)\n",
       "\n",
       "    Null deviance: 499.98  on 399  degrees of freedom\n",
       "Residual deviance: 480.36  on 398  degrees of freedom\n",
       "AIC: 484.36\n",
       "\n",
       "Number of Fisher Scoring iterations: 4\n"
      ]
     },
     "metadata": {},
     "output_type": "display_data"
    }
   ],
   "source": [
    "summary(model_2)"
   ]
  },
  {
   "cell_type": "code",
   "execution_count": 32,
   "metadata": {},
   "outputs": [],
   "source": [
    "# all coeficients are significant because p-values are less that 0.05"
   ]
  },
  {
   "cell_type": "code",
   "execution_count": 33,
   "metadata": {},
   "outputs": [
    {
     "data": {
      "text/html": [
       "<dl class=dl-horizontal>\n",
       "\t<dt>(Intercept)</dt>\n",
       "\t\t<dd>-0.809750340245476</dd>\n",
       "\t<dt>xn[, 1]</dt>\n",
       "\t\t<dd>0.310818449479334</dd>\n",
       "\t<dt>xn[, 2]</dt>\n",
       "\t\t<dd>0.287208740365638</dd>\n",
       "</dl>\n"
      ],
      "text/latex": [
       "\\begin{description*}\n",
       "\\item[(Intercept)] -0.809750340245476\n",
       "\\item[xn\\{{[}\\}, 1\\{{]}\\}] 0.310818449479334\n",
       "\\item[xn\\{{[}\\}, 2\\{{]}\\}] 0.287208740365638\n",
       "\\end{description*}\n"
      ],
      "text/markdown": [
       "(Intercept)\n",
       ":   -0.809750340245476xn[, 1]\n",
       ":   0.310818449479334xn[, 2]\n",
       ":   0.287208740365638\n",
       "\n"
      ],
      "text/plain": [
       "(Intercept)     xn[, 1]     xn[, 2] \n",
       " -0.8097503   0.3108184   0.2872087 "
      ]
     },
     "metadata": {},
     "output_type": "display_data"
    }
   ],
   "source": [
    "f2=coef(model_1)\n",
    "f2"
   ]
  },
  {
   "cell_type": "code",
   "execution_count": 34,
   "metadata": {},
   "outputs": [
    {
     "data": {
      "text/html": [
       "<dl class=dl-horizontal>\n",
       "\t<dt>1</dt>\n",
       "\t\t<dd>0.236062878831298</dd>\n",
       "\t<dt>2</dt>\n",
       "\t\t<dd>0.400702173460211</dd>\n",
       "\t<dt>3</dt>\n",
       "\t\t<dd>0.554550203428295</dd>\n",
       "\t<dt>4</dt>\n",
       "\t\t<dd>0.303347355274308</dd>\n",
       "\t<dt>5</dt>\n",
       "\t\t<dd>0.206482117553284</dd>\n",
       "\t<dt>6</dt>\n",
       "\t\t<dd>0.338476960536219</dd>\n",
       "</dl>\n"
      ],
      "text/latex": [
       "\\begin{description*}\n",
       "\\item[1] 0.236062878831298\n",
       "\\item[2] 0.400702173460211\n",
       "\\item[3] 0.554550203428295\n",
       "\\item[4] 0.303347355274308\n",
       "\\item[5] 0.206482117553284\n",
       "\\item[6] 0.338476960536219\n",
       "\\end{description*}\n"
      ],
      "text/markdown": [
       "1\n",
       ":   0.2360628788312982\n",
       ":   0.4007021734602113\n",
       ":   0.5545502034282954\n",
       ":   0.3033473552743085\n",
       ":   0.2064821175532846\n",
       ":   0.338476960536219\n",
       "\n"
      ],
      "text/plain": [
       "        1         2         3         4         5         6 \n",
       "0.2360629 0.4007022 0.5545502 0.3033474 0.2064821 0.3384770 "
      ]
     },
     "metadata": {},
     "output_type": "display_data"
    }
   ],
   "source": [
    "#question B\n",
    "p2=predict(model_2,type = 'response')\n",
    "head(p2)"
   ]
  },
  {
   "cell_type": "code",
   "execution_count": 36,
   "metadata": {},
   "outputs": [
    {
     "data": {
      "text/html": [
       "'numeric'"
      ],
      "text/latex": [
       "'numeric'"
      ],
      "text/markdown": [
       "'numeric'"
      ],
      "text/plain": [
       "[1] \"numeric\""
      ]
     },
     "metadata": {},
     "output_type": "display_data"
    }
   ],
   "source": [
    "#convert probabilities to 0's and 1's\n",
    "admit_h=ifelse(p2>0.5,1,0)\n",
    "class(admit_h)"
   ]
  },
  {
   "cell_type": "code",
   "execution_count": 37,
   "metadata": {},
   "outputs": [
    {
     "data": {
      "text/plain": [
       "   admit_h\n",
       "y     0   1\n",
       "  0 263  10\n",
       "  1 118   9"
      ]
     },
     "metadata": {},
     "output_type": "display_data"
    }
   ],
   "source": [
    "# question C\n",
    "conf=table(y,admit_h)\n",
    "conf"
   ]
  },
  {
   "cell_type": "code",
   "execution_count": 39,
   "metadata": {},
   "outputs": [
    {
     "data": {
      "text/html": [
       "0.68"
      ],
      "text/latex": [
       "0.68"
      ],
      "text/markdown": [
       "0.68"
      ],
      "text/plain": [
       "[1] 0.68"
      ]
     },
     "metadata": {},
     "output_type": "display_data"
    },
    {
     "data": {
      "text/html": [
       "0.3175"
      ],
      "text/latex": [
       "0.3175"
      ],
      "text/markdown": [
       "0.3175"
      ],
      "text/plain": [
       "[1] 0.3175"
      ]
     },
     "metadata": {},
     "output_type": "display_data"
    }
   ],
   "source": [
    "acc=sum(diag(conf))/sum(conf)\n",
    "acc\n",
    "pmc"
   ]
  },
  {
   "cell_type": "markdown",
   "metadata": {},
   "source": [
    "Probelm number 4\n",
    "two level uniform quantization"
   ]
  },
  {
   "cell_type": "code",
   "execution_count": 40,
   "metadata": {},
   "outputs": [
    {
     "data": {
      "text/html": [
       "-3.29110177483009"
      ],
      "text/latex": [
       "-3.29110177483009"
      ],
      "text/markdown": [
       "-3.29110177483009"
      ],
      "text/plain": [
       "[1] -3.291102"
      ]
     },
     "metadata": {},
     "output_type": "display_data"
    }
   ],
   "source": [
    "mx=min(p[,1])\n",
    "mx"
   ]
  },
  {
   "cell_type": "code",
   "execution_count": 43,
   "metadata": {},
   "outputs": [
    {
     "data": {
      "text/html": [
       "-2"
      ],
      "text/latex": [
       "-2"
      ],
      "text/markdown": [
       "-2"
      ],
      "text/plain": [
       "[1] -2"
      ]
     },
     "metadata": {},
     "output_type": "display_data"
    },
    {
     "data": {
      "text/html": [
       "2"
      ],
      "text/latex": [
       "2"
      ],
      "text/markdown": [
       "2"
      ],
      "text/plain": [
       "[1] 2"
      ]
     },
     "metadata": {},
     "output_type": "display_data"
    },
    {
     "data": {
      "text/html": [
       "'numeric'"
      ],
      "text/latex": [
       "'numeric'"
      ],
      "text/markdown": [
       "'numeric'"
      ],
      "text/plain": [
       "[1] \"numeric\""
      ]
     },
     "metadata": {},
     "output_type": "display_data"
    }
   ],
   "source": [
    "l=2\n",
    "q=(mx-mn+0.0001)/l\n",
    "p3=floor((p[,1]-mn)/q)\n",
    "min(p3)\n",
    "max(p3)\n",
    "class(p3)"
   ]
  },
  {
   "cell_type": "code",
   "execution_count": 44,
   "metadata": {},
   "outputs": [],
   "source": [
    "admit_h=as.factor(p3)"
   ]
  },
  {
   "cell_type": "code",
   "execution_count": 45,
   "metadata": {},
   "outputs": [
    {
     "data": {
      "text/plain": [
       "   admit_h\n",
       "y    -2  -1   0   1   2\n",
       "  0  19 101 121  31   1\n",
       "  1  15  67  40   5   0"
      ]
     },
     "metadata": {},
     "output_type": "display_data"
    }
   ],
   "source": [
    "conf=table(y,admit_h)\n",
    "conf"
   ]
  },
  {
   "cell_type": "code",
   "execution_count": 49,
   "metadata": {},
   "outputs": [
    {
     "data": {
      "text/html": [
       "0.215"
      ],
      "text/latex": [
       "0.215"
      ],
      "text/markdown": [
       "0.215"
      ],
      "text/plain": [
       "[1] 0.215"
      ]
     },
     "metadata": {},
     "output_type": "display_data"
    },
    {
     "data": {
      "text/html": [
       "0.54"
      ],
      "text/latex": [
       "0.54"
      ],
      "text/markdown": [
       "0.54"
      ],
      "text/plain": [
       "[1] 0.54"
      ]
     },
     "metadata": {},
     "output_type": "display_data"
    }
   ],
   "source": [
    "acc=sum(diag(conf))/sum(conf)\n",
    "acc\n",
    "(216/400)"
   ]
  },
  {
   "cell_type": "code",
   "execution_count": 50,
   "metadata": {},
   "outputs": [
    {
     "data": {
      "text/html": [
       "0.325"
      ],
      "text/latex": [
       "0.325"
      ],
      "text/markdown": [
       "0.325"
      ],
      "text/plain": [
       "[1] 0.325"
      ]
     },
     "metadata": {},
     "output_type": "display_data"
    }
   ],
   "source": [
    "0.54-acc"
   ]
  },
  {
   "cell_type": "markdown",
   "metadata": {},
   "source": [
    "#if we use the acc predictions of model 1 and 2 we see that they are the same. the acc using a 2 level quantization whoever cannot be used"
   ]
  },
  {
   "cell_type": "code",
   "execution_count": null,
   "metadata": {},
   "outputs": [],
   "source": []
  }
 ],
 "metadata": {
  "kernelspec": {
   "display_name": "R",
   "language": "R",
   "name": "r"
  },
  "language_info": {
   "codemirror_mode": "r",
   "file_extension": ".r",
   "mimetype": "text/x-r-source",
   "name": "R",
   "pygments_lexer": "r",
   "version": "3.4.1"
  }
 },
 "nbformat": 4,
 "nbformat_minor": 2
}
